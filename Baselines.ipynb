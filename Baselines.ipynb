{
 "cells": [
  {
   "cell_type": "code",
   "execution_count": 25,
   "metadata": {},
   "outputs": [],
   "source": [
    "import numpy as np\n",
    "import numpy.random as npr\n",
    "import pandas as pd\n",
    "import matplotlib.pyplot as plt\n",
    "import seaborn as sns\n",
    "%config InlineBackend.figure_format = 'retina'"
   ]
  },
  {
   "cell_type": "code",
   "execution_count": 26,
   "metadata": {},
   "outputs": [
    {
     "name": "stdout",
     "output_type": "stream",
     "text": [
      "The autoreload extension is already loaded. To reload it, use:\n",
      "  %reload_ext autoreload\n"
     ]
    }
   ],
   "source": [
    "%load_ext autoreload\n",
    "%autoreload 2"
   ]
  },
  {
   "cell_type": "code",
   "execution_count": 27,
   "metadata": {},
   "outputs": [
    {
     "data": {
      "text/html": [
       "<div>\n",
       "<style scoped>\n",
       "    .dataframe tbody tr th:only-of-type {\n",
       "        vertical-align: middle;\n",
       "    }\n",
       "\n",
       "    .dataframe tbody tr th {\n",
       "        vertical-align: top;\n",
       "    }\n",
       "\n",
       "    .dataframe thead th {\n",
       "        text-align: right;\n",
       "    }\n",
       "</style>\n",
       "<table border=\"1\" class=\"dataframe\">\n",
       "  <thead>\n",
       "    <tr style=\"text-align: right;\">\n",
       "      <th></th>\n",
       "      <th>Sequence</th>\n",
       "      <th>Mitochondrial Targeting Signal</th>\n",
       "      <th>Cdc28 Binding</th>\n",
       "    </tr>\n",
       "  </thead>\n",
       "  <tbody>\n",
       "    <tr>\n",
       "      <th>0</th>\n",
       "      <td>MPAVLRTRSKESSIEQKPASRTRTRSRRGKRGRDDDDDDDDEESDD...</td>\n",
       "      <td>1</td>\n",
       "      <td>0</td>\n",
       "    </tr>\n",
       "    <tr>\n",
       "      <th>1</th>\n",
       "      <td>EQKWQDEQELKKKEKELKRKNDAEAKRLRMEERKRQQMQKKIAKEQ...</td>\n",
       "      <td>0</td>\n",
       "      <td>0</td>\n",
       "    </tr>\n",
       "    <tr>\n",
       "      <th>2</th>\n",
       "      <td>IEKFKTKKIKAKLKADQKLNKEDAKPGSDVEKEVSFNPLF</td>\n",
       "      <td>0</td>\n",
       "      <td>0</td>\n",
       "    </tr>\n",
       "    <tr>\n",
       "      <th>3</th>\n",
       "      <td>MQKISKYSSMAILRKRPLVKTETGPESELLPEKRTKIKQEEVVPQPVD</td>\n",
       "      <td>0</td>\n",
       "      <td>0</td>\n",
       "    </tr>\n",
       "    <tr>\n",
       "      <th>4</th>\n",
       "      <td>RELNVEAEINVKHEEKTVEETMVKLENDISVKVED</td>\n",
       "      <td>0</td>\n",
       "      <td>0</td>\n",
       "    </tr>\n",
       "    <tr>\n",
       "      <th>...</th>\n",
       "      <td>...</td>\n",
       "      <td>...</td>\n",
       "      <td>...</td>\n",
       "    </tr>\n",
       "    <tr>\n",
       "      <th>5344</th>\n",
       "      <td>MSDYEEAFNDGNENFEDFDVEHFSDEETYEEKPQFKDGETTDANGK...</td>\n",
       "      <td>0</td>\n",
       "      <td>0</td>\n",
       "    </tr>\n",
       "    <tr>\n",
       "      <th>5345</th>\n",
       "      <td>PPEGHKKTEKETDIKDVDETNEDEVKDRVEDEVKDRVEDEVKDQDE...</td>\n",
       "      <td>0</td>\n",
       "      <td>0</td>\n",
       "    </tr>\n",
       "    <tr>\n",
       "      <th>5346</th>\n",
       "      <td>MDELLGEALSAENQTGESTVESEKLVTPEDVMTIS</td>\n",
       "      <td>0</td>\n",
       "      <td>0</td>\n",
       "    </tr>\n",
       "    <tr>\n",
       "      <th>5347</th>\n",
       "      <td>PLSDLKKRSQAKMNAKTDFAKIINKPNELSQILTVDPKT</td>\n",
       "      <td>0</td>\n",
       "      <td>0</td>\n",
       "    </tr>\n",
       "    <tr>\n",
       "      <th>5348</th>\n",
       "      <td>DNKKRSGSNAAASLPSKKLKTEDGFVIPALPAAVSKSLQESGDTQE...</td>\n",
       "      <td>0</td>\n",
       "      <td>0</td>\n",
       "    </tr>\n",
       "  </tbody>\n",
       "</table>\n",
       "<p>5340 rows × 3 columns</p>\n",
       "</div>"
      ],
      "text/plain": [
       "                                               Sequence  \\\n",
       "0     MPAVLRTRSKESSIEQKPASRTRTRSRRGKRGRDDDDDDDDEESDD...   \n",
       "1     EQKWQDEQELKKKEKELKRKNDAEAKRLRMEERKRQQMQKKIAKEQ...   \n",
       "2              IEKFKTKKIKAKLKADQKLNKEDAKPGSDVEKEVSFNPLF   \n",
       "3      MQKISKYSSMAILRKRPLVKTETGPESELLPEKRTKIKQEEVVPQPVD   \n",
       "4                   RELNVEAEINVKHEEKTVEETMVKLENDISVKVED   \n",
       "...                                                 ...   \n",
       "5344  MSDYEEAFNDGNENFEDFDVEHFSDEETYEEKPQFKDGETTDANGK...   \n",
       "5345  PPEGHKKTEKETDIKDVDETNEDEVKDRVEDEVKDRVEDEVKDQDE...   \n",
       "5346                MDELLGEALSAENQTGESTVESEKLVTPEDVMTIS   \n",
       "5347            PLSDLKKRSQAKMNAKTDFAKIINKPNELSQILTVDPKT   \n",
       "5348  DNKKRSGSNAAASLPSKKLKTEDGFVIPALPAAVSKSLQESGDTQE...   \n",
       "\n",
       "      Mitochondrial Targeting Signal  Cdc28 Binding  \n",
       "0                                  1              0  \n",
       "1                                  0              0  \n",
       "2                                  0              0  \n",
       "3                                  0              0  \n",
       "4                                  0              0  \n",
       "...                              ...            ...  \n",
       "5344                               0              0  \n",
       "5345                               0              0  \n",
       "5346                               0              0  \n",
       "5347                               0              0  \n",
       "5348                               0              0  \n",
       "\n",
       "[5340 rows x 3 columns]"
      ]
     },
     "execution_count": 27,
     "metadata": {},
     "output_type": "execute_result"
    }
   ],
   "source": [
    "mito_df = pd.read_csv('./data/mitochondria_targeting.csv')\n",
    "mito_df = mito_df[['Sequence','Mitochondrial Targeting Signal']].drop_duplicates(keep='first')\n",
    "cdc28_df = pd.read_csv('./data/cdc28_binding.csv')\n",
    "cdc28_df = cdc28_df[['Sequence','Cdc28 Binding']].drop_duplicates(keep='first')\n",
    "# seem to be same sequences.\n",
    "df = mito_df.merge(cdc28_df,on='Sequence',how='inner')\n",
    "# df = df.loc[df['Sequence'].map(len)<=50] # per the review from Kevin\n",
    "df = df.loc[df['Sequence'].map(len)<=1000]\n",
    "df"
   ]
  },
  {
   "cell_type": "code",
   "execution_count": 87,
   "metadata": {},
   "outputs": [],
   "source": [
    "from src.torch_helpers import NamedTensorDataset\n",
    "from src.datamodule import PeptideDataModule\n",
    "from src.constants import MSConstants\n",
    "\n",
    "C = MSConstants()\n",
    "\n",
    "dataset = NamedTensorDataset(\n",
    "    sequence=df['Sequence'],\n",
    "    x=df['Sequence'].map(lambda s: [C.alphabet.index(c) for c in s]),\n",
    "    x_mask=df['Sequence'].map(lambda s: [1]*len(s)),\n",
    "    y=df[['Mitochondrial Targeting Signal','Cdc28 Binding']].astype(np.int32).values\n",
    ")\n",
    "\n",
    "dm = PeptideDataModule(\n",
    "    dataset,\n",
    "    batch_size=256,\n",
    "    val_batch_size=1024,\n",
    "    train_val_split=0.8,\n",
    "    cdhit_threshold=0.5,\n",
    "    cdhit_word_length=3,\n",
    "    num_workers=4\n",
    ")"
   ]
  },
  {
   "cell_type": "code",
   "execution_count": 91,
   "metadata": {},
   "outputs": [],
   "source": [
    "import torch\n",
    "from src.baselines import CNNModel, CARPModel\n",
    "\n",
    "torch.manual_seed(0)\n",
    "\n",
    "# model = CNNModel(\n",
    "#     output_dim = len(dm.dataset[0]['y']),\n",
    "#     model_dim = 64,\n",
    "#     model_depth = 3,\n",
    "#     kernel_size = 3,\n",
    "#     num_residues = len(C.alphabet),\n",
    "#     dropout = 0.1,\n",
    "#     lr = 5e-4,\n",
    "#     balance_classes = True,\n",
    "#     output_weights = [0.5,0.5] # zero out for multitask\n",
    "# )\n",
    "\n",
    "model = CARPModel(\n",
    "    output_dim = 2,\n",
    "    fixed_weights = True,\n",
    "    lr = 5e-4,\n",
    "    balance_classes = True,\n",
    "    output_weights = [0,1],\n",
    ")"
   ]
  },
  {
   "cell_type": "code",
   "execution_count": 92,
   "metadata": {},
   "outputs": [],
   "source": [
    "!rm -rf ./lightning_logs/version_$SLURM_JOBID"
   ]
  },
  {
   "cell_type": "code",
   "execution_count": 93,
   "metadata": {},
   "outputs": [
    {
     "name": "stderr",
     "output_type": "stream",
     "text": [
      "GPU available: True, used: True\n",
      "TPU available: False, using: 0 TPU cores\n",
      "IPU available: False, using: 0 IPUs\n",
      "LOCAL_RANK: 0 - CUDA_VISIBLE_DEVICES: [GPU-34c7fac6-49db-54e7-42d2-e2206a453ab6]\n",
      "Set SLURM handle signals.\n",
      "\n",
      "  | Name       | Type       | Params\n",
      "------------------------------------------\n",
      "0 | encoder    | ByteNetLM  | 607 K \n",
      "1 | classifier | Sequential | 1.1 K \n",
      "------------------------------------------\n",
      "1.1 K     Trainable params\n",
      "607 K     Non-trainable params\n",
      "608 K     Total params\n",
      "2.435     Total estimated model params size (MB)\n"
     ]
    },
    {
     "name": "stdout",
     "output_type": "stream",
     "text": [
      "Epoch 99: 100%|██████████| 18/18 [00:03<00:00,  5.18it/s, loss=0.392, v_num=1.67e+7]\n"
     ]
    }
   ],
   "source": [
    "from pytorch_lightning import Trainer\n",
    "from src.torch_helpers import NoValProgressBar\n",
    "\n",
    "trainer = Trainer(\n",
    "    gpus=1,\n",
    "    precision=32,\n",
    "    max_epochs=100,\n",
    "    callbacks=[NoValProgressBar()]\n",
    ")\n",
    "\n",
    "trainer.fit(model, dm)"
   ]
  },
  {
   "cell_type": "code",
   "execution_count": 83,
   "metadata": {},
   "outputs": [],
   "source": [
    "#version = hparams['version']\n",
    "\n",
    "!mv ./lightning_logs/version_$SLURM_JOBID ./lightning_logs/temp"
   ]
  },
  {
   "cell_type": "code",
   "execution_count": 65,
   "metadata": {},
   "outputs": [
    {
     "data": {
      "image/png": "[encoded data removed]",
      "text/plain": [
       "<Figure size 288x288 with 2 Axes>"
      ]
     },
     "metadata": {
      "image/png": {
       "height": 248,
       "width": 251
      },
      "needs_background": "light"
     },
     "output_type": "display_data"
    },
    {
     "data": {
      "image/png": "[encoded data removed]",
      "text/plain": [
       "<Figure size 288x288 with 2 Axes>"
      ]
     },
     "metadata": {
      "image/png": {
       "height": 248,
       "width": 251
      },
      "needs_background": "light"
     },
     "output_type": "display_data"
    }
   ],
   "source": [
    "from sklearn.metrics import confusion_matrix\n",
    "\n",
    "for batch in dm.val_dataloader():\n",
    "    y_pred = model.predict_step(batch, 0).detach().cpu().numpy()\n",
    "    y = batch['y'].cpu().numpy()\n",
    "\n",
    "for k in range(y.shape[1]):\n",
    "    plt.figure(figsize=(4,4))\n",
    "    sns.heatmap(\n",
    "        confusion_matrix(y[:,k], y_pred[:,k]>0.5),\n",
    "        annot=True, fmt='d', cmap='Blues'\n",
    "    )"
   ]
  },
  {
   "cell_type": "markdown",
   "metadata": {},
   "source": [
    "# MON AM TODO\n",
    "\n",
    "- ***MS-MS transformer embeddings -> average pool -> clf***\n",
    "\n",
    "should really be cross validating here"
   ]
  }
 ],
 "metadata": {
  "kernelspec": {
   "display_name": "Python [conda env:.conda-MSPretraining]",
   "language": "python",
   "name": "conda-env-.conda-MSPretraining-py"
  },
  "language_info": {
   "codemirror_mode": {
    "name": "ipython",
    "version": 3
   },
   "file_extension": ".py",
   "mimetype": "text/x-python",
   "name": "python",
   "nbconvert_exporter": "python",
   "pygments_lexer": "ipython3",
   "version": "3.9.7"
  }
 },
 "nbformat": 4,
 "nbformat_minor": 4
}
