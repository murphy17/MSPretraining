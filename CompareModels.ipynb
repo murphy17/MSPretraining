{
 "cells": [
  {
   "cell_type": "code",
   "execution_count": 1,
   "metadata": {},
   "outputs": [],
   "source": [
    "import numpy as np\n",
    "import numpy.random as npr\n",
    "import pandas as pd\n",
    "import matplotlib.pyplot as plt\n",
    "import seaborn as sns\n",
    "%config InlineBackend.figure_format = 'retina'"
   ]
  },
  {
   "cell_type": "code",
   "execution_count": 2,
   "metadata": {},
   "outputs": [],
   "source": [
    "%load_ext autoreload\n",
    "%autoreload 2"
   ]
  },
  {
   "cell_type": "code",
   "execution_count": 3,
   "metadata": {},
   "outputs": [
    {
     "name": "stderr",
     "output_type": "stream",
     "text": [
      "/home/gridsan/mmurphy/.conda/envs/MSPretraining/lib/python3.9/site-packages/tqdm/auto.py:22: TqdmWarning: IProgress not found. Please update jupyter and ipywidgets. See https://ipywidgets.readthedocs.io/en/stable/user_install.html\n",
      "  from .autonotebook import tqdm as notebook_tqdm\n"
     ]
    }
   ],
   "source": [
    "import torch\n",
    "from src.baselines import CNNModel, CARPModel, MSModel, LinearModel\n",
    "from src.torch_helpers import NamedTensorDataset\n",
    "from src.datamodule import PeptideDataModule\n",
    "from pytorch_lightning import Trainer\n",
    "from src.torch_helpers import NoValProgressBar\n",
    "from src.constants import MSConstants\n",
    "C = MSConstants()\n",
    "\n",
    "torch.manual_seed(0);"
   ]
  },
  {
   "cell_type": "code",
   "execution_count": 4,
   "metadata": {},
   "outputs": [],
   "source": [
    "# from src.torch_helpers import start_tensorboard\n",
    "# start_tensorboard(login_node='login-2')"
   ]
  },
  {
   "cell_type": "code",
   "execution_count": 5,
   "metadata": {
    "jupyter": {
     "source_hidden": true
    }
   },
   "outputs": [],
   "source": [
    "# generate negatives by producing tons of shuffled sequences\n",
    "# then cluster, and only take clusters containing sufficiently many positives\n",
    "\n",
    "# from src.cdhit import CDHIT\n",
    "\n",
    "# def generate_negatives(sequences, num_shuffles=10, min_frac=0.1, random_state=0):\n",
    "#     pos_seqs = list(sequences)\n",
    "#     neg_seqs = []\n",
    "#     rng = npr.RandomState(random_state)\n",
    "#     for n in range(num_shuffles):\n",
    "#         neg_seqs += [''.join(rng.permutation(list(s))) for s in pos_seqs]\n",
    "\n",
    "#     seqs = np.array(pos_seqs + neg_seqs)\n",
    "#     ids = np.array([1]*len(pos_seqs) + [0]*len(neg_seqs))\n",
    "#     clusters = np.array(CDHIT(threshold=0.5,word_length=3).fit_predict(seqs))\n",
    "#     pos_frac = pd.DataFrame([clusters,ids],index=['clusters','ids']).T.groupby('clusters').mean()['ids']\n",
    "#     pos_clusters = set(pos_frac[pos_frac>min_frac].index)\n",
    "    \n",
    "#     pos_seqs = set(pos_seqs)\n",
    "#     negatives = [s for i,s,c in zip(ids,seqs,clusters) if i==0 and c in pos_clusters and s not in pos_seqs]\n",
    "    \n",
    "#     rng.shuffle(negatives)\n",
    "#     negatives = negatives[:len(sequences)]\n",
    "    \n",
    "#     assert len(negatives) == len(sequences)\n",
    "    \n",
    "#     return negatives"
   ]
  },
  {
   "cell_type": "markdown",
   "metadata": {},
   "source": [
    "# Datasets"
   ]
  },
  {
   "cell_type": "code",
   "execution_count": 6,
   "metadata": {},
   "outputs": [],
   "source": [
    "datasets = {}"
   ]
  },
  {
   "cell_type": "markdown",
   "metadata": {},
   "source": [
    "### Mitochondrial targeting"
   ]
  },
  {
   "cell_type": "code",
   "execution_count": 7,
   "metadata": {},
   "outputs": [
    {
     "data": {
      "text/plain": [
       "5349"
      ]
     },
     "execution_count": 7,
     "metadata": {},
     "output_type": "execute_result"
    }
   ],
   "source": [
    "df = pd.read_csv('./data/mitochondria_targeting.csv')\n",
    "df = df[['Sequence','Mitochondrial Targeting Signal']].drop_duplicates(keep='first')\n",
    "df = df.loc[df['Sequence'].map(lambda s: all([c==c.upper() and c in C.alphabet for c in s]))]\n",
    "df = df.sample(frac=1.,random_state=0)\n",
    "\n",
    "dataset = NamedTensorDataset(\n",
    "    sequence=df['Sequence'],\n",
    "    x=df['Sequence'].map(lambda s: [C.alphabet.index(c) for c in s]),\n",
    "    x_mask=df['Sequence'].map(lambda s: [1]*len(s)),\n",
    "    y=df[['Mitochondrial Targeting Signal']].astype(np.int32).values\n",
    ")\n",
    "\n",
    "datasets['mito'] = dataset\n",
    "\n",
    "len(dataset)"
   ]
  },
  {
   "cell_type": "markdown",
   "metadata": {},
   "source": [
    "### Cdc28 binding"
   ]
  },
  {
   "cell_type": "code",
   "execution_count": 8,
   "metadata": {},
   "outputs": [
    {
     "data": {
      "text/plain": [
       "5348"
      ]
     },
     "execution_count": 8,
     "metadata": {},
     "output_type": "execute_result"
    }
   ],
   "source": [
    "df = pd.read_csv('./data/cdc28_binding.csv')\n",
    "df = df[['Sequence','Cdc28 Binding']].drop_duplicates(keep='first')\n",
    "df = df.loc[df['Sequence'].map(lambda s: all([c==c.upper() and c in C.alphabet for c in s]))]\n",
    "df = df.sample(frac=1.,random_state=0)\n",
    "\n",
    "dataset = NamedTensorDataset(\n",
    "    sequence=df['Sequence'],\n",
    "    x=df['Sequence'].map(lambda s: [C.alphabet.index(c) for c in s]),\n",
    "    x_mask=df['Sequence'].map(lambda s: [1]*len(s)),\n",
    "    y=df[['Cdc28 Binding']].astype(np.int32).values\n",
    ")\n",
    "\n",
    "datasets['cdc28'] = dataset\n",
    "\n",
    "len(dataset)"
   ]
  },
  {
   "cell_type": "markdown",
   "metadata": {},
   "source": [
    "### Signal peptide"
   ]
  },
  {
   "cell_type": "code",
   "execution_count": 9,
   "metadata": {},
   "outputs": [
    {
     "data": {
      "text/plain": [
       "20290"
      ]
     },
     "execution_count": 9,
     "metadata": {},
     "output_type": "execute_result"
    }
   ],
   "source": [
    "with open('./data/train_set.fasta','r') as f:\n",
    "    fasta = [l.strip() for l in f]\n",
    "    df = pd.Series(fasta[::3]).str.extract(\n",
    "        '>(?P<uniprot>[^\\|]+)\\|(?P<kingdom>[^|]+)\\|(?P<type>[^|]+)\\|(?P<partition>[^|]+)'\n",
    "    )\n",
    "    df['sequence'] = fasta[1::3]\n",
    "    df['annotation'] = fasta[2::3]\n",
    "df = df.loc[df['sequence'].map(lambda s: all([c==c.upper() and c in C.alphabet for c in s]))]\n",
    "df = df.sample(frac=1.,random_state=0)\n",
    "\n",
    "dataset = NamedTensorDataset(\n",
    "    sequence=df['sequence'],\n",
    "    x=df['sequence'].map(lambda s: [C.alphabet.index(c) for c in s]),\n",
    "    x_mask=df['sequence'].map(lambda s: [1]*len(s)),\n",
    "    y=(df['type']!='NO_SP').values[:,None].astype(int)\n",
    ")\n",
    "\n",
    "datasets['signalp'] = dataset\n",
    "\n",
    "len(dataset)"
   ]
  },
  {
   "cell_type": "markdown",
   "metadata": {},
   "source": [
    "### HLA binding"
   ]
  },
  {
   "cell_type": "code",
   "execution_count": 10,
   "metadata": {},
   "outputs": [
    {
     "data": {
      "text/plain": [
       "11747"
      ]
     },
     "execution_count": 10,
     "metadata": {},
     "output_type": "execute_result"
    }
   ],
   "source": [
    "pos_seqs = !cat ./data/mlci2012/binding_HLA-A0201.txt\n",
    "neg_seqs = !cat ./data/mlci2012/nonbinding_HLA-A0201.txt\n",
    "df = pd.DataFrame({\n",
    "    'sequence': pos_seqs + neg_seqs,\n",
    "    'hla_binding': [1]*len(pos_seqs) + [0]*len(neg_seqs)\n",
    "})\n",
    "df = df.loc[df['sequence'].map(lambda s: all([c==c.upper() and c in C.alphabet for c in s]))]\n",
    "df = df.sample(frac=1.,random_state=0)\n",
    "\n",
    "dataset = NamedTensorDataset(\n",
    "    sequence=df['sequence'],\n",
    "    x=df['sequence'].map(lambda s: [C.alphabet.index(c) for c in s]),\n",
    "    x_mask=df['sequence'].map(lambda s: [1]*len(s)),\n",
    "    y=(df['hla_binding']).values[:,None].astype(int)\n",
    ")\n",
    "\n",
    "datasets['hla_a0201'] = dataset\n",
    "\n",
    "len(dataset)"
   ]
  },
  {
   "cell_type": "code",
   "execution_count": 11,
   "metadata": {},
   "outputs": [],
   "source": [
    "# pos_seqs = !cat ./data/mlci2012/binding_HLA-B0702.txt\n",
    "# neg_seqs = !cat ./data/mlci2012/nonbinding_HLA-B0702.txt\n",
    "# df = pd.DataFrame({\n",
    "#     'sequence': pos_seqs + neg_seqs,\n",
    "#     'hla_binding': [1]*len(pos_seqs) + [0]*len(neg_seqs)\n",
    "# })\n",
    "# df = df.loc[df['sequence'].map(lambda s: all([c==c.upper() and c in C.alphabet for c in s]))]\n",
    "# df = df.sample(frac=1.,random_state=0)\n",
    "\n",
    "# dataset = NamedTensorDataset(\n",
    "#     sequence=df['sequence'],\n",
    "#     x=df['sequence'].map(lambda s: [C.alphabet.index(c) for c in s]),\n",
    "#     x_mask=df['sequence'].map(lambda s: [1]*len(s)),\n",
    "#     y=(df['hla_binding']).values[:,None].astype(int)\n",
    "# )\n",
    "\n",
    "# datasets['hla_b0702'] = dataset\n",
    "\n",
    "# len(dataset)"
   ]
  },
  {
   "cell_type": "code",
   "execution_count": 12,
   "metadata": {},
   "outputs": [],
   "source": [
    "# pos_seqs = !cat ./data/mlci2012/binding_H2-Kb.txt\n",
    "# neg_seqs = !cat ./data/mlci2012/nonbinding_H2-Kb.txt\n",
    "# df = pd.DataFrame({\n",
    "#     'sequence': pos_seqs + neg_seqs,\n",
    "#     'hla_binding': [1]*len(pos_seqs) + [0]*len(neg_seqs)\n",
    "# })\n",
    "# df = df.loc[df['sequence'].map(lambda s: all([c==c.upper() and c in C.alphabet for c in s]))]\n",
    "# df = df.sample(frac=1.,random_state=0)\n",
    "# df = df.loc[df['sequence'].map(len)<=500]\n",
    "\n",
    "# dataset = NamedTensorDataset(\n",
    "#     sequence=df['sequence'],\n",
    "#     x=df['sequence'].map(lambda s: [C.alphabet.index(c) for c in s]),\n",
    "#     x_mask=df['sequence'].map(lambda s: [1]*len(s)),\n",
    "#     y=(df['hla_binding']).values[:,None].astype(int)\n",
    "# )\n",
    "\n",
    "# datasets['h2_kb'] = dataset\n",
    "\n",
    "# len(dataset)"
   ]
  },
  {
   "cell_type": "markdown",
   "metadata": {},
   "source": [
    "### SATPDB"
   ]
  },
  {
   "cell_type": "code",
   "execution_count": 13,
   "metadata": {
    "jupyter": {
     "source_hidden": true
    }
   },
   "outputs": [],
   "source": [
    "# fns = !ls ./data/satpdb/*.fasta\n",
    "# df = {}\n",
    "# for fn in fns:\n",
    "#     name = fn.split('/')[-1].split('.')[0]\n",
    "#     with open(fn,'r') as f:\n",
    "#         fasta = [l.strip() for l in f]\n",
    "#     df[name] = pd.Series([1]*len(fasta[::2]),index=fasta[1::2],name=name)\n",
    "#     df[name] = df[name].reset_index().drop_duplicates(subset='index',keep='first')\n",
    "#     df[name] = df[name].set_index('index')[name]\n",
    "# df = pd.DataFrame(df).fillna(0)\n",
    "# df.index.name = 'sequence'\n",
    "# df = df.reset_index()\n",
    "# df = df.loc[df['sequence'].map(lambda s: all([c==c.upper() and c in C.alphabet for c in s]))]\n",
    "# df = df.loc[df['sequence'].map(len)>=5]\n",
    "# df = df.loc[df['sequence'].map(len)<=100]\n",
    "\n",
    "# for name in df.columns[1:]:\n",
    "#     dataset = NamedTensorDataset(\n",
    "#         sequence=df['sequence'],\n",
    "#         x=df['sequence'].map(lambda s: [C.alphabet.index(c) for c in s]),\n",
    "#         x_mask=df['sequence'].map(lambda s: [1]*len(s)),\n",
    "#         y=df[name].values[:,None].astype(int)\n",
    "#     )\n",
    "#     datasets[name] = dataset\n",
    "#     print(name,len(dataset))"
   ]
  },
  {
   "cell_type": "code",
   "execution_count": 14,
   "metadata": {},
   "outputs": [
    {
     "name": "stdout",
     "output_type": "stream",
     "text": [
      "mito 4121\n",
      "cdc28 4120\n",
      "signalp 20290\n",
      "hla_a0201 11747\n"
     ]
    }
   ],
   "source": [
    "from torch.utils.data import Subset\n",
    "\n",
    "npr.seed(0)\n",
    "\n",
    "MIN_LENGTH = 5\n",
    "MAX_LENGTH = 100\n",
    "\n",
    "for d in datasets:\n",
    "    idxs = [\n",
    "        i \n",
    "        for i,item in enumerate(datasets[d]) \n",
    "        if (len(item['sequence'])>=MIN_LENGTH) and (len(item['sequence'])<=MAX_LENGTH)\n",
    "    ]\n",
    "    npr.shuffle(idxs)\n",
    "    datasets[d] = Subset(datasets[d], idxs)\n",
    "    print(d, len(datasets[d]))"
   ]
  },
  {
   "cell_type": "markdown",
   "metadata": {},
   "source": [
    "# Models"
   ]
  },
  {
   "cell_type": "code",
   "execution_count": 15,
   "metadata": {},
   "outputs": [],
   "source": [
    "models = {}"
   ]
  },
  {
   "cell_type": "markdown",
   "metadata": {},
   "source": [
    "### MS pretraining"
   ]
  },
  {
   "cell_type": "code",
   "execution_count": 16,
   "metadata": {},
   "outputs": [
    {
     "data": {
      "text/plain": [
       "'./lightning_logs/version_17869980/checkpoints/epoch=92-step=114948-best.ckpt'"
      ]
     },
     "execution_count": 16,
     "metadata": {},
     "output_type": "execute_result"
    }
   ],
   "source": [
    "[last_ckpt] = !ls -t1 ./lightning_logs/version_17869980/checkpoints/*.ckpt | head -n1\n",
    "last_ckpt"
   ]
  },
  {
   "cell_type": "code",
   "execution_count": 17,
   "metadata": {},
   "outputs": [],
   "source": [
    "model = lambda : MSModel(\n",
    "    checkpoint = last_ckpt,\n",
    "    model_dim = 128,\n",
    "    output_dim = 1,\n",
    "    fixed_weights = True,\n",
    "    naive = False,\n",
    "    lr = 5e-4,\n",
    "    output_weights = [(None,1),],\n",
    "    max_length=100\n",
    ")\n",
    "models['ms_pretrained_frozen'] = model"
   ]
  },
  {
   "cell_type": "code",
   "execution_count": 18,
   "metadata": {},
   "outputs": [],
   "source": [
    "model = lambda : MSModel(\n",
    "    checkpoint = last_ckpt,\n",
    "    model_dim = 128,\n",
    "    output_dim = 1,\n",
    "    fixed_weights = False,\n",
    "    naive = False,\n",
    "    lr = 5e-4,\n",
    "    output_weights = [(None,1),],\n",
    "    max_length=100\n",
    ")\n",
    "models['ms_pretrained_finetune'] = model"
   ]
  },
  {
   "cell_type": "markdown",
   "metadata": {},
   "source": [
    "### Linear baseline"
   ]
  },
  {
   "cell_type": "code",
   "execution_count": 19,
   "metadata": {},
   "outputs": [],
   "source": [
    "model = lambda : LinearModel(\n",
    "    output_dim = 1,\n",
    "    model_dim = 128,\n",
    "    num_residues = len(C.alphabet),\n",
    "    lr = 5e-4,\n",
    "    output_weights = [(None,1),]\n",
    ")\n",
    "models['linear'] = model"
   ]
  },
  {
   "cell_type": "markdown",
   "metadata": {},
   "source": [
    "### CNN baseline"
   ]
  },
  {
   "cell_type": "code",
   "execution_count": 20,
   "metadata": {},
   "outputs": [],
   "source": [
    "# https://arxiv.org/pdf/2011.03443.pdf\n",
    "# differences: 128 vs 1024, attention vs max pool\n",
    "model = lambda : CNNModel(\n",
    "    output_dim = 1,\n",
    "    model_dim = 128,\n",
    "    model_depth = 3,\n",
    "    kernel_size = 5,\n",
    "    num_residues = len(C.alphabet),\n",
    "    dropout = 0.,\n",
    "    lr = 5e-4,\n",
    "    output_weights = [(None,1),]\n",
    ")\n",
    "models['cnn'] = model"
   ]
  },
  {
   "cell_type": "markdown",
   "metadata": {},
   "source": [
    "### Random"
   ]
  },
  {
   "cell_type": "code",
   "execution_count": 21,
   "metadata": {},
   "outputs": [],
   "source": [
    "model = lambda : MSModel(\n",
    "    checkpoint = last_ckpt,\n",
    "    model_dim = 128,\n",
    "    output_dim = 1,\n",
    "    fixed_weights = False,\n",
    "    naive = True,\n",
    "    lr = 5e-4,\n",
    "    output_weights = [(None,1),],\n",
    "    max_length=100\n",
    ")\n",
    "models['random_frozen'] = model"
   ]
  },
  {
   "cell_type": "code",
   "execution_count": 22,
   "metadata": {},
   "outputs": [],
   "source": [
    "model = lambda : MSModel(\n",
    "    checkpoint = last_ckpt,\n",
    "    model_dim = 128,\n",
    "    output_dim = 1,\n",
    "    fixed_weights = True,\n",
    "    naive = True,\n",
    "    lr = 5e-4,\n",
    "    output_weights = [(None,1),],\n",
    "    max_length=100\n",
    ")\n",
    "models['random_finetune'] = model"
   ]
  },
  {
   "cell_type": "markdown",
   "metadata": {},
   "source": [
    "### Large language model"
   ]
  },
  {
   "cell_type": "code",
   "execution_count": 23,
   "metadata": {},
   "outputs": [],
   "source": [
    "model = lambda : CARPModel(\n",
    "    output_dim = 1,\n",
    "    fixed_weights = True,\n",
    "    max_length = 100,\n",
    "    lr = 5e-4,\n",
    "    output_weights = [(None,1),]\n",
    ")\n",
    "models['carp_pretrained_frozen'] = model"
   ]
  },
  {
   "cell_type": "code",
   "execution_count": 24,
   "metadata": {},
   "outputs": [],
   "source": [
    "model = lambda : CARPModel(\n",
    "    output_dim = 1,\n",
    "    fixed_weights = False,\n",
    "    max_length = 100,\n",
    "    lr = 5e-4,\n",
    "    output_weights = [(None,1),]\n",
    ")\n",
    "models['carp_pretrained_finetune'] = model"
   ]
  },
  {
   "cell_type": "markdown",
   "metadata": {},
   "source": [
    "# need to do a proper hparam search for carp"
   ]
  },
  {
   "cell_type": "code",
   "execution_count": 25,
   "metadata": {},
   "outputs": [],
   "source": [
    "# for MODEL in models.keys():\n",
    "#     for DATASET in datasets.keys():\n",
    "#         name = MODEL+'_'+DATASET\n",
    "#         !rm -rf ./lightning_logs/$name\n",
    "# !rm -rf ./lightning_logs/version_$SLURM_JOBID"
   ]
  },
  {
   "cell_type": "code",
   "execution_count": 26,
   "metadata": {},
   "outputs": [
    {
     "name": "stderr",
     "output_type": "stream",
     "text": [
      "Global seed set to 0\n",
      "Multiprocessing is handled by SLURM.\n",
      "GPU available: True, used: True\n",
      "TPU available: False, using: 0 TPU cores\n",
      "IPU available: False, using: 0 IPUs\n",
      "HPU available: False, using: 0 HPUs\n",
      "LOCAL_RANK: 0 - CUDA_VISIBLE_DEVICES: [GPU-6f07f7d1-b74b-ade4-fb35-ff23d46bc4d9]\n",
      "\n",
      "  | Name       | Type           | Params\n",
      "----------------------------------------------\n",
      "0 | encoder    | ByteNet        | 603 K \n",
      "1 | classifier | ESMAttention1d | 16.8 K\n",
      "----------------------------------------------\n",
      "16.8 K    Trainable params\n",
      "603 K     Non-trainable params\n",
      "620 K     Total params\n",
      "2.481     Total estimated model params size (MB)\n",
      "SLURM auto-requeueing enabled. Setting signal handlers.\n"
     ]
    },
    {
     "name": "stdout",
     "output_type": "stream",
     "text": [
      "                                                                           "
     ]
    },
    {
     "name": "stderr",
     "output_type": "stream",
     "text": [
      "/home/gridsan/mmurphy/.conda/envs/MSPretraining/lib/python3.9/site-packages/pytorch_lightning/trainer/trainer.py:1938: PossibleUserWarning: The number of training samples (5) is smaller than the logging interval Trainer(log_every_n_steps=50). Set a lower value for log_every_n_steps if you want to see logs for the training epoch.\n",
      "  rank_zero_warn(\n"
     ]
    },
    {
     "name": "stdout",
     "output_type": "stream",
     "text": [
      "Epoch 55: 100%|██████████| 6/6 [00:51<00:00,  8.53s/it, loss=0.0515, v_num=1.79e+7]\n"
     ]
    },
    {
     "name": "stderr",
     "output_type": "stream",
     "text": [
      "LOCAL_RANK: 0 - CUDA_VISIBLE_DEVICES: [GPU-6f07f7d1-b74b-ade4-fb35-ff23d46bc4d9]\n",
      "/home/gridsan/mmurphy/.conda/envs/MSPretraining/lib/python3.9/site-packages/pytorch_lightning/trainer/connectors/data_connector.py:240: PossibleUserWarning: The dataloader, test_dataloader 0, does not have many workers which may be a bottleneck. Consider increasing the value of the `num_workers` argument` (try 80 which is the number of cpus on this machine) in the `DataLoader` init to improve performance.\n",
      "  rank_zero_warn(\n"
     ]
    },
    {
     "name": "stdout",
     "output_type": "stream",
     "text": [
      "Testing DataLoader 0: 100%|██████████| 1/1 [00:00<00:00,  1.44it/s]\n",
      "────────────────────────────────────────────────────────────────────────────────────────────────────────────────────────\n",
      "       Test metric             DataLoader 0\n",
      "────────────────────────────────────────────────────────────────────────────────────────────────────────────────────────\n",
      "      test_auc_mito         0.8738208413124084\n",
      "        test_loss           0.11530359834432602\n",
      "────────────────────────────────────────────────────────────────────────────────────────────────────────────────────────\n",
      "mito ms_pretrained_frozen\n"
     ]
    },
    {
     "name": "stderr",
     "output_type": "stream",
     "text": [
      "Multiprocessing is handled by SLURM.\n",
      "GPU available: True, used: True\n",
      "TPU available: False, using: 0 TPU cores\n",
      "IPU available: False, using: 0 IPUs\n",
      "HPU available: False, using: 0 HPUs\n",
      "LOCAL_RANK: 0 - CUDA_VISIBLE_DEVICES: [GPU-6f07f7d1-b74b-ade4-fb35-ff23d46bc4d9]\n",
      "\n",
      "  | Name       | Type           | Params\n",
      "----------------------------------------------\n",
      "0 | encoder    | ByteNet        | 603 K \n",
      "1 | classifier | ESMAttention1d | 16.8 K\n",
      "----------------------------------------------\n",
      "620 K     Trainable params\n",
      "0         Non-trainable params\n",
      "620 K     Total params\n",
      "2.481     Total estimated model params size (MB)\n",
      "SLURM auto-requeueing enabled. Setting signal handlers.\n"
     ]
    },
    {
     "name": "stdout",
     "output_type": "stream",
     "text": [
      "Epoch 16: 100%|██████████| 6/6 [00:23<00:00,  3.90s/it, loss=0.000501, v_num=1.79e+7]"
     ]
    },
    {
     "name": "stderr",
     "output_type": "stream",
     "text": [
      "Trainer was signaled to stop but required minimum epochs (30) or minimum steps (None) has not been met. Training will continue...\n"
     ]
    },
    {
     "name": "stdout",
     "output_type": "stream",
     "text": [
      "Epoch 17: 100%|██████████| 6/6 [00:24<00:00,  4.09s/it, loss=0.000354, v_num=1.79e+7]"
     ]
    },
    {
     "name": "stderr",
     "output_type": "stream",
     "text": [
      "Trainer was signaled to stop but required minimum epochs (30) or minimum steps (None) has not been met. Training will continue...\n"
     ]
    },
    {
     "name": "stdout",
     "output_type": "stream",
     "text": [
      "Epoch 18: 100%|██████████| 6/6 [00:26<00:00,  4.41s/it, loss=0.000268, v_num=1.79e+7]"
     ]
    },
    {
     "name": "stderr",
     "output_type": "stream",
     "text": [
      "Trainer was signaled to stop but required minimum epochs (30) or minimum steps (None) has not been met. Training will continue...\n"
     ]
    },
    {
     "name": "stdout",
     "output_type": "stream",
     "text": [
      "Epoch 19: 100%|██████████| 6/6 [00:27<00:00,  4.60s/it, loss=0.000224, v_num=1.79e+7]"
     ]
    },
    {
     "name": "stderr",
     "output_type": "stream",
     "text": [
      "Trainer was signaled to stop but required minimum epochs (30) or minimum steps (None) has not been met. Training will continue...\n"
     ]
    },
    {
     "name": "stdout",
     "output_type": "stream",
     "text": [
      "Epoch 20: 100%|██████████| 6/6 [00:28<00:00,  4.79s/it, loss=0.000197, v_num=1.79e+7]"
     ]
    },
    {
     "name": "stderr",
     "output_type": "stream",
     "text": [
      "Trainer was signaled to stop but required minimum epochs (30) or minimum steps (None) has not been met. Training will continue...\n"
     ]
    },
    {
     "name": "stdout",
     "output_type": "stream",
     "text": [
      "Epoch 21: 100%|██████████| 6/6 [00:29<00:00,  4.98s/it, loss=0.000172, v_num=1.79e+7]"
     ]
    },
    {
     "name": "stderr",
     "output_type": "stream",
     "text": [
      "Trainer was signaled to stop but required minimum epochs (30) or minimum steps (None) has not been met. Training will continue...\n"
     ]
    },
    {
     "name": "stdout",
     "output_type": "stream",
     "text": [
      "Epoch 22: 100%|██████████| 6/6 [00:31<00:00,  5.17s/it, loss=0.000157, v_num=1.79e+7]"
     ]
    },
    {
     "name": "stderr",
     "output_type": "stream",
     "text": [
      "Trainer was signaled to stop but required minimum epochs (30) or minimum steps (None) has not been met. Training will continue...\n"
     ]
    },
    {
     "name": "stdout",
     "output_type": "stream",
     "text": [
      "Epoch 23: 100%|██████████| 6/6 [00:32<00:00,  5.35s/it, loss=0.000142, v_num=1.79e+7]"
     ]
    },
    {
     "name": "stderr",
     "output_type": "stream",
     "text": [
      "Trainer was signaled to stop but required minimum epochs (30) or minimum steps (None) has not been met. Training will continue...\n"
     ]
    },
    {
     "name": "stdout",
     "output_type": "stream",
     "text": [
      "Epoch 24: 100%|██████████| 6/6 [00:33<00:00,  5.53s/it, loss=0.000129, v_num=1.79e+7]"
     ]
    },
    {
     "name": "stderr",
     "output_type": "stream",
     "text": [
      "Trainer was signaled to stop but required minimum epochs (30) or minimum steps (None) has not been met. Training will continue...\n"
     ]
    },
    {
     "name": "stdout",
     "output_type": "stream",
     "text": [
      "Epoch 25: 100%|██████████| 6/6 [00:34<00:00,  5.74s/it, loss=0.000119, v_num=1.79e+7]"
     ]
    },
    {
     "name": "stderr",
     "output_type": "stream",
     "text": [
      "Trainer was signaled to stop but required minimum epochs (30) or minimum steps (None) has not been met. Training will continue...\n"
     ]
    },
    {
     "name": "stdout",
     "output_type": "stream",
     "text": [
      "Epoch 26: 100%|██████████| 6/6 [00:35<00:00,  5.92s/it, loss=0.00011, v_num=1.79e+7] "
     ]
    },
    {
     "name": "stderr",
     "output_type": "stream",
     "text": [
      "Trainer was signaled to stop but required minimum epochs (30) or minimum steps (None) has not been met. Training will continue...\n"
     ]
    },
    {
     "name": "stdout",
     "output_type": "stream",
     "text": [
      "Epoch 27: 100%|██████████| 6/6 [00:36<00:00,  6.10s/it, loss=0.000102, v_num=1.79e+7]"
     ]
    },
    {
     "name": "stderr",
     "output_type": "stream",
     "text": [
      "Trainer was signaled to stop but required minimum epochs (30) or minimum steps (None) has not been met. Training will continue...\n"
     ]
    },
    {
     "name": "stdout",
     "output_type": "stream",
     "text": [
      "Epoch 28: 100%|██████████| 6/6 [00:37<00:00,  6.28s/it, loss=9.53e-05, v_num=1.79e+7]"
     ]
    },
    {
     "name": "stderr",
     "output_type": "stream",
     "text": [
      "Trainer was signaled to stop but required minimum epochs (30) or minimum steps (None) has not been met. Training will continue...\n"
     ]
    },
    {
     "name": "stdout",
     "output_type": "stream",
     "text": [
      "Epoch 29: 100%|██████████| 6/6 [00:38<00:00,  6.47s/it, loss=8.94e-05, v_num=1.79e+7]\n"
     ]
    },
    {
     "name": "stderr",
     "output_type": "stream",
     "text": [
      "LOCAL_RANK: 0 - CUDA_VISIBLE_DEVICES: [GPU-6f07f7d1-b74b-ade4-fb35-ff23d46bc4d9]\n"
     ]
    },
    {
     "name": "stdout",
     "output_type": "stream",
     "text": [
      "Testing DataLoader 0: 100%|██████████| 1/1 [00:00<00:00,  2.57it/s]\n",
      "────────────────────────────────────────────────────────────────────────────────────────────────────────────────────────\n",
      "       Test metric             DataLoader 0\n",
      "────────────────────────────────────────────────────────────────────────────────────────────────────────────────────────\n",
      "      test_auc_mito         0.8643103837966919\n",
      "        test_loss           0.11014863103628159\n",
      "────────────────────────────────────────────────────────────────────────────────────────────────────────────────────────\n",
      "mito ms_pretrained_finetune\n"
     ]
    },
    {
     "name": "stderr",
     "output_type": "stream",
     "text": [
      "Multiprocessing is handled by SLURM.\n",
      "GPU available: True, used: True\n",
      "TPU available: False, using: 0 TPU cores\n",
      "IPU available: False, using: 0 IPUs\n",
      "HPU available: False, using: 0 HPUs\n",
      "LOCAL_RANK: 0 - CUDA_VISIBLE_DEVICES: [GPU-6f07f7d1-b74b-ade4-fb35-ff23d46bc4d9]\n",
      "\n",
      "  | Name       | Type      | Params\n",
      "-----------------------------------------\n",
      "0 | embedding  | Embedding | 3.1 K \n",
      "1 | classifier | Linear    | 129   \n",
      "-----------------------------------------\n",
      "3.2 K     Trainable params\n",
      "0         Non-trainable params\n",
      "3.2 K     Total params\n",
      "0.013     Total estimated model params size (MB)\n",
      "SLURM auto-requeueing enabled. Setting signal handlers.\n"
     ]
    },
    {
     "name": "stdout",
     "output_type": "stream",
     "text": [
      "Epoch 199: 100%|██████████| 6/6 [02:30<00:00, 25.13s/it, loss=0.132, v_num=1.79e+7] \n"
     ]
    },
    {
     "name": "stderr",
     "output_type": "stream",
     "text": [
      "LOCAL_RANK: 0 - CUDA_VISIBLE_DEVICES: [GPU-6f07f7d1-b74b-ade4-fb35-ff23d46bc4d9]\n"
     ]
    },
    {
     "name": "stdout",
     "output_type": "stream",
     "text": [
      "Testing DataLoader 0: 100%|██████████| 1/1 [00:00<00:00,  3.75it/s]\n",
      "────────────────────────────────────────────────────────────────────────────────────────────────────────────────────────\n",
      "       Test metric             DataLoader 0\n",
      "────────────────────────────────────────────────────────────────────────────────────────────────────────────────────────\n",
      "      test_auc_mito         0.8317251205444336\n",
      "        test_loss           0.12419627606868744\n",
      "────────────────────────────────────────────────────────────────────────────────────────────────────────────────────────\n",
      "mito linear\n"
     ]
    },
    {
     "name": "stderr",
     "output_type": "stream",
     "text": [
      "Multiprocessing is handled by SLURM.\n",
      "GPU available: True, used: True\n",
      "TPU available: False, using: 0 TPU cores\n",
      "IPU available: False, using: 0 IPUs\n",
      "HPU available: False, using: 0 HPUs\n",
      "LOCAL_RANK: 0 - CUDA_VISIBLE_DEVICES: [GPU-6f07f7d1-b74b-ade4-fb35-ff23d46bc4d9]\n",
      "\n",
      "  | Name       | Type       | Params\n",
      "------------------------------------------\n",
      "0 | embedding  | Embedding  | 3.1 K \n",
      "1 | encoder    | Sequential | 51.5 K\n",
      "2 | classifier | Linear     | 33    \n",
      "------------------------------------------\n",
      "54.6 K    Trainable params\n",
      "0         Non-trainable params\n",
      "54.6 K    Total params\n",
      "0.218     Total estimated model params size (MB)\n",
      "SLURM auto-requeueing enabled. Setting signal handlers.\n"
     ]
    },
    {
     "name": "stdout",
     "output_type": "stream",
     "text": [
      "Epoch 33: 100%|██████████| 6/6 [00:27<00:00,  4.51s/it, loss=0.411, v_num=1.79e+7]\n"
     ]
    },
    {
     "name": "stderr",
     "output_type": "stream",
     "text": [
      "LOCAL_RANK: 0 - CUDA_VISIBLE_DEVICES: [GPU-6f07f7d1-b74b-ade4-fb35-ff23d46bc4d9]\n"
     ]
    },
    {
     "name": "stdout",
     "output_type": "stream",
     "text": [
      "Testing DataLoader 0: 100%|██████████| 1/1 [00:00<00:00,  1.95it/s]\n",
      "────────────────────────────────────────────────────────────────────────────────────────────────────────────────────────\n",
      "       Test metric             DataLoader 0\n",
      "────────────────────────────────────────────────────────────────────────────────────────────────────────────────────────\n",
      "      test_auc_mito         0.7851439714431763\n",
      "        test_loss           0.48447489738464355\n",
      "────────────────────────────────────────────────────────────────────────────────────────────────────────────────────────\n",
      "mito cnn\n"
     ]
    },
    {
     "name": "stderr",
     "output_type": "stream",
     "text": [
      "Multiprocessing is handled by SLURM.\n",
      "GPU available: True, used: True\n",
      "TPU available: False, using: 0 TPU cores\n",
      "IPU available: False, using: 0 IPUs\n",
      "HPU available: False, using: 0 HPUs\n",
      "LOCAL_RANK: 0 - CUDA_VISIBLE_DEVICES: [GPU-6f07f7d1-b74b-ade4-fb35-ff23d46bc4d9]\n",
      "\n",
      "  | Name       | Type           | Params\n",
      "----------------------------------------------\n",
      "0 | encoder    | ByteNet        | 603 K \n",
      "1 | classifier | ESMAttention1d | 16.8 K\n",
      "----------------------------------------------\n",
      "620 K     Trainable params\n",
      "0         Non-trainable params\n",
      "620 K     Total params\n",
      "2.481     Total estimated model params size (MB)\n",
      "SLURM auto-requeueing enabled. Setting signal handlers.\n"
     ]
    },
    {
     "name": "stdout",
     "output_type": "stream",
     "text": [
      "Epoch 20: 100%|██████████| 6/6 [00:25<00:00,  4.19s/it, loss=0.0196, v_num=1.79e+7]"
     ]
    },
    {
     "name": "stderr",
     "output_type": "stream",
     "text": [
      "Trainer was signaled to stop but required minimum epochs (30) or minimum steps (None) has not been met. Training will continue...\n"
     ]
    },
    {
     "name": "stdout",
     "output_type": "stream",
     "text": [
      "Epoch 21: 100%|██████████| 6/6 [00:26<00:00,  4.37s/it, loss=0.0141, v_num=1.79e+7]"
     ]
    },
    {
     "name": "stderr",
     "output_type": "stream",
     "text": [
      "Trainer was signaled to stop but required minimum epochs (30) or minimum steps (None) has not been met. Training will continue...\n"
     ]
    },
    {
     "name": "stdout",
     "output_type": "stream",
     "text": [
      "Epoch 22: 100%|██████████| 6/6 [00:27<00:00,  4.56s/it, loss=0.0129, v_num=1.79e+7]"
     ]
    },
    {
     "name": "stderr",
     "output_type": "stream",
     "text": [
      "Trainer was signaled to stop but required minimum epochs (30) or minimum steps (None) has not been met. Training will continue...\n"
     ]
    },
    {
     "name": "stdout",
     "output_type": "stream",
     "text": [
      "Epoch 23: 100%|██████████| 6/6 [00:28<00:00,  4.75s/it, loss=0.0124, v_num=1.79e+7]"
     ]
    },
    {
     "name": "stderr",
     "output_type": "stream",
     "text": [
      "Trainer was signaled to stop but required minimum epochs (30) or minimum steps (None) has not been met. Training will continue...\n"
     ]
    },
    {
     "name": "stdout",
     "output_type": "stream",
     "text": [
      "Epoch 24: 100%|██████████| 6/6 [00:29<00:00,  4.94s/it, loss=0.013, v_num=1.79e+7] "
     ]
    },
    {
     "name": "stderr",
     "output_type": "stream",
     "text": [
      "Trainer was signaled to stop but required minimum epochs (30) or minimum steps (None) has not been met. Training will continue...\n"
     ]
    },
    {
     "name": "stdout",
     "output_type": "stream",
     "text": [
      "Epoch 25: 100%|██████████| 6/6 [00:30<00:00,  5.12s/it, loss=0.0115, v_num=1.79e+7]"
     ]
    },
    {
     "name": "stderr",
     "output_type": "stream",
     "text": [
      "Trainer was signaled to stop but required minimum epochs (30) or minimum steps (None) has not been met. Training will continue...\n"
     ]
    },
    {
     "name": "stdout",
     "output_type": "stream",
     "text": [
      "Epoch 26: 100%|██████████| 6/6 [00:31<00:00,  5.30s/it, loss=0.0102, v_num=1.79e+7] "
     ]
    },
    {
     "name": "stderr",
     "output_type": "stream",
     "text": [
      "Trainer was signaled to stop but required minimum epochs (30) or minimum steps (None) has not been met. Training will continue...\n"
     ]
    },
    {
     "name": "stdout",
     "output_type": "stream",
     "text": [
      "Epoch 27: 100%|██████████| 6/6 [00:32<00:00,  5.48s/it, loss=0.0101, v_num=1.79e+7] "
     ]
    },
    {
     "name": "stderr",
     "output_type": "stream",
     "text": [
      "Trainer was signaled to stop but required minimum epochs (30) or minimum steps (None) has not been met. Training will continue...\n"
     ]
    },
    {
     "name": "stdout",
     "output_type": "stream",
     "text": [
      "Epoch 28: 100%|██████████| 6/6 [00:34<00:00,  5.68s/it, loss=0.00845, v_num=1.79e+7]"
     ]
    },
    {
     "name": "stderr",
     "output_type": "stream",
     "text": [
      "Trainer was signaled to stop but required minimum epochs (30) or minimum steps (None) has not been met. Training will continue...\n"
     ]
    },
    {
     "name": "stdout",
     "output_type": "stream",
     "text": [
      "Epoch 29: 100%|██████████| 6/6 [00:35<00:00,  5.87s/it, loss=0.00972, v_num=1.79e+7]\n"
     ]
    },
    {
     "name": "stderr",
     "output_type": "stream",
     "text": [
      "LOCAL_RANK: 0 - CUDA_VISIBLE_DEVICES: [GPU-6f07f7d1-b74b-ade4-fb35-ff23d46bc4d9]\n"
     ]
    },
    {
     "name": "stdout",
     "output_type": "stream",
     "text": [
      "Testing DataLoader 0: 100%|██████████| 1/1 [00:00<00:00,  2.76it/s]\n",
      "────────────────────────────────────────────────────────────────────────────────────────────────────────────────────────\n",
      "       Test metric             DataLoader 0\n",
      "────────────────────────────────────────────────────────────────────────────────────────────────────────────────────────\n",
      "      test_auc_mito         0.8533663749694824\n",
      "        test_loss           0.11742859333753586\n",
      "────────────────────────────────────────────────────────────────────────────────────────────────────────────────────────\n",
      "mito random_frozen\n"
     ]
    },
    {
     "name": "stderr",
     "output_type": "stream",
     "text": [
      "Multiprocessing is handled by SLURM.\n",
      "GPU available: True, used: True\n",
      "TPU available: False, using: 0 TPU cores\n",
      "IPU available: False, using: 0 IPUs\n",
      "HPU available: False, using: 0 HPUs\n",
      "LOCAL_RANK: 0 - CUDA_VISIBLE_DEVICES: [GPU-6f07f7d1-b74b-ade4-fb35-ff23d46bc4d9]\n",
      "\n",
      "  | Name       | Type           | Params\n",
      "----------------------------------------------\n",
      "0 | encoder    | ByteNet        | 603 K \n",
      "1 | classifier | ESMAttention1d | 16.8 K\n",
      "----------------------------------------------\n",
      "16.8 K    Trainable params\n",
      "603 K     Non-trainable params\n",
      "620 K     Total params\n",
      "2.481     Total estimated model params size (MB)\n",
      "SLURM auto-requeueing enabled. Setting signal handlers.\n"
     ]
    },
    {
     "name": "stdout",
     "output_type": "stream",
     "text": [
      "Epoch 114: 100%|██████████| 6/6 [01:44<00:00, 17.37s/it, loss=0.0867, v_num=1.79e+7] \n"
     ]
    },
    {
     "name": "stderr",
     "output_type": "stream",
     "text": [
      "LOCAL_RANK: 0 - CUDA_VISIBLE_DEVICES: [GPU-6f07f7d1-b74b-ade4-fb35-ff23d46bc4d9]\n"
     ]
    },
    {
     "name": "stdout",
     "output_type": "stream",
     "text": [
      "Testing DataLoader 0: 100%|██████████| 1/1 [00:00<00:00,  2.80it/s]\n",
      "────────────────────────────────────────────────────────────────────────────────────────────────────────────────────────\n",
      "       Test metric             DataLoader 0\n",
      "────────────────────────────────────────────────────────────────────────────────────────────────────────────────────────\n",
      "      test_auc_mito         0.8543221354484558\n",
      "        test_loss           0.12559932470321655\n",
      "────────────────────────────────────────────────────────────────────────────────────────────────────────────────────────\n",
      "mito random_finetune\n"
     ]
    },
    {
     "name": "stderr",
     "output_type": "stream",
     "text": [
      "Multiprocessing is handled by SLURM.\n",
      "GPU available: True, used: True\n",
      "TPU available: False, using: 0 TPU cores\n",
      "IPU available: False, using: 0 IPUs\n",
      "HPU available: False, using: 0 HPUs\n",
      "LOCAL_RANK: 0 - CUDA_VISIBLE_DEVICES: [GPU-6f07f7d1-b74b-ade4-fb35-ff23d46bc4d9]\n",
      "\n",
      "  | Name       | Type           | Params\n",
      "----------------------------------------------\n",
      "0 | encoder    | ByteNet        | 603 K \n",
      "1 | classifier | ESMAttention1d | 16.8 K\n",
      "----------------------------------------------\n",
      "16.8 K    Trainable params\n",
      "603 K     Non-trainable params\n",
      "620 K     Total params\n",
      "2.481     Total estimated model params size (MB)\n",
      "SLURM auto-requeueing enabled. Setting signal handlers.\n"
     ]
    },
    {
     "name": "stdout",
     "output_type": "stream",
     "text": [
      "Epoch 43: 100%|██████████| 6/6 [00:46<00:00,  7.74s/it, loss=0.0845, v_num=1.79e+7]\n"
     ]
    },
    {
     "name": "stderr",
     "output_type": "stream",
     "text": [
      "LOCAL_RANK: 0 - CUDA_VISIBLE_DEVICES: [GPU-6f07f7d1-b74b-ade4-fb35-ff23d46bc4d9]\n"
     ]
    },
    {
     "name": "stdout",
     "output_type": "stream",
     "text": [
      "Testing DataLoader 0: 100%|██████████| 1/1 [00:00<00:00,  2.16it/s]\n",
      "────────────────────────────────────────────────────────────────────────────────────────────────────────────────────────\n",
      "       Test metric             DataLoader 0\n",
      "────────────────────────────────────────────────────────────────────────────────────────────────────────────────────────\n",
      "      test_auc_mito         0.8498212695121765\n",
      "        test_loss           0.11106462776660919\n",
      "────────────────────────────────────────────────────────────────────────────────────────────────────────────────────────\n",
      "mito carp_pretrained_frozen\n"
     ]
    },
    {
     "name": "stderr",
     "output_type": "stream",
     "text": [
      "Multiprocessing is handled by SLURM.\n",
      "GPU available: True, used: True\n",
      "TPU available: False, using: 0 TPU cores\n",
      "IPU available: False, using: 0 IPUs\n",
      "HPU available: False, using: 0 HPUs\n",
      "LOCAL_RANK: 0 - CUDA_VISIBLE_DEVICES: [GPU-6f07f7d1-b74b-ade4-fb35-ff23d46bc4d9]\n",
      "\n",
      "  | Name       | Type           | Params\n",
      "----------------------------------------------\n",
      "0 | encoder    | ByteNet        | 603 K \n",
      "1 | classifier | ESMAttention1d | 16.8 K\n",
      "----------------------------------------------\n",
      "620 K     Trainable params\n",
      "0         Non-trainable params\n",
      "620 K     Total params\n",
      "2.481     Total estimated model params size (MB)\n",
      "SLURM auto-requeueing enabled. Setting signal handlers.\n"
     ]
    },
    {
     "name": "stdout",
     "output_type": "stream",
     "text": [
      "Epoch 15: 100%|██████████| 6/6 [00:20<00:00,  3.43s/it, loss=0.015, v_num=1.79e+7] "
     ]
    },
    {
     "name": "stderr",
     "output_type": "stream",
     "text": [
      "Trainer was signaled to stop but required minimum epochs (30) or minimum steps (None) has not been met. Training will continue...\n"
     ]
    },
    {
     "name": "stdout",
     "output_type": "stream",
     "text": [
      "Epoch 16: 100%|██████████| 6/6 [00:21<00:00,  3.64s/it, loss=0.0104, v_num=1.79e+7]"
     ]
    },
    {
     "name": "stderr",
     "output_type": "stream",
     "text": [
      "Trainer was signaled to stop but required minimum epochs (30) or minimum steps (None) has not been met. Training will continue...\n"
     ]
    },
    {
     "name": "stdout",
     "output_type": "stream",
     "text": [
      "Epoch 17: 100%|██████████| 6/6 [00:23<00:00,  3.85s/it, loss=0.00661, v_num=1.79e+7]"
     ]
    },
    {
     "name": "stderr",
     "output_type": "stream",
     "text": [
      "Trainer was signaled to stop but required minimum epochs (30) or minimum steps (None) has not been met. Training will continue...\n"
     ]
    },
    {
     "name": "stdout",
     "output_type": "stream",
     "text": [
      "Epoch 18: 100%|██████████| 6/6 [00:24<00:00,  4.07s/it, loss=0.00378, v_num=1.79e+7]"
     ]
    },
    {
     "name": "stderr",
     "output_type": "stream",
     "text": [
      "Trainer was signaled to stop but required minimum epochs (30) or minimum steps (None) has not been met. Training will continue...\n"
     ]
    },
    {
     "name": "stdout",
     "output_type": "stream",
     "text": [
      "Epoch 19: 100%|██████████| 6/6 [00:25<00:00,  4.28s/it, loss=0.00256, v_num=1.79e+7]"
     ]
    },
    {
     "name": "stderr",
     "output_type": "stream",
     "text": [
      "Trainer was signaled to stop but required minimum epochs (30) or minimum steps (None) has not been met. Training will continue...\n"
     ]
    },
    {
     "name": "stdout",
     "output_type": "stream",
     "text": [
      "Epoch 20: 100%|██████████| 6/6 [00:26<00:00,  4.49s/it, loss=0.00986, v_num=1.79e+7]"
     ]
    },
    {
     "name": "stderr",
     "output_type": "stream",
     "text": [
      "Trainer was signaled to stop but required minimum epochs (30) or minimum steps (None) has not been met. Training will continue...\n"
     ]
    },
    {
     "name": "stdout",
     "output_type": "stream",
     "text": [
      "Epoch 21: 100%|██████████| 6/6 [00:28<00:00,  4.70s/it, loss=0.0166, v_num=1.79e+7] "
     ]
    },
    {
     "name": "stderr",
     "output_type": "stream",
     "text": [
      "Trainer was signaled to stop but required minimum epochs (30) or minimum steps (None) has not been met. Training will continue...\n"
     ]
    },
    {
     "name": "stdout",
     "output_type": "stream",
     "text": [
      "Epoch 22: 100%|██████████| 6/6 [00:29<00:00,  4.91s/it, loss=0.0205, v_num=1.79e+7]"
     ]
    },
    {
     "name": "stderr",
     "output_type": "stream",
     "text": [
      "Trainer was signaled to stop but required minimum epochs (30) or minimum steps (None) has not been met. Training will continue...\n"
     ]
    },
    {
     "name": "stdout",
     "output_type": "stream",
     "text": [
      "Epoch 23: 100%|██████████| 6/6 [00:30<00:00,  5.14s/it, loss=0.0233, v_num=1.79e+7]"
     ]
    },
    {
     "name": "stderr",
     "output_type": "stream",
     "text": [
      "Trainer was signaled to stop but required minimum epochs (30) or minimum steps (None) has not been met. Training will continue...\n"
     ]
    },
    {
     "name": "stdout",
     "output_type": "stream",
     "text": [
      "Epoch 24: 100%|██████████| 6/6 [00:32<00:00,  5.35s/it, loss=0.0168, v_num=1.79e+7]"
     ]
    },
    {
     "name": "stderr",
     "output_type": "stream",
     "text": [
      "Trainer was signaled to stop but required minimum epochs (30) or minimum steps (None) has not been met. Training will continue...\n"
     ]
    },
    {
     "name": "stdout",
     "output_type": "stream",
     "text": [
      "Epoch 25: 100%|██████████| 6/6 [00:33<00:00,  5.56s/it, loss=0.0106, v_num=1.79e+7]"
     ]
    },
    {
     "name": "stderr",
     "output_type": "stream",
     "text": [
      "Trainer was signaled to stop but required minimum epochs (30) or minimum steps (None) has not been met. Training will continue...\n"
     ]
    },
    {
     "name": "stdout",
     "output_type": "stream",
     "text": [
      "Epoch 26: 100%|██████████| 6/6 [00:34<00:00,  5.76s/it, loss=0.00708, v_num=1.79e+7]"
     ]
    },
    {
     "name": "stderr",
     "output_type": "stream",
     "text": [
      "Trainer was signaled to stop but required minimum epochs (30) or minimum steps (None) has not been met. Training will continue...\n"
     ]
    },
    {
     "name": "stdout",
     "output_type": "stream",
     "text": [
      "Epoch 27: 100%|██████████| 6/6 [00:35<00:00,  5.97s/it, loss=0.00387, v_num=1.79e+7]"
     ]
    },
    {
     "name": "stderr",
     "output_type": "stream",
     "text": [
      "Trainer was signaled to stop but required minimum epochs (30) or minimum steps (None) has not been met. Training will continue...\n"
     ]
    },
    {
     "name": "stdout",
     "output_type": "stream",
     "text": [
      "Epoch 28: 100%|██████████| 6/6 [00:37<00:00,  6.20s/it, loss=0.00228, v_num=1.79e+7]"
     ]
    },
    {
     "name": "stderr",
     "output_type": "stream",
     "text": [
      "Trainer was signaled to stop but required minimum epochs (30) or minimum steps (None) has not been met. Training will continue...\n"
     ]
    },
    {
     "name": "stdout",
     "output_type": "stream",
     "text": [
      "Epoch 29: 100%|██████████| 6/6 [00:38<00:00,  6.41s/it, loss=0.0013, v_num=1.79e+7] \n"
     ]
    },
    {
     "name": "stderr",
     "output_type": "stream",
     "text": [
      "LOCAL_RANK: 0 - CUDA_VISIBLE_DEVICES: [GPU-6f07f7d1-b74b-ade4-fb35-ff23d46bc4d9]\n"
     ]
    },
    {
     "name": "stdout",
     "output_type": "stream",
     "text": [
      "Testing DataLoader 0: 100%|██████████| 1/1 [00:00<00:00,  2.40it/s]\n",
      "────────────────────────────────────────────────────────────────────────────────────────────────────────────────────────\n",
      "       Test metric             DataLoader 0\n",
      "────────────────────────────────────────────────────────────────────────────────────────────────────────────────────────\n",
      "      test_auc_mito         0.8439792990684509\n",
      "        test_loss           0.10474091023206711\n",
      "────────────────────────────────────────────────────────────────────────────────────────────────────────────────────────\n",
      "mito carp_pretrained_finetune\n"
     ]
    },
    {
     "name": "stderr",
     "output_type": "stream",
     "text": [
      "Multiprocessing is handled by SLURM.\n",
      "GPU available: True, used: True\n",
      "TPU available: False, using: 0 TPU cores\n",
      "IPU available: False, using: 0 IPUs\n",
      "HPU available: False, using: 0 HPUs\n",
      "LOCAL_RANK: 0 - CUDA_VISIBLE_DEVICES: [GPU-6f07f7d1-b74b-ade4-fb35-ff23d46bc4d9]\n",
      "\n",
      "  | Name       | Type           | Params\n",
      "----------------------------------------------\n",
      "0 | encoder    | ByteNet        | 603 K \n",
      "1 | classifier | ESMAttention1d | 16.8 K\n",
      "----------------------------------------------\n",
      "16.8 K    Trainable params\n",
      "603 K     Non-trainable params\n",
      "620 K     Total params\n",
      "2.481     Total estimated model params size (MB)\n",
      "SLURM auto-requeueing enabled. Setting signal handlers.\n"
     ]
    },
    {
     "name": "stdout",
     "output_type": "stream",
     "text": [
      "Epoch 42:  83%|████████▎ | 5/6 [00:39<00:07,  7.96s/it, loss=0.0559, v_num=1.79e+7]"
     ]
    },
    {
     "name": "stderr",
     "output_type": "stream",
     "text": [
      "/home/gridsan/mmurphy/.conda/envs/MSPretraining/lib/python3.9/site-packages/torchmetrics/utilities/prints.py:36: UserWarning: No positive samples in targets, true positive value should be meaningless. Returning zero tensor in true positive score\n",
      "  warnings.warn(*args, **kwargs)\n"
     ]
    },
    {
     "name": "stdout",
     "output_type": "stream",
     "text": [
      "Epoch 91: 100%|██████████| 6/6 [01:25<00:00, 14.19s/it, loss=0.0237, v_num=1.79e+7]\n"
     ]
    },
    {
     "name": "stderr",
     "output_type": "stream",
     "text": [
      "LOCAL_RANK: 0 - CUDA_VISIBLE_DEVICES: [GPU-6f07f7d1-b74b-ade4-fb35-ff23d46bc4d9]\n"
     ]
    },
    {
     "name": "stdout",
     "output_type": "stream",
     "text": [
      "Testing DataLoader 0: 100%|██████████| 1/1 [00:00<00:00,  2.76it/s]\n",
      "────────────────────────────────────────────────────────────────────────────────────────────────────────────────────────\n",
      "       Test metric             DataLoader 0\n",
      "────────────────────────────────────────────────────────────────────────────────────────────────────────────────────────\n",
      "     test_auc_cdc28         0.8023911714553833\n",
      "        test_loss           0.10937728732824326\n",
      "────────────────────────────────────────────────────────────────────────────────────────────────────────────────────────\n",
      "cdc28 ms_pretrained_frozen\n"
     ]
    },
    {
     "name": "stderr",
     "output_type": "stream",
     "text": [
      "Multiprocessing is handled by SLURM.\n",
      "GPU available: True, used: True\n",
      "TPU available: False, using: 0 TPU cores\n",
      "IPU available: False, using: 0 IPUs\n",
      "HPU available: False, using: 0 HPUs\n",
      "LOCAL_RANK: 0 - CUDA_VISIBLE_DEVICES: [GPU-6f07f7d1-b74b-ade4-fb35-ff23d46bc4d9]\n",
      "\n",
      "  | Name       | Type           | Params\n",
      "----------------------------------------------\n",
      "0 | encoder    | ByteNet        | 603 K \n",
      "1 | classifier | ESMAttention1d | 16.8 K\n",
      "----------------------------------------------\n",
      "620 K     Trainable params\n",
      "0         Non-trainable params\n",
      "620 K     Total params\n",
      "2.481     Total estimated model params size (MB)\n",
      "SLURM auto-requeueing enabled. Setting signal handlers.\n"
     ]
    },
    {
     "name": "stdout",
     "output_type": "stream",
     "text": [
      "Epoch 16: 100%|██████████| 6/6 [00:20<00:00,  3.36s/it, loss=0.000847, v_num=1.79e+7]"
     ]
    },
    {
     "name": "stderr",
     "output_type": "stream",
     "text": [
      "Trainer was signaled to stop but required minimum epochs (30) or minimum steps (None) has not been met. Training will continue...\n"
     ]
    },
    {
     "name": "stdout",
     "output_type": "stream",
     "text": [
      "Epoch 17: 100%|██████████| 6/6 [00:21<00:00,  3.56s/it, loss=0.000479, v_num=1.79e+7]"
     ]
    },
    {
     "name": "stderr",
     "output_type": "stream",
     "text": [
      "Trainer was signaled to stop but required minimum epochs (30) or minimum steps (None) has not been met. Training will continue...\n"
     ]
    },
    {
     "name": "stdout",
     "output_type": "stream",
     "text": [
      "Epoch 18: 100%|██████████| 6/6 [00:22<00:00,  3.75s/it, loss=0.000303, v_num=1.79e+7]"
     ]
    },
    {
     "name": "stderr",
     "output_type": "stream",
     "text": [
      "Trainer was signaled to stop but required minimum epochs (30) or minimum steps (None) has not been met. Training will continue...\n"
     ]
    },
    {
     "name": "stdout",
     "output_type": "stream",
     "text": [
      "Epoch 19: 100%|██████████| 6/6 [00:23<00:00,  3.94s/it, loss=0.000221, v_num=1.79e+7]"
     ]
    },
    {
     "name": "stderr",
     "output_type": "stream",
     "text": [
      "Trainer was signaled to stop but required minimum epochs (30) or minimum steps (None) has not been met. Training will continue...\n"
     ]
    },
    {
     "name": "stdout",
     "output_type": "stream",
     "text": [
      "Epoch 20: 100%|██████████| 6/6 [00:24<00:00,  4.14s/it, loss=0.000179, v_num=1.79e+7]"
     ]
    },
    {
     "name": "stderr",
     "output_type": "stream",
     "text": [
      "Trainer was signaled to stop but required minimum epochs (30) or minimum steps (None) has not been met. Training will continue...\n"
     ]
    },
    {
     "name": "stdout",
     "output_type": "stream",
     "text": [
      "Epoch 21: 100%|██████████| 6/6 [00:25<00:00,  4.32s/it, loss=0.000151, v_num=1.79e+7]"
     ]
    },
    {
     "name": "stderr",
     "output_type": "stream",
     "text": [
      "Trainer was signaled to stop but required minimum epochs (30) or minimum steps (None) has not been met. Training will continue...\n"
     ]
    },
    {
     "name": "stdout",
     "output_type": "stream",
     "text": [
      "Epoch 22: 100%|██████████| 6/6 [00:27<00:00,  4.52s/it, loss=0.000133, v_num=1.79e+7]"
     ]
    },
    {
     "name": "stderr",
     "output_type": "stream",
     "text": [
      "Trainer was signaled to stop but required minimum epochs (30) or minimum steps (None) has not been met. Training will continue...\n"
     ]
    },
    {
     "name": "stdout",
     "output_type": "stream",
     "text": [
      "Epoch 23: 100%|██████████| 6/6 [00:28<00:00,  4.71s/it, loss=0.000117, v_num=1.79e+7]"
     ]
    },
    {
     "name": "stderr",
     "output_type": "stream",
     "text": [
      "Trainer was signaled to stop but required minimum epochs (30) or minimum steps (None) has not been met. Training will continue...\n"
     ]
    },
    {
     "name": "stdout",
     "output_type": "stream",
     "text": [
      "Epoch 24: 100%|██████████| 6/6 [00:29<00:00,  4.91s/it, loss=0.000106, v_num=1.79e+7]"
     ]
    },
    {
     "name": "stderr",
     "output_type": "stream",
     "text": [
      "Trainer was signaled to stop but required minimum epochs (30) or minimum steps (None) has not been met. Training will continue...\n"
     ]
    },
    {
     "name": "stdout",
     "output_type": "stream",
     "text": [
      "Epoch 25: 100%|██████████| 6/6 [00:30<00:00,  5.10s/it, loss=9.63e-05, v_num=1.79e+7]"
     ]
    },
    {
     "name": "stderr",
     "output_type": "stream",
     "text": [
      "Trainer was signaled to stop but required minimum epochs (30) or minimum steps (None) has not been met. Training will continue...\n"
     ]
    },
    {
     "name": "stdout",
     "output_type": "stream",
     "text": [
      "Epoch 26: 100%|██████████| 6/6 [00:31<00:00,  5.29s/it, loss=8.8e-05, v_num=1.79e+7] "
     ]
    },
    {
     "name": "stderr",
     "output_type": "stream",
     "text": [
      "Trainer was signaled to stop but required minimum epochs (30) or minimum steps (None) has not been met. Training will continue...\n"
     ]
    },
    {
     "name": "stdout",
     "output_type": "stream",
     "text": [
      "Epoch 27: 100%|██████████| 6/6 [00:32<00:00,  5.49s/it, loss=8.39e-05, v_num=1.79e+7]"
     ]
    },
    {
     "name": "stderr",
     "output_type": "stream",
     "text": [
      "Trainer was signaled to stop but required minimum epochs (30) or minimum steps (None) has not been met. Training will continue...\n"
     ]
    },
    {
     "name": "stdout",
     "output_type": "stream",
     "text": [
      "Epoch 28: 100%|██████████| 6/6 [00:34<00:00,  5.70s/it, loss=7.99e-05, v_num=1.79e+7]"
     ]
    },
    {
     "name": "stderr",
     "output_type": "stream",
     "text": [
      "Trainer was signaled to stop but required minimum epochs (30) or minimum steps (None) has not been met. Training will continue...\n"
     ]
    },
    {
     "name": "stdout",
     "output_type": "stream",
     "text": [
      "Epoch 29: 100%|██████████| 6/6 [00:35<00:00,  5.90s/it, loss=7.52e-05, v_num=1.79e+7]\n"
     ]
    },
    {
     "name": "stderr",
     "output_type": "stream",
     "text": [
      "LOCAL_RANK: 0 - CUDA_VISIBLE_DEVICES: [GPU-6f07f7d1-b74b-ade4-fb35-ff23d46bc4d9]\n"
     ]
    },
    {
     "name": "stdout",
     "output_type": "stream",
     "text": [
      "Testing DataLoader 0: 100%|██████████| 1/1 [00:00<00:00,  2.78it/s]\n",
      "────────────────────────────────────────────────────────────────────────────────────────────────────────────────────────\n",
      "       Test metric             DataLoader 0\n",
      "────────────────────────────────────────────────────────────────────────────────────────────────────────────────────────\n",
      "     test_auc_cdc28         0.7582358121871948\n",
      "        test_loss           0.09778548032045364\n",
      "────────────────────────────────────────────────────────────────────────────────────────────────────────────────────────\n",
      "cdc28 ms_pretrained_finetune\n"
     ]
    },
    {
     "name": "stderr",
     "output_type": "stream",
     "text": [
      "Multiprocessing is handled by SLURM.\n",
      "GPU available: True, used: True\n",
      "TPU available: False, using: 0 TPU cores\n",
      "IPU available: False, using: 0 IPUs\n",
      "HPU available: False, using: 0 HPUs\n",
      "LOCAL_RANK: 0 - CUDA_VISIBLE_DEVICES: [GPU-6f07f7d1-b74b-ade4-fb35-ff23d46bc4d9]\n",
      "\n",
      "  | Name       | Type      | Params\n",
      "-----------------------------------------\n",
      "0 | embedding  | Embedding | 3.1 K \n",
      "1 | classifier | Linear    | 129   \n",
      "-----------------------------------------\n",
      "3.2 K     Trainable params\n",
      "0         Non-trainable params\n",
      "3.2 K     Total params\n",
      "0.013     Total estimated model params size (MB)\n",
      "SLURM auto-requeueing enabled. Setting signal handlers.\n"
     ]
    },
    {
     "name": "stdout",
     "output_type": "stream",
     "text": [
      "Epoch 10: 100%|██████████| 6/6 [00:08<00:00,  1.41s/it, loss=0.411, v_num=1.79e+7]"
     ]
    },
    {
     "name": "stderr",
     "output_type": "stream",
     "text": [
      "Trainer was signaled to stop but required minimum epochs (30) or minimum steps (None) has not been met. Training will continue...\n"
     ]
    },
    {
     "name": "stdout",
     "output_type": "stream",
     "text": [
      "Epoch 11: 100%|██████████| 6/6 [00:09<00:00,  1.53s/it, loss=0.388, v_num=1.79e+7]"
     ]
    },
    {
     "name": "stderr",
     "output_type": "stream",
     "text": [
      "Trainer was signaled to stop but required minimum epochs (30) or minimum steps (None) has not been met. Training will continue...\n"
     ]
    },
    {
     "name": "stdout",
     "output_type": "stream",
     "text": [
      "Epoch 12: 100%|██████████| 6/6 [00:09<00:00,  1.65s/it, loss=0.367, v_num=1.79e+7]"
     ]
    },
    {
     "name": "stderr",
     "output_type": "stream",
     "text": [
      "Trainer was signaled to stop but required minimum epochs (30) or minimum steps (None) has not been met. Training will continue...\n"
     ]
    },
    {
     "name": "stdout",
     "output_type": "stream",
     "text": [
      "Epoch 13: 100%|██████████| 6/6 [00:10<00:00,  1.77s/it, loss=0.346, v_num=1.79e+7]"
     ]
    },
    {
     "name": "stderr",
     "output_type": "stream",
     "text": [
      "Trainer was signaled to stop but required minimum epochs (30) or minimum steps (None) has not been met. Training will continue...\n"
     ]
    },
    {
     "name": "stdout",
     "output_type": "stream",
     "text": [
      "Epoch 14: 100%|██████████| 6/6 [00:11<00:00,  1.91s/it, loss=0.328, v_num=1.79e+7]"
     ]
    },
    {
     "name": "stderr",
     "output_type": "stream",
     "text": [
      "Trainer was signaled to stop but required minimum epochs (30) or minimum steps (None) has not been met. Training will continue...\n"
     ]
    },
    {
     "name": "stdout",
     "output_type": "stream",
     "text": [
      "Epoch 15: 100%|██████████| 6/6 [00:12<00:00,  2.03s/it, loss=0.312, v_num=1.79e+7]"
     ]
    },
    {
     "name": "stderr",
     "output_type": "stream",
     "text": [
      "Trainer was signaled to stop but required minimum epochs (30) or minimum steps (None) has not been met. Training will continue...\n"
     ]
    },
    {
     "name": "stdout",
     "output_type": "stream",
     "text": [
      "Epoch 16: 100%|██████████| 6/6 [00:12<00:00,  2.16s/it, loss=0.296, v_num=1.79e+7]"
     ]
    },
    {
     "name": "stderr",
     "output_type": "stream",
     "text": [
      "Trainer was signaled to stop but required minimum epochs (30) or minimum steps (None) has not been met. Training will continue...\n"
     ]
    },
    {
     "name": "stdout",
     "output_type": "stream",
     "text": [
      "Epoch 17: 100%|██████████| 6/6 [00:13<00:00,  2.29s/it, loss=0.281, v_num=1.79e+7]"
     ]
    },
    {
     "name": "stderr",
     "output_type": "stream",
     "text": [
      "Trainer was signaled to stop but required minimum epochs (30) or minimum steps (None) has not been met. Training will continue...\n"
     ]
    },
    {
     "name": "stdout",
     "output_type": "stream",
     "text": [
      "Epoch 18: 100%|██████████| 6/6 [00:14<00:00,  2.42s/it, loss=0.268, v_num=1.79e+7]"
     ]
    },
    {
     "name": "stderr",
     "output_type": "stream",
     "text": [
      "Trainer was signaled to stop but required minimum epochs (30) or minimum steps (None) has not been met. Training will continue...\n"
     ]
    },
    {
     "name": "stdout",
     "output_type": "stream",
     "text": [
      "Epoch 19: 100%|██████████| 6/6 [00:15<00:00,  2.54s/it, loss=0.256, v_num=1.79e+7]"
     ]
    },
    {
     "name": "stderr",
     "output_type": "stream",
     "text": [
      "Trainer was signaled to stop but required minimum epochs (30) or minimum steps (None) has not been met. Training will continue...\n"
     ]
    },
    {
     "name": "stdout",
     "output_type": "stream",
     "text": [
      "Epoch 20: 100%|██████████| 6/6 [00:15<00:00,  2.66s/it, loss=0.244, v_num=1.79e+7]"
     ]
    },
    {
     "name": "stderr",
     "output_type": "stream",
     "text": [
      "Trainer was signaled to stop but required minimum epochs (30) or minimum steps (None) has not been met. Training will continue...\n"
     ]
    },
    {
     "name": "stdout",
     "output_type": "stream",
     "text": [
      "Epoch 21: 100%|██████████| 6/6 [00:16<00:00,  2.78s/it, loss=0.234, v_num=1.79e+7]"
     ]
    },
    {
     "name": "stderr",
     "output_type": "stream",
     "text": [
      "Trainer was signaled to stop but required minimum epochs (30) or minimum steps (None) has not been met. Training will continue...\n"
     ]
    },
    {
     "name": "stdout",
     "output_type": "stream",
     "text": [
      "Epoch 22: 100%|██████████| 6/6 [00:17<00:00,  2.91s/it, loss=0.223, v_num=1.79e+7]"
     ]
    },
    {
     "name": "stderr",
     "output_type": "stream",
     "text": [
      "Trainer was signaled to stop but required minimum epochs (30) or minimum steps (None) has not been met. Training will continue...\n"
     ]
    },
    {
     "name": "stdout",
     "output_type": "stream",
     "text": [
      "Epoch 23: 100%|██████████| 6/6 [00:18<00:00,  3.03s/it, loss=0.214, v_num=1.79e+7]"
     ]
    },
    {
     "name": "stderr",
     "output_type": "stream",
     "text": [
      "Trainer was signaled to stop but required minimum epochs (30) or minimum steps (None) has not been met. Training will continue...\n"
     ]
    },
    {
     "name": "stdout",
     "output_type": "stream",
     "text": [
      "Epoch 24: 100%|██████████| 6/6 [00:18<00:00,  3.17s/it, loss=0.206, v_num=1.79e+7]"
     ]
    },
    {
     "name": "stderr",
     "output_type": "stream",
     "text": [
      "Trainer was signaled to stop but required minimum epochs (30) or minimum steps (None) has not been met. Training will continue...\n"
     ]
    },
    {
     "name": "stdout",
     "output_type": "stream",
     "text": [
      "Epoch 25: 100%|██████████| 6/6 [00:19<00:00,  3.29s/it, loss=0.197, v_num=1.79e+7]"
     ]
    },
    {
     "name": "stderr",
     "output_type": "stream",
     "text": [
      "Trainer was signaled to stop but required minimum epochs (30) or minimum steps (None) has not been met. Training will continue...\n"
     ]
    },
    {
     "name": "stdout",
     "output_type": "stream",
     "text": [
      "Epoch 26: 100%|██████████| 6/6 [00:20<00:00,  3.43s/it, loss=0.19, v_num=1.79e+7] "
     ]
    },
    {
     "name": "stderr",
     "output_type": "stream",
     "text": [
      "Trainer was signaled to stop but required minimum epochs (30) or minimum steps (None) has not been met. Training will continue...\n"
     ]
    },
    {
     "name": "stdout",
     "output_type": "stream",
     "text": [
      "Epoch 27: 100%|██████████| 6/6 [00:21<00:00,  3.56s/it, loss=0.183, v_num=1.79e+7]"
     ]
    },
    {
     "name": "stderr",
     "output_type": "stream",
     "text": [
      "Trainer was signaled to stop but required minimum epochs (30) or minimum steps (None) has not been met. Training will continue...\n"
     ]
    },
    {
     "name": "stdout",
     "output_type": "stream",
     "text": [
      "Epoch 28: 100%|██████████| 6/6 [00:22<00:00,  3.68s/it, loss=0.176, v_num=1.79e+7]"
     ]
    },
    {
     "name": "stderr",
     "output_type": "stream",
     "text": [
      "Trainer was signaled to stop but required minimum epochs (30) or minimum steps (None) has not been met. Training will continue...\n"
     ]
    },
    {
     "name": "stdout",
     "output_type": "stream",
     "text": [
      "Epoch 29: 100%|██████████| 6/6 [00:22<00:00,  3.80s/it, loss=0.171, v_num=1.79e+7]\n"
     ]
    },
    {
     "name": "stderr",
     "output_type": "stream",
     "text": [
      "LOCAL_RANK: 0 - CUDA_VISIBLE_DEVICES: [GPU-6f07f7d1-b74b-ade4-fb35-ff23d46bc4d9]\n"
     ]
    },
    {
     "name": "stdout",
     "output_type": "stream",
     "text": [
      "Testing DataLoader 0: 100%|██████████| 1/1 [00:00<00:00,  3.67it/s]\n",
      "────────────────────────────────────────────────────────────────────────────────────────────────────────────────────────\n",
      "       Test metric             DataLoader 0\n",
      "────────────────────────────────────────────────────────────────────────────────────────────────────────────────────────\n",
      "     test_auc_cdc28         0.6378797292709351\n",
      "        test_loss           0.6507566571235657\n",
      "────────────────────────────────────────────────────────────────────────────────────────────────────────────────────────\n",
      "cdc28 linear\n"
     ]
    },
    {
     "name": "stderr",
     "output_type": "stream",
     "text": [
      "Multiprocessing is handled by SLURM.\n",
      "GPU available: True, used: True\n",
      "TPU available: False, using: 0 TPU cores\n",
      "IPU available: False, using: 0 IPUs\n",
      "HPU available: False, using: 0 HPUs\n",
      "LOCAL_RANK: 0 - CUDA_VISIBLE_DEVICES: [GPU-6f07f7d1-b74b-ade4-fb35-ff23d46bc4d9]\n",
      "\n",
      "  | Name       | Type       | Params\n",
      "------------------------------------------\n",
      "0 | embedding  | Embedding  | 3.1 K \n",
      "1 | encoder    | Sequential | 51.5 K\n",
      "2 | classifier | Linear     | 33    \n",
      "------------------------------------------\n",
      "54.6 K    Trainable params\n",
      "0         Non-trainable params\n",
      "54.6 K    Total params\n",
      "0.218     Total estimated model params size (MB)\n",
      "SLURM auto-requeueing enabled. Setting signal handlers.\n"
     ]
    },
    {
     "name": "stdout",
     "output_type": "stream",
     "text": [
      "Epoch 76: 100%|██████████| 6/6 [01:00<00:00, 10.04s/it, loss=0.161, v_num=1.79e+7]\n"
     ]
    },
    {
     "name": "stderr",
     "output_type": "stream",
     "text": [
      "LOCAL_RANK: 0 - CUDA_VISIBLE_DEVICES: [GPU-6f07f7d1-b74b-ade4-fb35-ff23d46bc4d9]\n"
     ]
    },
    {
     "name": "stdout",
     "output_type": "stream",
     "text": [
      "Testing DataLoader 0: 100%|██████████| 1/1 [00:00<00:00,  3.08it/s]\n",
      "────────────────────────────────────────────────────────────────────────────────────────────────────────────────────────\n",
      "       Test metric             DataLoader 0\n",
      "────────────────────────────────────────────────────────────────────────────────────────────────────────────────────────\n",
      "     test_auc_cdc28         0.6873460412025452\n",
      "        test_loss           0.21876904368400574\n",
      "────────────────────────────────────────────────────────────────────────────────────────────────────────────────────────\n",
      "cdc28 cnn\n"
     ]
    },
    {
     "name": "stderr",
     "output_type": "stream",
     "text": [
      "Multiprocessing is handled by SLURM.\n",
      "GPU available: True, used: True\n",
      "TPU available: False, using: 0 TPU cores\n",
      "IPU available: False, using: 0 IPUs\n",
      "HPU available: False, using: 0 HPUs\n",
      "LOCAL_RANK: 0 - CUDA_VISIBLE_DEVICES: [GPU-6f07f7d1-b74b-ade4-fb35-ff23d46bc4d9]\n",
      "\n",
      "  | Name       | Type           | Params\n",
      "----------------------------------------------\n",
      "0 | encoder    | ByteNet        | 603 K \n",
      "1 | classifier | ESMAttention1d | 16.8 K\n",
      "----------------------------------------------\n",
      "620 K     Trainable params\n",
      "0         Non-trainable params\n",
      "620 K     Total params\n",
      "2.481     Total estimated model params size (MB)\n",
      "SLURM auto-requeueing enabled. Setting signal handlers.\n"
     ]
    },
    {
     "name": "stdout",
     "output_type": "stream",
     "text": [
      "Epoch 19: 100%|██████████| 6/6 [00:23<00:00,  3.87s/it, loss=0.0238, v_num=1.79e+7]"
     ]
    },
    {
     "name": "stderr",
     "output_type": "stream",
     "text": [
      "Trainer was signaled to stop but required minimum epochs (30) or minimum steps (None) has not been met. Training will continue...\n"
     ]
    },
    {
     "name": "stdout",
     "output_type": "stream",
     "text": [
      "Epoch 20: 100%|██████████| 6/6 [00:24<00:00,  4.06s/it, loss=0.0119, v_num=1.79e+7]"
     ]
    },
    {
     "name": "stderr",
     "output_type": "stream",
     "text": [
      "Trainer was signaled to stop but required minimum epochs (30) or minimum steps (None) has not been met. Training will continue...\n"
     ]
    },
    {
     "name": "stdout",
     "output_type": "stream",
     "text": [
      "Epoch 21: 100%|██████████| 6/6 [00:25<00:00,  4.24s/it, loss=0.00503, v_num=1.79e+7]"
     ]
    },
    {
     "name": "stderr",
     "output_type": "stream",
     "text": [
      "Trainer was signaled to stop but required minimum epochs (30) or minimum steps (None) has not been met. Training will continue...\n"
     ]
    },
    {
     "name": "stdout",
     "output_type": "stream",
     "text": [
      "Epoch 22: 100%|██████████| 6/6 [00:26<00:00,  4.43s/it, loss=0.00384, v_num=1.79e+7]"
     ]
    },
    {
     "name": "stderr",
     "output_type": "stream",
     "text": [
      "Trainer was signaled to stop but required minimum epochs (30) or minimum steps (None) has not been met. Training will continue...\n"
     ]
    },
    {
     "name": "stdout",
     "output_type": "stream",
     "text": [
      "Epoch 23: 100%|██████████| 6/6 [00:27<00:00,  4.62s/it, loss=0.00319, v_num=1.79e+7]"
     ]
    },
    {
     "name": "stderr",
     "output_type": "stream",
     "text": [
      "Trainer was signaled to stop but required minimum epochs (30) or minimum steps (None) has not been met. Training will continue...\n"
     ]
    },
    {
     "name": "stdout",
     "output_type": "stream",
     "text": [
      "Epoch 24: 100%|██████████| 6/6 [00:28<00:00,  4.81s/it, loss=0.00931, v_num=1.79e+7]"
     ]
    },
    {
     "name": "stderr",
     "output_type": "stream",
     "text": [
      "Trainer was signaled to stop but required minimum epochs (30) or minimum steps (None) has not been met. Training will continue...\n"
     ]
    },
    {
     "name": "stdout",
     "output_type": "stream",
     "text": [
      "Epoch 25: 100%|██████████| 6/6 [00:29<00:00,  5.00s/it, loss=0.0182, v_num=1.79e+7] "
     ]
    },
    {
     "name": "stderr",
     "output_type": "stream",
     "text": [
      "Trainer was signaled to stop but required minimum epochs (30) or minimum steps (None) has not been met. Training will continue...\n"
     ]
    },
    {
     "name": "stdout",
     "output_type": "stream",
     "text": [
      "Epoch 26: 100%|██████████| 6/6 [00:31<00:00,  5.19s/it, loss=0.0198, v_num=1.79e+7]"
     ]
    },
    {
     "name": "stderr",
     "output_type": "stream",
     "text": [
      "Trainer was signaled to stop but required minimum epochs (30) or minimum steps (None) has not been met. Training will continue...\n"
     ]
    },
    {
     "name": "stdout",
     "output_type": "stream",
     "text": [
      "Epoch 27: 100%|██████████| 6/6 [00:32<00:00,  5.38s/it, loss=0.0215, v_num=1.79e+7]"
     ]
    },
    {
     "name": "stderr",
     "output_type": "stream",
     "text": [
      "Trainer was signaled to stop but required minimum epochs (30) or minimum steps (None) has not been met. Training will continue...\n"
     ]
    },
    {
     "name": "stdout",
     "output_type": "stream",
     "text": [
      "Epoch 28: 100%|██████████| 6/6 [00:33<00:00,  5.56s/it, loss=0.0162, v_num=1.79e+7]"
     ]
    },
    {
     "name": "stderr",
     "output_type": "stream",
     "text": [
      "Trainer was signaled to stop but required minimum epochs (30) or minimum steps (None) has not been met. Training will continue...\n"
     ]
    },
    {
     "name": "stdout",
     "output_type": "stream",
     "text": [
      "Epoch 29: 100%|██████████| 6/6 [00:34<00:00,  5.75s/it, loss=0.00732, v_num=1.79e+7]\n"
     ]
    },
    {
     "name": "stderr",
     "output_type": "stream",
     "text": [
      "LOCAL_RANK: 0 - CUDA_VISIBLE_DEVICES: [GPU-6f07f7d1-b74b-ade4-fb35-ff23d46bc4d9]\n"
     ]
    },
    {
     "name": "stdout",
     "output_type": "stream",
     "text": [
      "Testing DataLoader 0: 100%|██████████| 1/1 [00:00<00:00,  2.59it/s]\n",
      "────────────────────────────────────────────────────────────────────────────────────────────────────────────────────────\n",
      "       Test metric             DataLoader 0\n",
      "────────────────────────────────────────────────────────────────────────────────────────────────────────────────────────\n",
      "     test_auc_cdc28         0.7657789587974548\n",
      "        test_loss           0.09876204282045364\n",
      "────────────────────────────────────────────────────────────────────────────────────────────────────────────────────────\n",
      "cdc28 random_frozen\n"
     ]
    },
    {
     "name": "stderr",
     "output_type": "stream",
     "text": [
      "Multiprocessing is handled by SLURM.\n",
      "GPU available: True, used: True\n",
      "TPU available: False, using: 0 TPU cores\n",
      "IPU available: False, using: 0 IPUs\n",
      "HPU available: False, using: 0 HPUs\n",
      "LOCAL_RANK: 0 - CUDA_VISIBLE_DEVICES: [GPU-6f07f7d1-b74b-ade4-fb35-ff23d46bc4d9]\n",
      "\n",
      "  | Name       | Type           | Params\n",
      "----------------------------------------------\n",
      "0 | encoder    | ByteNet        | 603 K \n",
      "1 | classifier | ESMAttention1d | 16.8 K\n",
      "----------------------------------------------\n",
      "16.8 K    Trainable params\n",
      "603 K     Non-trainable params\n",
      "620 K     Total params\n",
      "2.481     Total estimated model params size (MB)\n",
      "SLURM auto-requeueing enabled. Setting signal handlers.\n"
     ]
    },
    {
     "name": "stdout",
     "output_type": "stream",
     "text": [
      "Epoch 75: 100%|██████████| 6/6 [01:11<00:00, 11.92s/it, loss=0.0692, v_num=1.79e+7]\n"
     ]
    },
    {
     "name": "stderr",
     "output_type": "stream",
     "text": [
      "LOCAL_RANK: 0 - CUDA_VISIBLE_DEVICES: [GPU-6f07f7d1-b74b-ade4-fb35-ff23d46bc4d9]\n"
     ]
    },
    {
     "name": "stdout",
     "output_type": "stream",
     "text": [
      "Testing DataLoader 0: 100%|██████████| 1/1 [00:00<00:00,  2.74it/s]\n",
      "────────────────────────────────────────────────────────────────────────────────────────────────────────────────────────\n",
      "       Test metric             DataLoader 0\n",
      "────────────────────────────────────────────────────────────────────────────────────────────────────────────────────────\n",
      "     test_auc_cdc28         0.7530531883239746\n",
      "        test_loss           0.09289095550775528\n",
      "────────────────────────────────────────────────────────────────────────────────────────────────────────────────────────\n",
      "cdc28 random_finetune\n"
     ]
    },
    {
     "name": "stderr",
     "output_type": "stream",
     "text": [
      "Multiprocessing is handled by SLURM.\n",
      "GPU available: True, used: True\n",
      "TPU available: False, using: 0 TPU cores\n",
      "IPU available: False, using: 0 IPUs\n",
      "HPU available: False, using: 0 HPUs\n",
      "LOCAL_RANK: 0 - CUDA_VISIBLE_DEVICES: [GPU-6f07f7d1-b74b-ade4-fb35-ff23d46bc4d9]\n",
      "\n",
      "  | Name       | Type           | Params\n",
      "----------------------------------------------\n",
      "0 | encoder    | ByteNet        | 603 K \n",
      "1 | classifier | ESMAttention1d | 16.8 K\n",
      "----------------------------------------------\n",
      "16.8 K    Trainable params\n",
      "603 K     Non-trainable params\n",
      "620 K     Total params\n",
      "2.481     Total estimated model params size (MB)\n",
      "SLURM auto-requeueing enabled. Setting signal handlers.\n"
     ]
    },
    {
     "name": "stdout",
     "output_type": "stream",
     "text": [
      "Epoch 44: 100%|██████████| 6/6 [00:47<00:00,  7.95s/it, loss=0.0652, v_num=1.79e+7]\n"
     ]
    },
    {
     "name": "stderr",
     "output_type": "stream",
     "text": [
      "LOCAL_RANK: 0 - CUDA_VISIBLE_DEVICES: [GPU-6f07f7d1-b74b-ade4-fb35-ff23d46bc4d9]\n"
     ]
    },
    {
     "name": "stdout",
     "output_type": "stream",
     "text": [
      "Testing DataLoader 0: 100%|██████████| 1/1 [00:00<00:00,  2.13it/s]\n",
      "────────────────────────────────────────────────────────────────────────────────────────────────────────────────────────\n",
      "       Test metric             DataLoader 0\n",
      "────────────────────────────────────────────────────────────────────────────────────────────────────────────────────────\n",
      "     test_auc_cdc28         0.7921541929244995\n",
      "        test_loss           0.08917255699634552\n",
      "────────────────────────────────────────────────────────────────────────────────────────────────────────────────────────\n",
      "cdc28 carp_pretrained_frozen\n"
     ]
    },
    {
     "name": "stderr",
     "output_type": "stream",
     "text": [
      "Multiprocessing is handled by SLURM.\n",
      "GPU available: True, used: True\n",
      "TPU available: False, using: 0 TPU cores\n",
      "IPU available: False, using: 0 IPUs\n",
      "HPU available: False, using: 0 HPUs\n",
      "LOCAL_RANK: 0 - CUDA_VISIBLE_DEVICES: [GPU-6f07f7d1-b74b-ade4-fb35-ff23d46bc4d9]\n",
      "\n",
      "  | Name       | Type           | Params\n",
      "----------------------------------------------\n",
      "0 | encoder    | ByteNet        | 603 K \n",
      "1 | classifier | ESMAttention1d | 16.8 K\n",
      "----------------------------------------------\n",
      "620 K     Trainable params\n",
      "0         Non-trainable params\n",
      "620 K     Total params\n",
      "2.481     Total estimated model params size (MB)\n",
      "SLURM auto-requeueing enabled. Setting signal handlers.\n"
     ]
    },
    {
     "name": "stdout",
     "output_type": "stream",
     "text": [
      "Epoch 15: 100%|██████████| 6/6 [00:21<00:00,  3.50s/it, loss=0.00647, v_num=1.79e+7]"
     ]
    },
    {
     "name": "stderr",
     "output_type": "stream",
     "text": [
      "Trainer was signaled to stop but required minimum epochs (30) or minimum steps (None) has not been met. Training will continue...\n"
     ]
    },
    {
     "name": "stdout",
     "output_type": "stream",
     "text": [
      "Epoch 16: 100%|██████████| 6/6 [00:22<00:00,  3.72s/it, loss=0.00352, v_num=1.79e+7]"
     ]
    },
    {
     "name": "stderr",
     "output_type": "stream",
     "text": [
      "Trainer was signaled to stop but required minimum epochs (30) or minimum steps (None) has not been met. Training will continue...\n"
     ]
    },
    {
     "name": "stdout",
     "output_type": "stream",
     "text": [
      "Epoch 17: 100%|██████████| 6/6 [00:23<00:00,  3.92s/it, loss=0.00185, v_num=1.79e+7]"
     ]
    },
    {
     "name": "stderr",
     "output_type": "stream",
     "text": [
      "Trainer was signaled to stop but required minimum epochs (30) or minimum steps (None) has not been met. Training will continue...\n"
     ]
    },
    {
     "name": "stdout",
     "output_type": "stream",
     "text": [
      "Epoch 18: 100%|██████████| 6/6 [00:24<00:00,  4.13s/it, loss=0.0008, v_num=1.79e+7]  "
     ]
    },
    {
     "name": "stderr",
     "output_type": "stream",
     "text": [
      "Trainer was signaled to stop but required minimum epochs (30) or minimum steps (None) has not been met. Training will continue...\n"
     ]
    },
    {
     "name": "stdout",
     "output_type": "stream",
     "text": [
      "Epoch 19: 100%|██████████| 6/6 [00:26<00:00,  4.34s/it, loss=0.000363, v_num=1.79e+7]"
     ]
    },
    {
     "name": "stderr",
     "output_type": "stream",
     "text": [
      "Trainer was signaled to stop but required minimum epochs (30) or minimum steps (None) has not been met. Training will continue...\n"
     ]
    },
    {
     "name": "stdout",
     "output_type": "stream",
     "text": [
      "Epoch 20: 100%|██████████| 6/6 [00:27<00:00,  4.55s/it, loss=0.000245, v_num=1.79e+7]"
     ]
    },
    {
     "name": "stderr",
     "output_type": "stream",
     "text": [
      "Trainer was signaled to stop but required minimum epochs (30) or minimum steps (None) has not been met. Training will continue...\n"
     ]
    },
    {
     "name": "stdout",
     "output_type": "stream",
     "text": [
      "Epoch 21: 100%|██████████| 6/6 [00:28<00:00,  4.75s/it, loss=0.000172, v_num=1.79e+7]"
     ]
    },
    {
     "name": "stderr",
     "output_type": "stream",
     "text": [
      "Trainer was signaled to stop but required minimum epochs (30) or minimum steps (None) has not been met. Training will continue...\n"
     ]
    },
    {
     "name": "stdout",
     "output_type": "stream",
     "text": [
      "Epoch 22: 100%|██████████| 6/6 [00:29<00:00,  4.95s/it, loss=0.00013, v_num=1.79e+7] "
     ]
    },
    {
     "name": "stderr",
     "output_type": "stream",
     "text": [
      "Trainer was signaled to stop but required minimum epochs (30) or minimum steps (None) has not been met. Training will continue...\n"
     ]
    },
    {
     "name": "stdout",
     "output_type": "stream",
     "text": [
      "Epoch 23: 100%|██████████| 6/6 [00:31<00:00,  5.17s/it, loss=0.0001, v_num=1.79e+7]  "
     ]
    },
    {
     "name": "stderr",
     "output_type": "stream",
     "text": [
      "Trainer was signaled to stop but required minimum epochs (30) or minimum steps (None) has not been met. Training will continue...\n"
     ]
    },
    {
     "name": "stdout",
     "output_type": "stream",
     "text": [
      "Epoch 24: 100%|██████████| 6/6 [00:32<00:00,  5.38s/it, loss=8.13e-05, v_num=1.79e+7]"
     ]
    },
    {
     "name": "stderr",
     "output_type": "stream",
     "text": [
      "Trainer was signaled to stop but required minimum epochs (30) or minimum steps (None) has not been met. Training will continue...\n"
     ]
    },
    {
     "name": "stdout",
     "output_type": "stream",
     "text": [
      "Epoch 25: 100%|██████████| 6/6 [00:33<00:00,  5.59s/it, loss=7.05e-05, v_num=1.79e+7]"
     ]
    },
    {
     "name": "stderr",
     "output_type": "stream",
     "text": [
      "Trainer was signaled to stop but required minimum epochs (30) or minimum steps (None) has not been met. Training will continue...\n"
     ]
    },
    {
     "name": "stdout",
     "output_type": "stream",
     "text": [
      "Epoch 26: 100%|██████████| 6/6 [00:34<00:00,  5.79s/it, loss=6.18e-05, v_num=1.79e+7]"
     ]
    },
    {
     "name": "stderr",
     "output_type": "stream",
     "text": [
      "Trainer was signaled to stop but required minimum epochs (30) or minimum steps (None) has not been met. Training will continue...\n"
     ]
    },
    {
     "name": "stdout",
     "output_type": "stream",
     "text": [
      "Epoch 27: 100%|██████████| 6/6 [00:36<00:00,  6.00s/it, loss=5.55e-05, v_num=1.79e+7]"
     ]
    },
    {
     "name": "stderr",
     "output_type": "stream",
     "text": [
      "Trainer was signaled to stop but required minimum epochs (30) or minimum steps (None) has not been met. Training will continue...\n"
     ]
    },
    {
     "name": "stdout",
     "output_type": "stream",
     "text": [
      "Epoch 28: 100%|██████████| 6/6 [00:37<00:00,  6.23s/it, loss=5.1e-05, v_num=1.79e+7] "
     ]
    },
    {
     "name": "stderr",
     "output_type": "stream",
     "text": [
      "Trainer was signaled to stop but required minimum epochs (30) or minimum steps (None) has not been met. Training will continue...\n"
     ]
    },
    {
     "name": "stdout",
     "output_type": "stream",
     "text": [
      "Epoch 29: 100%|██████████| 6/6 [00:38<00:00,  6.45s/it, loss=4.53e-05, v_num=1.79e+7]\n"
     ]
    },
    {
     "name": "stderr",
     "output_type": "stream",
     "text": [
      "LOCAL_RANK: 0 - CUDA_VISIBLE_DEVICES: [GPU-6f07f7d1-b74b-ade4-fb35-ff23d46bc4d9]\n"
     ]
    },
    {
     "name": "stdout",
     "output_type": "stream",
     "text": [
      "Testing DataLoader 0: 100%|██████████| 1/1 [00:00<00:00,  2.58it/s]\n",
      "────────────────────────────────────────────────────────────────────────────────────────────────────────────────────────\n",
      "       Test metric             DataLoader 0\n",
      "────────────────────────────────────────────────────────────────────────────────────────────────────────────────────────\n",
      "     test_auc_cdc28         0.8040076494216919\n",
      "        test_loss           0.09711149334907532\n",
      "────────────────────────────────────────────────────────────────────────────────────────────────────────────────────────\n",
      "cdc28 carp_pretrained_finetune\n"
     ]
    },
    {
     "name": "stderr",
     "output_type": "stream",
     "text": [
      "Multiprocessing is handled by SLURM.\n",
      "GPU available: True, used: True\n",
      "TPU available: False, using: 0 TPU cores\n",
      "IPU available: False, using: 0 IPUs\n",
      "HPU available: False, using: 0 HPUs\n",
      "LOCAL_RANK: 0 - CUDA_VISIBLE_DEVICES: [GPU-6f07f7d1-b74b-ade4-fb35-ff23d46bc4d9]\n",
      "\n",
      "  | Name       | Type           | Params\n",
      "----------------------------------------------\n",
      "0 | encoder    | ByteNet        | 603 K \n",
      "1 | classifier | ESMAttention1d | 16.8 K\n",
      "----------------------------------------------\n",
      "16.8 K    Trainable params\n",
      "603 K     Non-trainable params\n",
      "620 K     Total params\n",
      "2.481     Total estimated model params size (MB)\n",
      "SLURM auto-requeueing enabled. Setting signal handlers.\n"
     ]
    },
    {
     "name": "stdout",
     "output_type": "stream",
     "text": [
      "                                                                           "
     ]
    },
    {
     "name": "stderr",
     "output_type": "stream",
     "text": [
      "/home/gridsan/mmurphy/.conda/envs/MSPretraining/lib/python3.9/site-packages/pytorch_lightning/trainer/trainer.py:1938: PossibleUserWarning: The number of training samples (26) is smaller than the logging interval Trainer(log_every_n_steps=50). Set a lower value for log_every_n_steps if you want to see logs for the training epoch.\n",
      "  rank_zero_warn(\n"
     ]
    },
    {
     "name": "stdout",
     "output_type": "stream",
     "text": [
      "Epoch 80: 100%|██████████| 27/27 [03:05<00:00,  6.88s/it, loss=0.093, v_num=1.79e+7]   \n"
     ]
    },
    {
     "name": "stderr",
     "output_type": "stream",
     "text": [
      "LOCAL_RANK: 0 - CUDA_VISIBLE_DEVICES: [GPU-6f07f7d1-b74b-ade4-fb35-ff23d46bc4d9]\n"
     ]
    },
    {
     "name": "stdout",
     "output_type": "stream",
     "text": [
      "Testing DataLoader 0: 100%|██████████| 1/1 [00:01<00:00,  1.68s/it]\n",
      "────────────────────────────────────────────────────────────────────────────────────────────────────────────────────────\n",
      "       Test metric             DataLoader 0\n",
      "────────────────────────────────────────────────────────────────────────────────────────────────────────────────────────\n",
      "    test_auc_signalp        0.9693235158920288\n",
      "        test_loss           0.1905490607023239\n",
      "────────────────────────────────────────────────────────────────────────────────────────────────────────────────────────\n",
      "signalp ms_pretrained_frozen\n"
     ]
    },
    {
     "name": "stderr",
     "output_type": "stream",
     "text": [
      "Multiprocessing is handled by SLURM.\n",
      "GPU available: True, used: True\n",
      "TPU available: False, using: 0 TPU cores\n",
      "IPU available: False, using: 0 IPUs\n",
      "HPU available: False, using: 0 HPUs\n",
      "LOCAL_RANK: 0 - CUDA_VISIBLE_DEVICES: [GPU-6f07f7d1-b74b-ade4-fb35-ff23d46bc4d9]\n",
      "\n",
      "  | Name       | Type           | Params\n",
      "----------------------------------------------\n",
      "0 | encoder    | ByteNet        | 603 K \n",
      "1 | classifier | ESMAttention1d | 16.8 K\n",
      "----------------------------------------------\n",
      "620 K     Trainable params\n",
      "0         Non-trainable params\n",
      "620 K     Total params\n",
      "2.481     Total estimated model params size (MB)\n",
      "SLURM auto-requeueing enabled. Setting signal handlers.\n"
     ]
    },
    {
     "name": "stdout",
     "output_type": "stream",
     "text": [
      "Epoch 20: 100%|██████████| 27/27 [01:10<00:00,  2.62s/it, loss=2.47e-05, v_num=1.79e+7]"
     ]
    },
    {
     "name": "stderr",
     "output_type": "stream",
     "text": [
      "Trainer was signaled to stop but required minimum epochs (30) or minimum steps (None) has not been met. Training will continue...\n"
     ]
    },
    {
     "name": "stdout",
     "output_type": "stream",
     "text": [
      "Epoch 21: 100%|██████████| 27/27 [01:14<00:00,  2.76s/it, loss=2.23e-05, v_num=1.79e+7]"
     ]
    },
    {
     "name": "stderr",
     "output_type": "stream",
     "text": [
      "Trainer was signaled to stop but required minimum epochs (30) or minimum steps (None) has not been met. Training will continue...\n"
     ]
    },
    {
     "name": "stdout",
     "output_type": "stream",
     "text": [
      "Epoch 22: 100%|██████████| 27/27 [01:18<00:00,  2.89s/it, loss=2.05e-05, v_num=1.79e+7]"
     ]
    },
    {
     "name": "stderr",
     "output_type": "stream",
     "text": [
      "Trainer was signaled to stop but required minimum epochs (30) or minimum steps (None) has not been met. Training will continue...\n"
     ]
    },
    {
     "name": "stdout",
     "output_type": "stream",
     "text": [
      "Epoch 23: 100%|██████████| 27/27 [01:21<00:00,  3.02s/it, loss=1.74e-05, v_num=1.79e+7]"
     ]
    },
    {
     "name": "stderr",
     "output_type": "stream",
     "text": [
      "Trainer was signaled to stop but required minimum epochs (30) or minimum steps (None) has not been met. Training will continue...\n"
     ]
    },
    {
     "name": "stdout",
     "output_type": "stream",
     "text": [
      "Epoch 24: 100%|██████████| 27/27 [01:24<00:00,  3.14s/it, loss=1.6e-05, v_num=1.79e+7] "
     ]
    },
    {
     "name": "stderr",
     "output_type": "stream",
     "text": [
      "Trainer was signaled to stop but required minimum epochs (30) or minimum steps (None) has not been met. Training will continue...\n"
     ]
    },
    {
     "name": "stdout",
     "output_type": "stream",
     "text": [
      "Epoch 25: 100%|██████████| 27/27 [01:28<00:00,  3.27s/it, loss=1.26e-05, v_num=1.79e+7]"
     ]
    },
    {
     "name": "stderr",
     "output_type": "stream",
     "text": [
      "Trainer was signaled to stop but required minimum epochs (30) or minimum steps (None) has not been met. Training will continue...\n"
     ]
    },
    {
     "name": "stdout",
     "output_type": "stream",
     "text": [
      "Epoch 26: 100%|██████████| 27/27 [01:31<00:00,  3.38s/it, loss=1.04e-05, v_num=1.79e+7]"
     ]
    },
    {
     "name": "stderr",
     "output_type": "stream",
     "text": [
      "Trainer was signaled to stop but required minimum epochs (30) or minimum steps (None) has not been met. Training will continue...\n"
     ]
    },
    {
     "name": "stdout",
     "output_type": "stream",
     "text": [
      "Epoch 27: 100%|██████████| 27/27 [01:34<00:00,  3.51s/it, loss=9.79e-06, v_num=1.79e+7]"
     ]
    },
    {
     "name": "stderr",
     "output_type": "stream",
     "text": [
      "Trainer was signaled to stop but required minimum epochs (30) or minimum steps (None) has not been met. Training will continue...\n"
     ]
    },
    {
     "name": "stdout",
     "output_type": "stream",
     "text": [
      "Epoch 28: 100%|██████████| 27/27 [01:38<00:00,  3.64s/it, loss=9e-06, v_num=1.79e+7]   "
     ]
    },
    {
     "name": "stderr",
     "output_type": "stream",
     "text": [
      "Trainer was signaled to stop but required minimum epochs (30) or minimum steps (None) has not been met. Training will continue...\n"
     ]
    },
    {
     "name": "stdout",
     "output_type": "stream",
     "text": [
      "Epoch 29: 100%|██████████| 27/27 [01:41<00:00,  3.78s/it, loss=8.36e-06, v_num=1.79e+7]\n"
     ]
    },
    {
     "name": "stderr",
     "output_type": "stream",
     "text": [
      "LOCAL_RANK: 0 - CUDA_VISIBLE_DEVICES: [GPU-6f07f7d1-b74b-ade4-fb35-ff23d46bc4d9]\n"
     ]
    },
    {
     "name": "stdout",
     "output_type": "stream",
     "text": [
      "Testing DataLoader 0: 100%|██████████| 1/1 [00:01<00:00,  1.61s/it]\n",
      "────────────────────────────────────────────────────────────────────────────────────────────────────────────────────────\n",
      "       Test metric             DataLoader 0\n",
      "────────────────────────────────────────────────────────────────────────────────────────────────────────────────────────\n",
      "    test_auc_signalp        0.9889360666275024\n",
      "        test_loss           0.16713301837444305\n",
      "────────────────────────────────────────────────────────────────────────────────────────────────────────────────────────\n",
      "signalp ms_pretrained_finetune\n"
     ]
    },
    {
     "name": "stderr",
     "output_type": "stream",
     "text": [
      "Multiprocessing is handled by SLURM.\n",
      "GPU available: True, used: True\n",
      "TPU available: False, using: 0 TPU cores\n",
      "IPU available: False, using: 0 IPUs\n",
      "HPU available: False, using: 0 HPUs\n",
      "LOCAL_RANK: 0 - CUDA_VISIBLE_DEVICES: [GPU-6f07f7d1-b74b-ade4-fb35-ff23d46bc4d9]\n",
      "\n",
      "  | Name       | Type      | Params\n",
      "-----------------------------------------\n",
      "0 | embedding  | Embedding | 3.1 K \n",
      "1 | classifier | Linear    | 129   \n",
      "-----------------------------------------\n",
      "3.2 K     Trainable params\n",
      "0         Non-trainable params\n",
      "3.2 K     Total params\n",
      "0.013     Total estimated model params size (MB)\n",
      "SLURM auto-requeueing enabled. Setting signal handlers.\n"
     ]
    },
    {
     "name": "stdout",
     "output_type": "stream",
     "text": [
      "Epoch 136: 100%|██████████| 27/27 [04:26<00:00,  9.88s/it, loss=0.408, v_num=1.79e+7]  \n"
     ]
    },
    {
     "name": "stderr",
     "output_type": "stream",
     "text": [
      "LOCAL_RANK: 0 - CUDA_VISIBLE_DEVICES: [GPU-6f07f7d1-b74b-ade4-fb35-ff23d46bc4d9]\n"
     ]
    },
    {
     "name": "stdout",
     "output_type": "stream",
     "text": [
      "Testing DataLoader 0: 100%|██████████| 1/1 [00:01<00:00,  1.26s/it]\n",
      "────────────────────────────────────────────────────────────────────────────────────────────────────────────────────────\n",
      "       Test metric             DataLoader 0\n",
      "────────────────────────────────────────────────────────────────────────────────────────────────────────────────────────\n",
      "    test_auc_signalp        0.8397648930549622\n",
      "        test_loss           0.4047602415084839\n",
      "────────────────────────────────────────────────────────────────────────────────────────────────────────────────────────\n",
      "signalp linear\n"
     ]
    },
    {
     "name": "stderr",
     "output_type": "stream",
     "text": [
      "Multiprocessing is handled by SLURM.\n",
      "GPU available: True, used: True\n",
      "TPU available: False, using: 0 TPU cores\n",
      "IPU available: False, using: 0 IPUs\n",
      "HPU available: False, using: 0 HPUs\n",
      "LOCAL_RANK: 0 - CUDA_VISIBLE_DEVICES: [GPU-6f07f7d1-b74b-ade4-fb35-ff23d46bc4d9]\n",
      "\n",
      "  | Name       | Type       | Params\n",
      "------------------------------------------\n",
      "0 | embedding  | Embedding  | 3.1 K \n",
      "1 | encoder    | Sequential | 51.5 K\n",
      "2 | classifier | Linear     | 33    \n",
      "------------------------------------------\n",
      "54.6 K    Trainable params\n",
      "0         Non-trainable params\n",
      "54.6 K    Total params\n",
      "0.218     Total estimated model params size (MB)\n",
      "SLURM auto-requeueing enabled. Setting signal handlers.\n"
     ]
    },
    {
     "name": "stdout",
     "output_type": "stream",
     "text": [
      "Epoch 29: 100%|██████████| 27/27 [00:55<00:00,  2.07s/it, loss=0.18, v_num=1.79e+7] \n"
     ]
    },
    {
     "name": "stderr",
     "output_type": "stream",
     "text": [
      "LOCAL_RANK: 0 - CUDA_VISIBLE_DEVICES: [GPU-6f07f7d1-b74b-ade4-fb35-ff23d46bc4d9]\n"
     ]
    },
    {
     "name": "stdout",
     "output_type": "stream",
     "text": [
      "Testing DataLoader 0: 100%|██████████| 1/1 [00:01<00:00,  1.29s/it]\n",
      "────────────────────────────────────────────────────────────────────────────────────────────────────────────────────────\n",
      "       Test metric             DataLoader 0\n",
      "────────────────────────────────────────────────────────────────────────────────────────────────────────────────────────\n",
      "    test_auc_signalp        0.9259670376777649\n",
      "        test_loss           0.3960825204849243\n",
      "────────────────────────────────────────────────────────────────────────────────────────────────────────────────────────\n",
      "signalp cnn\n"
     ]
    },
    {
     "name": "stderr",
     "output_type": "stream",
     "text": [
      "Multiprocessing is handled by SLURM.\n",
      "GPU available: True, used: True\n",
      "TPU available: False, using: 0 TPU cores\n",
      "IPU available: False, using: 0 IPUs\n",
      "HPU available: False, using: 0 HPUs\n",
      "LOCAL_RANK: 0 - CUDA_VISIBLE_DEVICES: [GPU-6f07f7d1-b74b-ade4-fb35-ff23d46bc4d9]\n",
      "\n",
      "  | Name       | Type           | Params\n",
      "----------------------------------------------\n",
      "0 | encoder    | ByteNet        | 603 K \n",
      "1 | classifier | ESMAttention1d | 16.8 K\n",
      "----------------------------------------------\n",
      "620 K     Trainable params\n",
      "0         Non-trainable params\n",
      "620 K     Total params\n",
      "2.481     Total estimated model params size (MB)\n",
      "SLURM auto-requeueing enabled. Setting signal handlers.\n"
     ]
    },
    {
     "name": "stdout",
     "output_type": "stream",
     "text": [
      "Epoch 22: 100%|██████████| 27/27 [01:16<00:00,  2.82s/it, loss=4.18e-05, v_num=1.79e+7]"
     ]
    },
    {
     "name": "stderr",
     "output_type": "stream",
     "text": [
      "Trainer was signaled to stop but required minimum epochs (30) or minimum steps (None) has not been met. Training will continue...\n"
     ]
    },
    {
     "name": "stdout",
     "output_type": "stream",
     "text": [
      "Epoch 23: 100%|██████████| 27/27 [01:19<00:00,  2.94s/it, loss=3.87e-05, v_num=1.79e+7]"
     ]
    },
    {
     "name": "stderr",
     "output_type": "stream",
     "text": [
      "Trainer was signaled to stop but required minimum epochs (30) or minimum steps (None) has not been met. Training will continue...\n"
     ]
    },
    {
     "name": "stdout",
     "output_type": "stream",
     "text": [
      "Epoch 24: 100%|██████████| 27/27 [01:22<00:00,  3.07s/it, loss=3.2e-05, v_num=1.79e+7] "
     ]
    },
    {
     "name": "stderr",
     "output_type": "stream",
     "text": [
      "Trainer was signaled to stop but required minimum epochs (30) or minimum steps (None) has not been met. Training will continue...\n"
     ]
    },
    {
     "name": "stdout",
     "output_type": "stream",
     "text": [
      "Epoch 25: 100%|██████████| 27/27 [01:26<00:00,  3.20s/it, loss=2.81e-05, v_num=1.79e+7]"
     ]
    },
    {
     "name": "stderr",
     "output_type": "stream",
     "text": [
      "Trainer was signaled to stop but required minimum epochs (30) or minimum steps (None) has not been met. Training will continue...\n"
     ]
    },
    {
     "name": "stdout",
     "output_type": "stream",
     "text": [
      "Epoch 26: 100%|██████████| 27/27 [01:29<00:00,  3.32s/it, loss=2.6e-05, v_num=1.79e+7] "
     ]
    },
    {
     "name": "stderr",
     "output_type": "stream",
     "text": [
      "Trainer was signaled to stop but required minimum epochs (30) or minimum steps (None) has not been met. Training will continue...\n"
     ]
    },
    {
     "name": "stdout",
     "output_type": "stream",
     "text": [
      "Epoch 27: 100%|██████████| 27/27 [01:32<00:00,  3.44s/it, loss=2.21e-05, v_num=1.79e+7]"
     ]
    },
    {
     "name": "stderr",
     "output_type": "stream",
     "text": [
      "Trainer was signaled to stop but required minimum epochs (30) or minimum steps (None) has not been met. Training will continue...\n"
     ]
    },
    {
     "name": "stdout",
     "output_type": "stream",
     "text": [
      "Epoch 28: 100%|██████████| 27/27 [01:36<00:00,  3.56s/it, loss=1.95e-05, v_num=1.79e+7]"
     ]
    },
    {
     "name": "stderr",
     "output_type": "stream",
     "text": [
      "Trainer was signaled to stop but required minimum epochs (30) or minimum steps (None) has not been met. Training will continue...\n"
     ]
    },
    {
     "name": "stdout",
     "output_type": "stream",
     "text": [
      "Epoch 29: 100%|██████████| 27/27 [01:39<00:00,  3.68s/it, loss=1.87e-05, v_num=1.79e+7]\n"
     ]
    },
    {
     "name": "stderr",
     "output_type": "stream",
     "text": [
      "LOCAL_RANK: 0 - CUDA_VISIBLE_DEVICES: [GPU-6f07f7d1-b74b-ade4-fb35-ff23d46bc4d9]\n"
     ]
    },
    {
     "name": "stdout",
     "output_type": "stream",
     "text": [
      "Testing DataLoader 0: 100%|██████████| 1/1 [00:01<00:00,  1.30s/it]\n",
      "────────────────────────────────────────────────────────────────────────────────────────────────────────────────────────\n",
      "       Test metric             DataLoader 0\n",
      "────────────────────────────────────────────────────────────────────────────────────────────────────────────────────────\n",
      "    test_auc_signalp        0.9858690500259399\n",
      "        test_loss           0.20038466155529022\n",
      "────────────────────────────────────────────────────────────────────────────────────────────────────────────────────────\n",
      "signalp random_frozen\n"
     ]
    },
    {
     "name": "stderr",
     "output_type": "stream",
     "text": [
      "Multiprocessing is handled by SLURM.\n",
      "GPU available: True, used: True\n",
      "TPU available: False, using: 0 TPU cores\n",
      "IPU available: False, using: 0 IPUs\n",
      "HPU available: False, using: 0 HPUs\n",
      "LOCAL_RANK: 0 - CUDA_VISIBLE_DEVICES: [GPU-6f07f7d1-b74b-ade4-fb35-ff23d46bc4d9]\n",
      "\n",
      "  | Name       | Type           | Params\n",
      "----------------------------------------------\n",
      "0 | encoder    | ByteNet        | 603 K \n",
      "1 | classifier | ESMAttention1d | 16.8 K\n",
      "----------------------------------------------\n",
      "16.8 K    Trainable params\n",
      "603 K     Non-trainable params\n",
      "620 K     Total params\n",
      "2.481     Total estimated model params size (MB)\n",
      "SLURM auto-requeueing enabled. Setting signal handlers.\n"
     ]
    },
    {
     "name": "stdout",
     "output_type": "stream",
     "text": [
      "Epoch 125: 100%|██████████| 27/27 [04:52<00:00, 10.82s/it, loss=0.165, v_num=1.79e+7]  \n"
     ]
    },
    {
     "name": "stderr",
     "output_type": "stream",
     "text": [
      "LOCAL_RANK: 0 - CUDA_VISIBLE_DEVICES: [GPU-6f07f7d1-b74b-ade4-fb35-ff23d46bc4d9]\n"
     ]
    },
    {
     "name": "stdout",
     "output_type": "stream",
     "text": [
      "Testing DataLoader 0: 100%|██████████| 1/1 [00:01<00:00,  1.48s/it]\n",
      "────────────────────────────────────────────────────────────────────────────────────────────────────────────────────────\n",
      "       Test metric             DataLoader 0\n",
      "────────────────────────────────────────────────────────────────────────────────────────────────────────────────────────\n",
      "    test_auc_signalp        0.9457843899726868\n",
      "        test_loss           0.2567236125469208\n",
      "────────────────────────────────────────────────────────────────────────────────────────────────────────────────────────\n",
      "signalp random_finetune\n"
     ]
    },
    {
     "name": "stderr",
     "output_type": "stream",
     "text": [
      "Multiprocessing is handled by SLURM.\n",
      "GPU available: True, used: True\n",
      "TPU available: False, using: 0 TPU cores\n",
      "IPU available: False, using: 0 IPUs\n",
      "HPU available: False, using: 0 HPUs\n",
      "LOCAL_RANK: 0 - CUDA_VISIBLE_DEVICES: [GPU-6f07f7d1-b74b-ade4-fb35-ff23d46bc4d9]\n",
      "\n",
      "  | Name       | Type           | Params\n",
      "----------------------------------------------\n",
      "0 | encoder    | ByteNet        | 603 K \n",
      "1 | classifier | ESMAttention1d | 16.8 K\n",
      "----------------------------------------------\n",
      "16.8 K    Trainable params\n",
      "603 K     Non-trainable params\n",
      "620 K     Total params\n",
      "2.481     Total estimated model params size (MB)\n",
      "SLURM auto-requeueing enabled. Setting signal handlers.\n"
     ]
    },
    {
     "name": "stdout",
     "output_type": "stream",
     "text": [
      "Epoch 50: 100%|██████████| 27/27 [02:12<00:00,  4.92s/it, loss=0.0376, v_num=1.79e+7]\n"
     ]
    },
    {
     "name": "stderr",
     "output_type": "stream",
     "text": [
      "LOCAL_RANK: 0 - CUDA_VISIBLE_DEVICES: [GPU-6f07f7d1-b74b-ade4-fb35-ff23d46bc4d9]\n"
     ]
    },
    {
     "name": "stdout",
     "output_type": "stream",
     "text": [
      "Testing DataLoader 0: 100%|██████████| 1/1 [00:01<00:00,  1.40s/it]\n",
      "────────────────────────────────────────────────────────────────────────────────────────────────────────────────────────\n",
      "       Test metric             DataLoader 0\n",
      "────────────────────────────────────────────────────────────────────────────────────────────────────────────────────────\n",
      "    test_auc_signalp        0.9915063977241516\n",
      "        test_loss           0.0831068828701973\n",
      "────────────────────────────────────────────────────────────────────────────────────────────────────────────────────────\n",
      "signalp carp_pretrained_frozen\n"
     ]
    },
    {
     "name": "stderr",
     "output_type": "stream",
     "text": [
      "Multiprocessing is handled by SLURM.\n",
      "GPU available: True, used: True\n",
      "TPU available: False, using: 0 TPU cores\n",
      "IPU available: False, using: 0 IPUs\n",
      "HPU available: False, using: 0 HPUs\n",
      "LOCAL_RANK: 0 - CUDA_VISIBLE_DEVICES: [GPU-6f07f7d1-b74b-ade4-fb35-ff23d46bc4d9]\n",
      "\n",
      "  | Name       | Type           | Params\n",
      "----------------------------------------------\n",
      "0 | encoder    | ByteNet        | 603 K \n",
      "1 | classifier | ESMAttention1d | 16.8 K\n",
      "----------------------------------------------\n",
      "620 K     Trainable params\n",
      "0         Non-trainable params\n",
      "620 K     Total params\n",
      "2.481     Total estimated model params size (MB)\n",
      "SLURM auto-requeueing enabled. Setting signal handlers.\n"
     ]
    },
    {
     "name": "stdout",
     "output_type": "stream",
     "text": [
      "Epoch 13: 100%|██████████| 27/27 [00:50<00:00,  1.89s/it, loss=0.00641, v_num=1.79e+7]"
     ]
    },
    {
     "name": "stderr",
     "output_type": "stream",
     "text": [
      "Trainer was signaled to stop but required minimum epochs (30) or minimum steps (None) has not been met. Training will continue...\n"
     ]
    },
    {
     "name": "stdout",
     "output_type": "stream",
     "text": [
      "Epoch 14: 100%|██████████| 27/27 [00:54<00:00,  2.02s/it, loss=0.00495, v_num=1.79e+7]"
     ]
    },
    {
     "name": "stderr",
     "output_type": "stream",
     "text": [
      "Trainer was signaled to stop but required minimum epochs (30) or minimum steps (None) has not been met. Training will continue...\n"
     ]
    },
    {
     "name": "stdout",
     "output_type": "stream",
     "text": [
      "Epoch 15: 100%|██████████| 27/27 [00:58<00:00,  2.15s/it, loss=0.00375, v_num=1.79e+7]"
     ]
    },
    {
     "name": "stderr",
     "output_type": "stream",
     "text": [
      "Trainer was signaled to stop but required minimum epochs (30) or minimum steps (None) has not been met. Training will continue...\n"
     ]
    },
    {
     "name": "stdout",
     "output_type": "stream",
     "text": [
      "Epoch 16: 100%|██████████| 27/27 [01:01<00:00,  2.28s/it, loss=0.00754, v_num=1.79e+7]"
     ]
    },
    {
     "name": "stderr",
     "output_type": "stream",
     "text": [
      "Trainer was signaled to stop but required minimum epochs (30) or minimum steps (None) has not been met. Training will continue...\n"
     ]
    },
    {
     "name": "stdout",
     "output_type": "stream",
     "text": [
      "Epoch 17: 100%|██████████| 27/27 [01:05<00:00,  2.42s/it, loss=0.00469, v_num=1.79e+7]"
     ]
    },
    {
     "name": "stderr",
     "output_type": "stream",
     "text": [
      "Trainer was signaled to stop but required minimum epochs (30) or minimum steps (None) has not been met. Training will continue...\n"
     ]
    },
    {
     "name": "stdout",
     "output_type": "stream",
     "text": [
      "Epoch 18: 100%|██████████| 27/27 [01:08<00:00,  2.55s/it, loss=0.00118, v_num=1.79e+7]"
     ]
    },
    {
     "name": "stderr",
     "output_type": "stream",
     "text": [
      "Trainer was signaled to stop but required minimum epochs (30) or minimum steps (None) has not been met. Training will continue...\n"
     ]
    },
    {
     "name": "stdout",
     "output_type": "stream",
     "text": [
      "Epoch 19: 100%|██████████| 27/27 [01:12<00:00,  2.68s/it, loss=0.00051, v_num=1.79e+7] "
     ]
    },
    {
     "name": "stderr",
     "output_type": "stream",
     "text": [
      "Trainer was signaled to stop but required minimum epochs (30) or minimum steps (None) has not been met. Training will continue...\n"
     ]
    },
    {
     "name": "stdout",
     "output_type": "stream",
     "text": [
      "Epoch 20: 100%|██████████| 27/27 [01:16<00:00,  2.82s/it, loss=0.00681, v_num=1.79e+7] "
     ]
    },
    {
     "name": "stderr",
     "output_type": "stream",
     "text": [
      "Trainer was signaled to stop but required minimum epochs (30) or minimum steps (None) has not been met. Training will continue...\n"
     ]
    },
    {
     "name": "stdout",
     "output_type": "stream",
     "text": [
      "Epoch 21: 100%|██████████| 27/27 [01:19<00:00,  2.96s/it, loss=0.00934, v_num=1.79e+7]"
     ]
    },
    {
     "name": "stderr",
     "output_type": "stream",
     "text": [
      "Trainer was signaled to stop but required minimum epochs (30) or minimum steps (None) has not been met. Training will continue...\n"
     ]
    },
    {
     "name": "stdout",
     "output_type": "stream",
     "text": [
      "Epoch 22: 100%|██████████| 27/27 [01:23<00:00,  3.08s/it, loss=0.00753, v_num=1.79e+7]"
     ]
    },
    {
     "name": "stderr",
     "output_type": "stream",
     "text": [
      "Trainer was signaled to stop but required minimum epochs (30) or minimum steps (None) has not been met. Training will continue...\n"
     ]
    },
    {
     "name": "stdout",
     "output_type": "stream",
     "text": [
      "Epoch 23: 100%|██████████| 27/27 [01:27<00:00,  3.22s/it, loss=0.00594, v_num=1.79e+7]"
     ]
    },
    {
     "name": "stderr",
     "output_type": "stream",
     "text": [
      "Trainer was signaled to stop but required minimum epochs (30) or minimum steps (None) has not been met. Training will continue...\n"
     ]
    },
    {
     "name": "stdout",
     "output_type": "stream",
     "text": [
      "Epoch 24: 100%|██████████| 27/27 [01:30<00:00,  3.35s/it, loss=0.000692, v_num=1.79e+7]"
     ]
    },
    {
     "name": "stderr",
     "output_type": "stream",
     "text": [
      "Trainer was signaled to stop but required minimum epochs (30) or minimum steps (None) has not been met. Training will continue...\n"
     ]
    },
    {
     "name": "stdout",
     "output_type": "stream",
     "text": [
      "Epoch 25: 100%|██████████| 27/27 [01:33<00:00,  3.48s/it, loss=0.001, v_num=1.79e+7]   "
     ]
    },
    {
     "name": "stderr",
     "output_type": "stream",
     "text": [
      "Trainer was signaled to stop but required minimum epochs (30) or minimum steps (None) has not been met. Training will continue...\n"
     ]
    },
    {
     "name": "stdout",
     "output_type": "stream",
     "text": [
      "Epoch 26: 100%|██████████| 27/27 [01:37<00:00,  3.61s/it, loss=0.00642, v_num=1.79e+7]"
     ]
    },
    {
     "name": "stderr",
     "output_type": "stream",
     "text": [
      "Trainer was signaled to stop but required minimum epochs (30) or minimum steps (None) has not been met. Training will continue...\n"
     ]
    },
    {
     "name": "stdout",
     "output_type": "stream",
     "text": [
      "Epoch 27: 100%|██████████| 27/27 [01:41<00:00,  3.74s/it, loss=0.00113, v_num=1.79e+7]"
     ]
    },
    {
     "name": "stderr",
     "output_type": "stream",
     "text": [
      "Trainer was signaled to stop but required minimum epochs (30) or minimum steps (None) has not been met. Training will continue...\n"
     ]
    },
    {
     "name": "stdout",
     "output_type": "stream",
     "text": [
      "Epoch 28: 100%|██████████| 27/27 [01:44<00:00,  3.89s/it, loss=0.000178, v_num=1.79e+7]"
     ]
    },
    {
     "name": "stderr",
     "output_type": "stream",
     "text": [
      "Trainer was signaled to stop but required minimum epochs (30) or minimum steps (None) has not been met. Training will continue...\n"
     ]
    },
    {
     "name": "stdout",
     "output_type": "stream",
     "text": [
      "Epoch 29: 100%|██████████| 27/27 [01:48<00:00,  4.02s/it, loss=9e-05, v_num=1.79e+7]   \n"
     ]
    },
    {
     "name": "stderr",
     "output_type": "stream",
     "text": [
      "LOCAL_RANK: 0 - CUDA_VISIBLE_DEVICES: [GPU-6f07f7d1-b74b-ade4-fb35-ff23d46bc4d9]\n"
     ]
    },
    {
     "name": "stdout",
     "output_type": "stream",
     "text": [
      "Testing DataLoader 0: 100%|██████████| 1/1 [00:01<00:00,  1.57s/it]\n",
      "────────────────────────────────────────────────────────────────────────────────────────────────────────────────────────\n",
      "       Test metric             DataLoader 0\n",
      "────────────────────────────────────────────────────────────────────────────────────────────────────────────────────────\n",
      "    test_auc_signalp        0.9939623475074768\n",
      "        test_loss           0.06562371551990509\n",
      "────────────────────────────────────────────────────────────────────────────────────────────────────────────────────────\n",
      "signalp carp_pretrained_finetune\n"
     ]
    },
    {
     "name": "stderr",
     "output_type": "stream",
     "text": [
      "Multiprocessing is handled by SLURM.\n",
      "GPU available: True, used: True\n",
      "TPU available: False, using: 0 TPU cores\n",
      "IPU available: False, using: 0 IPUs\n",
      "HPU available: False, using: 0 HPUs\n",
      "LOCAL_RANK: 0 - CUDA_VISIBLE_DEVICES: [GPU-6f07f7d1-b74b-ade4-fb35-ff23d46bc4d9]\n",
      "\n",
      "  | Name       | Type           | Params\n",
      "----------------------------------------------\n",
      "0 | encoder    | ByteNet        | 603 K \n",
      "1 | classifier | ESMAttention1d | 16.8 K\n",
      "----------------------------------------------\n",
      "16.8 K    Trainable params\n",
      "603 K     Non-trainable params\n",
      "620 K     Total params\n",
      "2.481     Total estimated model params size (MB)\n",
      "SLURM auto-requeueing enabled. Setting signal handlers.\n"
     ]
    },
    {
     "name": "stdout",
     "output_type": "stream",
     "text": [
      "                                                                           "
     ]
    },
    {
     "name": "stderr",
     "output_type": "stream",
     "text": [
      "/home/gridsan/mmurphy/.conda/envs/MSPretraining/lib/python3.9/site-packages/pytorch_lightning/trainer/trainer.py:1938: PossibleUserWarning: The number of training samples (14) is smaller than the logging interval Trainer(log_every_n_steps=50). Set a lower value for log_every_n_steps if you want to see logs for the training epoch.\n",
      "  rank_zero_warn(\n"
     ]
    },
    {
     "name": "stdout",
     "output_type": "stream",
     "text": [
      "Epoch 45: 100%|██████████| 15/15 [00:57<00:00,  3.85s/it, loss=0.429, v_num=1.79e+7]\n"
     ]
    },
    {
     "name": "stderr",
     "output_type": "stream",
     "text": [
      "LOCAL_RANK: 0 - CUDA_VISIBLE_DEVICES: [GPU-6f07f7d1-b74b-ade4-fb35-ff23d46bc4d9]\n"
     ]
    },
    {
     "name": "stdout",
     "output_type": "stream",
     "text": [
      "Testing DataLoader 0: 100%|██████████| 1/1 [00:00<00:00,  1.50it/s]\n",
      "────────────────────────────────────────────────────────────────────────────────────────────────────────────────────────\n",
      "       Test metric             DataLoader 0\n",
      "────────────────────────────────────────────────────────────────────────────────────────────────────────────────────────\n",
      "   test_auc_hla_a0201        0.784184992313385\n",
      "        test_loss           0.5726277232170105\n",
      "────────────────────────────────────────────────────────────────────────────────────────────────────────────────────────\n",
      "hla_a0201 ms_pretrained_frozen\n"
     ]
    },
    {
     "name": "stderr",
     "output_type": "stream",
     "text": [
      "Multiprocessing is handled by SLURM.\n",
      "GPU available: True, used: True\n",
      "TPU available: False, using: 0 TPU cores\n",
      "IPU available: False, using: 0 IPUs\n",
      "HPU available: False, using: 0 HPUs\n",
      "LOCAL_RANK: 0 - CUDA_VISIBLE_DEVICES: [GPU-6f07f7d1-b74b-ade4-fb35-ff23d46bc4d9]\n",
      "\n",
      "  | Name       | Type           | Params\n",
      "----------------------------------------------\n",
      "0 | encoder    | ByteNet        | 603 K \n",
      "1 | classifier | ESMAttention1d | 16.8 K\n",
      "----------------------------------------------\n",
      "620 K     Trainable params\n",
      "0         Non-trainable params\n",
      "620 K     Total params\n",
      "2.481     Total estimated model params size (MB)\n",
      "SLURM auto-requeueing enabled. Setting signal handlers.\n"
     ]
    },
    {
     "name": "stdout",
     "output_type": "stream",
     "text": [
      "Epoch 13: 100%|██████████| 15/15 [00:22<00:00,  1.48s/it, loss=0.167, v_num=1.79e+7]"
     ]
    },
    {
     "name": "stderr",
     "output_type": "stream",
     "text": [
      "Trainer was signaled to stop but required minimum epochs (30) or minimum steps (None) has not been met. Training will continue...\n"
     ]
    },
    {
     "name": "stdout",
     "output_type": "stream",
     "text": [
      "Epoch 14: 100%|██████████| 15/15 [00:23<00:00,  1.58s/it, loss=0.159, v_num=1.79e+7]"
     ]
    },
    {
     "name": "stderr",
     "output_type": "stream",
     "text": [
      "Trainer was signaled to stop but required minimum epochs (30) or minimum steps (None) has not been met. Training will continue...\n"
     ]
    },
    {
     "name": "stdout",
     "output_type": "stream",
     "text": [
      "Epoch 15: 100%|██████████| 15/15 [00:25<00:00,  1.68s/it, loss=0.154, v_num=1.79e+7]"
     ]
    },
    {
     "name": "stderr",
     "output_type": "stream",
     "text": [
      "Trainer was signaled to stop but required minimum epochs (30) or minimum steps (None) has not been met. Training will continue...\n"
     ]
    },
    {
     "name": "stdout",
     "output_type": "stream",
     "text": [
      "Epoch 16: 100%|██████████| 15/15 [00:26<00:00,  1.79s/it, loss=0.152, v_num=1.79e+7]"
     ]
    },
    {
     "name": "stderr",
     "output_type": "stream",
     "text": [
      "Trainer was signaled to stop but required minimum epochs (30) or minimum steps (None) has not been met. Training will continue...\n"
     ]
    },
    {
     "name": "stdout",
     "output_type": "stream",
     "text": [
      "Epoch 17: 100%|██████████| 15/15 [00:28<00:00,  1.89s/it, loss=0.152, v_num=1.79e+7]"
     ]
    },
    {
     "name": "stderr",
     "output_type": "stream",
     "text": [
      "Trainer was signaled to stop but required minimum epochs (30) or minimum steps (None) has not been met. Training will continue...\n"
     ]
    },
    {
     "name": "stdout",
     "output_type": "stream",
     "text": [
      "Epoch 18: 100%|██████████| 15/15 [00:29<00:00,  1.99s/it, loss=0.159, v_num=1.79e+7]"
     ]
    },
    {
     "name": "stderr",
     "output_type": "stream",
     "text": [
      "Trainer was signaled to stop but required minimum epochs (30) or minimum steps (None) has not been met. Training will continue...\n"
     ]
    },
    {
     "name": "stdout",
     "output_type": "stream",
     "text": [
      "Epoch 19: 100%|██████████| 15/15 [00:31<00:00,  2.10s/it, loss=0.149, v_num=1.79e+7]"
     ]
    },
    {
     "name": "stderr",
     "output_type": "stream",
     "text": [
      "Trainer was signaled to stop but required minimum epochs (30) or minimum steps (None) has not been met. Training will continue...\n"
     ]
    },
    {
     "name": "stdout",
     "output_type": "stream",
     "text": [
      "Epoch 20: 100%|██████████| 15/15 [00:33<00:00,  2.20s/it, loss=0.141, v_num=1.79e+7]"
     ]
    },
    {
     "name": "stderr",
     "output_type": "stream",
     "text": [
      "Trainer was signaled to stop but required minimum epochs (30) or minimum steps (None) has not been met. Training will continue...\n"
     ]
    },
    {
     "name": "stdout",
     "output_type": "stream",
     "text": [
      "Epoch 21: 100%|██████████| 15/15 [00:34<00:00,  2.31s/it, loss=0.142, v_num=1.79e+7]"
     ]
    },
    {
     "name": "stderr",
     "output_type": "stream",
     "text": [
      "Trainer was signaled to stop but required minimum epochs (30) or minimum steps (None) has not been met. Training will continue...\n"
     ]
    },
    {
     "name": "stdout",
     "output_type": "stream",
     "text": [
      "Epoch 22: 100%|██████████| 15/15 [00:36<00:00,  2.41s/it, loss=0.143, v_num=1.79e+7]"
     ]
    },
    {
     "name": "stderr",
     "output_type": "stream",
     "text": [
      "Trainer was signaled to stop but required minimum epochs (30) or minimum steps (None) has not been met. Training will continue...\n"
     ]
    },
    {
     "name": "stdout",
     "output_type": "stream",
     "text": [
      "Epoch 23: 100%|██████████| 15/15 [00:37<00:00,  2.51s/it, loss=0.137, v_num=1.79e+7]"
     ]
    },
    {
     "name": "stderr",
     "output_type": "stream",
     "text": [
      "Trainer was signaled to stop but required minimum epochs (30) or minimum steps (None) has not been met. Training will continue...\n"
     ]
    },
    {
     "name": "stdout",
     "output_type": "stream",
     "text": [
      "Epoch 24: 100%|██████████| 15/15 [00:39<00:00,  2.61s/it, loss=0.133, v_num=1.79e+7]"
     ]
    },
    {
     "name": "stderr",
     "output_type": "stream",
     "text": [
      "Trainer was signaled to stop but required minimum epochs (30) or minimum steps (None) has not been met. Training will continue...\n"
     ]
    },
    {
     "name": "stdout",
     "output_type": "stream",
     "text": [
      "Epoch 25: 100%|██████████| 15/15 [00:40<00:00,  2.72s/it, loss=0.133, v_num=1.79e+7]"
     ]
    },
    {
     "name": "stderr",
     "output_type": "stream",
     "text": [
      "Trainer was signaled to stop but required minimum epochs (30) or minimum steps (None) has not been met. Training will continue...\n"
     ]
    },
    {
     "name": "stdout",
     "output_type": "stream",
     "text": [
      "Epoch 26: 100%|██████████| 15/15 [00:42<00:00,  2.82s/it, loss=0.126, v_num=1.79e+7]"
     ]
    },
    {
     "name": "stderr",
     "output_type": "stream",
     "text": [
      "Trainer was signaled to stop but required minimum epochs (30) or minimum steps (None) has not been met. Training will continue...\n"
     ]
    },
    {
     "name": "stdout",
     "output_type": "stream",
     "text": [
      "Epoch 37: 100%|██████████| 15/15 [00:59<00:00,  3.95s/it, loss=0.122, v_num=1.79e+7]\n"
     ]
    },
    {
     "name": "stderr",
     "output_type": "stream",
     "text": [
      "LOCAL_RANK: 0 - CUDA_VISIBLE_DEVICES: [GPU-6f07f7d1-b74b-ade4-fb35-ff23d46bc4d9]\n"
     ]
    },
    {
     "name": "stdout",
     "output_type": "stream",
     "text": [
      "Testing DataLoader 0: 100%|██████████| 1/1 [00:00<00:00,  1.64it/s]\n",
      "────────────────────────────────────────────────────────────────────────────────────────────────────────────────────────\n",
      "       Test metric             DataLoader 0\n",
      "────────────────────────────────────────────────────────────────────────────────────────────────────────────────────────\n",
      "   test_auc_hla_a0201       0.8109910488128662\n",
      "        test_loss           0.9201836585998535\n",
      "────────────────────────────────────────────────────────────────────────────────────────────────────────────────────────\n",
      "hla_a0201 ms_pretrained_finetune\n"
     ]
    },
    {
     "name": "stderr",
     "output_type": "stream",
     "text": [
      "Multiprocessing is handled by SLURM.\n",
      "GPU available: True, used: True\n",
      "TPU available: False, using: 0 TPU cores\n",
      "IPU available: False, using: 0 IPUs\n",
      "HPU available: False, using: 0 HPUs\n",
      "LOCAL_RANK: 0 - CUDA_VISIBLE_DEVICES: [GPU-6f07f7d1-b74b-ade4-fb35-ff23d46bc4d9]\n",
      "\n",
      "  | Name       | Type      | Params\n",
      "-----------------------------------------\n",
      "0 | embedding  | Embedding | 3.1 K \n",
      "1 | classifier | Linear    | 129   \n",
      "-----------------------------------------\n",
      "3.2 K     Trainable params\n",
      "0         Non-trainable params\n",
      "3.2 K     Total params\n",
      "0.013     Total estimated model params size (MB)\n",
      "SLURM auto-requeueing enabled. Setting signal handlers.\n"
     ]
    },
    {
     "name": "stdout",
     "output_type": "stream",
     "text": [
      "Epoch 52: 100%|██████████| 15/15 [00:59<00:00,  3.99s/it, loss=0.61, v_num=1.79e+7] \n"
     ]
    },
    {
     "name": "stderr",
     "output_type": "stream",
     "text": [
      "LOCAL_RANK: 0 - CUDA_VISIBLE_DEVICES: [GPU-6f07f7d1-b74b-ade4-fb35-ff23d46bc4d9]\n"
     ]
    },
    {
     "name": "stdout",
     "output_type": "stream",
     "text": [
      "Testing DataLoader 0: 100%|██████████| 1/1 [00:00<00:00,  1.58it/s]\n",
      "────────────────────────────────────────────────────────────────────────────────────────────────────────────────────────\n",
      "       Test metric             DataLoader 0\n",
      "────────────────────────────────────────────────────────────────────────────────────────────────────────────────────────\n",
      "   test_auc_hla_a0201       0.7320395708084106\n",
      "        test_loss           0.6120858788490295\n",
      "────────────────────────────────────────────────────────────────────────────────────────────────────────────────────────\n",
      "hla_a0201 linear\n"
     ]
    },
    {
     "name": "stderr",
     "output_type": "stream",
     "text": [
      "Multiprocessing is handled by SLURM.\n",
      "GPU available: True, used: True\n",
      "TPU available: False, using: 0 TPU cores\n",
      "IPU available: False, using: 0 IPUs\n",
      "HPU available: False, using: 0 HPUs\n",
      "LOCAL_RANK: 0 - CUDA_VISIBLE_DEVICES: [GPU-6f07f7d1-b74b-ade4-fb35-ff23d46bc4d9]\n",
      "\n",
      "  | Name       | Type       | Params\n",
      "------------------------------------------\n",
      "0 | embedding  | Embedding  | 3.1 K \n",
      "1 | encoder    | Sequential | 51.5 K\n",
      "2 | classifier | Linear     | 33    \n",
      "------------------------------------------\n",
      "54.6 K    Trainable params\n",
      "0         Non-trainable params\n",
      "54.6 K    Total params\n",
      "0.218     Total estimated model params size (MB)\n",
      "SLURM auto-requeueing enabled. Setting signal handlers.\n"
     ]
    },
    {
     "name": "stdout",
     "output_type": "stream",
     "text": [
      "Epoch 22: 100%|██████████| 15/15 [00:26<00:00,  1.78s/it, loss=0.354, v_num=1.79e+7]"
     ]
    },
    {
     "name": "stderr",
     "output_type": "stream",
     "text": [
      "Trainer was signaled to stop but required minimum epochs (30) or minimum steps (None) has not been met. Training will continue...\n"
     ]
    },
    {
     "name": "stdout",
     "output_type": "stream",
     "text": [
      "Epoch 23: 100%|██████████| 15/15 [00:27<00:00,  1.86s/it, loss=0.344, v_num=1.79e+7]"
     ]
    },
    {
     "name": "stderr",
     "output_type": "stream",
     "text": [
      "Trainer was signaled to stop but required minimum epochs (30) or minimum steps (None) has not been met. Training will continue...\n"
     ]
    },
    {
     "name": "stdout",
     "output_type": "stream",
     "text": [
      "Epoch 24: 100%|██████████| 15/15 [00:29<00:00,  1.94s/it, loss=0.336, v_num=1.79e+7]"
     ]
    },
    {
     "name": "stderr",
     "output_type": "stream",
     "text": [
      "Trainer was signaled to stop but required minimum epochs (30) or minimum steps (None) has not been met. Training will continue...\n"
     ]
    },
    {
     "name": "stdout",
     "output_type": "stream",
     "text": [
      "Epoch 25: 100%|██████████| 15/15 [00:30<00:00,  2.02s/it, loss=0.332, v_num=1.79e+7]"
     ]
    },
    {
     "name": "stderr",
     "output_type": "stream",
     "text": [
      "Trainer was signaled to stop but required minimum epochs (30) or minimum steps (None) has not been met. Training will continue...\n"
     ]
    },
    {
     "name": "stdout",
     "output_type": "stream",
     "text": [
      "Epoch 26: 100%|██████████| 15/15 [00:31<00:00,  2.10s/it, loss=0.322, v_num=1.79e+7]"
     ]
    },
    {
     "name": "stderr",
     "output_type": "stream",
     "text": [
      "Trainer was signaled to stop but required minimum epochs (30) or minimum steps (None) has not been met. Training will continue...\n"
     ]
    },
    {
     "name": "stdout",
     "output_type": "stream",
     "text": [
      "Epoch 27: 100%|██████████| 15/15 [00:32<00:00,  2.17s/it, loss=0.316, v_num=1.79e+7]"
     ]
    },
    {
     "name": "stderr",
     "output_type": "stream",
     "text": [
      "Trainer was signaled to stop but required minimum epochs (30) or minimum steps (None) has not been met. Training will continue...\n"
     ]
    },
    {
     "name": "stdout",
     "output_type": "stream",
     "text": [
      "Epoch 28: 100%|██████████| 15/15 [00:33<00:00,  2.25s/it, loss=0.308, v_num=1.79e+7]"
     ]
    },
    {
     "name": "stderr",
     "output_type": "stream",
     "text": [
      "Trainer was signaled to stop but required minimum epochs (30) or minimum steps (None) has not been met. Training will continue...\n"
     ]
    },
    {
     "name": "stdout",
     "output_type": "stream",
     "text": [
      "Epoch 29: 100%|██████████| 15/15 [00:34<00:00,  2.33s/it, loss=0.3, v_num=1.79e+7]  \n"
     ]
    },
    {
     "name": "stderr",
     "output_type": "stream",
     "text": [
      "LOCAL_RANK: 0 - CUDA_VISIBLE_DEVICES: [GPU-6f07f7d1-b74b-ade4-fb35-ff23d46bc4d9]\n"
     ]
    },
    {
     "name": "stdout",
     "output_type": "stream",
     "text": [
      "Testing DataLoader 0: 100%|██████████| 1/1 [00:00<00:00,  1.65it/s]\n",
      "────────────────────────────────────────────────────────────────────────────────────────────────────────────────────────\n",
      "       Test metric             DataLoader 0\n",
      "────────────────────────────────────────────────────────────────────────────────────────────────────────────────────────\n",
      "   test_auc_hla_a0201        0.830626368522644\n",
      "        test_loss           0.5259296298027039\n",
      "────────────────────────────────────────────────────────────────────────────────────────────────────────────────────────\n",
      "hla_a0201 cnn\n"
     ]
    },
    {
     "name": "stderr",
     "output_type": "stream",
     "text": [
      "Multiprocessing is handled by SLURM.\n",
      "GPU available: True, used: True\n",
      "TPU available: False, using: 0 TPU cores\n",
      "IPU available: False, using: 0 IPUs\n",
      "HPU available: False, using: 0 HPUs\n",
      "LOCAL_RANK: 0 - CUDA_VISIBLE_DEVICES: [GPU-6f07f7d1-b74b-ade4-fb35-ff23d46bc4d9]\n",
      "\n",
      "  | Name       | Type           | Params\n",
      "----------------------------------------------\n",
      "0 | encoder    | ByteNet        | 603 K \n",
      "1 | classifier | ESMAttention1d | 16.8 K\n",
      "----------------------------------------------\n",
      "620 K     Trainable params\n",
      "0         Non-trainable params\n",
      "620 K     Total params\n",
      "2.481     Total estimated model params size (MB)\n",
      "SLURM auto-requeueing enabled. Setting signal handlers.\n"
     ]
    },
    {
     "name": "stdout",
     "output_type": "stream",
     "text": [
      "Epoch 13: 100%|██████████| 15/15 [00:22<00:00,  1.53s/it, loss=0.175, v_num=1.79e+7]"
     ]
    },
    {
     "name": "stderr",
     "output_type": "stream",
     "text": [
      "Trainer was signaled to stop but required minimum epochs (30) or minimum steps (None) has not been met. Training will continue...\n"
     ]
    },
    {
     "name": "stdout",
     "output_type": "stream",
     "text": [
      "Epoch 14: 100%|██████████| 15/15 [00:24<00:00,  1.63s/it, loss=0.166, v_num=1.79e+7]"
     ]
    },
    {
     "name": "stderr",
     "output_type": "stream",
     "text": [
      "Trainer was signaled to stop but required minimum epochs (30) or minimum steps (None) has not been met. Training will continue...\n"
     ]
    },
    {
     "name": "stdout",
     "output_type": "stream",
     "text": [
      "Epoch 15: 100%|██████████| 15/15 [00:26<00:00,  1.74s/it, loss=0.166, v_num=1.79e+7]"
     ]
    },
    {
     "name": "stderr",
     "output_type": "stream",
     "text": [
      "Trainer was signaled to stop but required minimum epochs (30) or minimum steps (None) has not been met. Training will continue...\n"
     ]
    },
    {
     "name": "stdout",
     "output_type": "stream",
     "text": [
      "Epoch 16: 100%|██████████| 15/15 [00:27<00:00,  1.84s/it, loss=0.167, v_num=1.79e+7]"
     ]
    },
    {
     "name": "stderr",
     "output_type": "stream",
     "text": [
      "Trainer was signaled to stop but required minimum epochs (30) or minimum steps (None) has not been met. Training will continue...\n"
     ]
    },
    {
     "name": "stdout",
     "output_type": "stream",
     "text": [
      "Epoch 17: 100%|██████████| 15/15 [00:29<00:00,  1.95s/it, loss=0.155, v_num=1.79e+7]"
     ]
    },
    {
     "name": "stderr",
     "output_type": "stream",
     "text": [
      "Trainer was signaled to stop but required minimum epochs (30) or minimum steps (None) has not been met. Training will continue...\n"
     ]
    },
    {
     "name": "stdout",
     "output_type": "stream",
     "text": [
      "Epoch 18: 100%|██████████| 15/15 [00:30<00:00,  2.05s/it, loss=0.156, v_num=1.79e+7]"
     ]
    },
    {
     "name": "stderr",
     "output_type": "stream",
     "text": [
      "Trainer was signaled to stop but required minimum epochs (30) or minimum steps (None) has not been met. Training will continue...\n"
     ]
    },
    {
     "name": "stdout",
     "output_type": "stream",
     "text": [
      "Epoch 19: 100%|██████████| 15/15 [00:32<00:00,  2.16s/it, loss=0.164, v_num=1.79e+7]"
     ]
    },
    {
     "name": "stderr",
     "output_type": "stream",
     "text": [
      "Trainer was signaled to stop but required minimum epochs (30) or minimum steps (None) has not been met. Training will continue...\n"
     ]
    },
    {
     "name": "stdout",
     "output_type": "stream",
     "text": [
      "Epoch 20: 100%|██████████| 15/15 [00:34<00:00,  2.27s/it, loss=0.195, v_num=1.79e+7]"
     ]
    },
    {
     "name": "stderr",
     "output_type": "stream",
     "text": [
      "Trainer was signaled to stop but required minimum epochs (30) or minimum steps (None) has not been met. Training will continue...\n"
     ]
    },
    {
     "name": "stdout",
     "output_type": "stream",
     "text": [
      "Epoch 21: 100%|██████████| 15/15 [00:35<00:00,  2.38s/it, loss=0.17, v_num=1.79e+7] "
     ]
    },
    {
     "name": "stderr",
     "output_type": "stream",
     "text": [
      "Trainer was signaled to stop but required minimum epochs (30) or minimum steps (None) has not been met. Training will continue...\n"
     ]
    },
    {
     "name": "stdout",
     "output_type": "stream",
     "text": [
      "Epoch 22: 100%|██████████| 15/15 [00:37<00:00,  2.48s/it, loss=0.161, v_num=1.79e+7]"
     ]
    },
    {
     "name": "stderr",
     "output_type": "stream",
     "text": [
      "Trainer was signaled to stop but required minimum epochs (30) or minimum steps (None) has not been met. Training will continue...\n"
     ]
    },
    {
     "name": "stdout",
     "output_type": "stream",
     "text": [
      "Epoch 23: 100%|██████████| 15/15 [00:38<00:00,  2.59s/it, loss=0.151, v_num=1.79e+7]"
     ]
    },
    {
     "name": "stderr",
     "output_type": "stream",
     "text": [
      "Trainer was signaled to stop but required minimum epochs (30) or minimum steps (None) has not been met. Training will continue...\n"
     ]
    },
    {
     "name": "stdout",
     "output_type": "stream",
     "text": [
      "Epoch 24: 100%|██████████| 15/15 [00:40<00:00,  2.70s/it, loss=0.143, v_num=1.79e+7]"
     ]
    },
    {
     "name": "stderr",
     "output_type": "stream",
     "text": [
      "Trainer was signaled to stop but required minimum epochs (30) or minimum steps (None) has not been met. Training will continue...\n"
     ]
    },
    {
     "name": "stdout",
     "output_type": "stream",
     "text": [
      "Epoch 25: 100%|██████████| 15/15 [00:42<00:00,  2.81s/it, loss=0.143, v_num=1.79e+7]"
     ]
    },
    {
     "name": "stderr",
     "output_type": "stream",
     "text": [
      "Trainer was signaled to stop but required minimum epochs (30) or minimum steps (None) has not been met. Training will continue...\n"
     ]
    },
    {
     "name": "stdout",
     "output_type": "stream",
     "text": [
      "Epoch 26: 100%|██████████| 15/15 [00:43<00:00,  2.92s/it, loss=0.128, v_num=1.79e+7]"
     ]
    },
    {
     "name": "stderr",
     "output_type": "stream",
     "text": [
      "Trainer was signaled to stop but required minimum epochs (30) or minimum steps (None) has not been met. Training will continue...\n"
     ]
    },
    {
     "name": "stdout",
     "output_type": "stream",
     "text": [
      "Epoch 27: 100%|██████████| 15/15 [00:45<00:00,  3.02s/it, loss=0.117, v_num=1.79e+7]"
     ]
    },
    {
     "name": "stderr",
     "output_type": "stream",
     "text": [
      "Trainer was signaled to stop but required minimum epochs (30) or minimum steps (None) has not been met. Training will continue...\n"
     ]
    },
    {
     "name": "stdout",
     "output_type": "stream",
     "text": [
      "Epoch 28: 100%|██████████| 15/15 [00:46<00:00,  3.12s/it, loss=0.116, v_num=1.79e+7]"
     ]
    },
    {
     "name": "stderr",
     "output_type": "stream",
     "text": [
      "Trainer was signaled to stop but required minimum epochs (30) or minimum steps (None) has not been met. Training will continue...\n"
     ]
    },
    {
     "name": "stdout",
     "output_type": "stream",
     "text": [
      "Epoch 29: 100%|██████████| 15/15 [00:48<00:00,  3.23s/it, loss=0.115, v_num=1.79e+7]\n"
     ]
    },
    {
     "name": "stderr",
     "output_type": "stream",
     "text": [
      "LOCAL_RANK: 0 - CUDA_VISIBLE_DEVICES: [GPU-6f07f7d1-b74b-ade4-fb35-ff23d46bc4d9]\n"
     ]
    },
    {
     "name": "stdout",
     "output_type": "stream",
     "text": [
      "Testing DataLoader 0: 100%|██████████| 1/1 [00:00<00:00,  1.64it/s]\n",
      "────────────────────────────────────────────────────────────────────────────────────────────────────────────────────────\n",
      "       Test metric             DataLoader 0\n",
      "────────────────────────────────────────────────────────────────────────────────────────────────────────────────────────\n",
      "   test_auc_hla_a0201       0.8102480173110962\n",
      "        test_loss            0.561884343624115\n",
      "────────────────────────────────────────────────────────────────────────────────────────────────────────────────────────\n",
      "hla_a0201 random_frozen\n"
     ]
    },
    {
     "name": "stderr",
     "output_type": "stream",
     "text": [
      "Multiprocessing is handled by SLURM.\n",
      "GPU available: True, used: True\n",
      "TPU available: False, using: 0 TPU cores\n",
      "IPU available: False, using: 0 IPUs\n",
      "HPU available: False, using: 0 HPUs\n",
      "LOCAL_RANK: 0 - CUDA_VISIBLE_DEVICES: [GPU-6f07f7d1-b74b-ade4-fb35-ff23d46bc4d9]\n",
      "\n",
      "  | Name       | Type           | Params\n",
      "----------------------------------------------\n",
      "0 | encoder    | ByteNet        | 603 K \n",
      "1 | classifier | ESMAttention1d | 16.8 K\n",
      "----------------------------------------------\n",
      "16.8 K    Trainable params\n",
      "603 K     Non-trainable params\n",
      "620 K     Total params\n",
      "2.481     Total estimated model params size (MB)\n",
      "SLURM auto-requeueing enabled. Setting signal handlers.\n"
     ]
    },
    {
     "name": "stdout",
     "output_type": "stream",
     "text": [
      "Epoch 116: 100%|██████████| 15/15 [02:28<00:00,  9.93s/it, loss=0.463, v_num=1.79e+7]\n"
     ]
    },
    {
     "name": "stderr",
     "output_type": "stream",
     "text": [
      "LOCAL_RANK: 0 - CUDA_VISIBLE_DEVICES: [GPU-6f07f7d1-b74b-ade4-fb35-ff23d46bc4d9]\n"
     ]
    },
    {
     "name": "stdout",
     "output_type": "stream",
     "text": [
      "Testing DataLoader 0: 100%|██████████| 1/1 [00:00<00:00,  1.36it/s]\n",
      "────────────────────────────────────────────────────────────────────────────────────────────────────────────────────────\n",
      "       Test metric             DataLoader 0\n",
      "────────────────────────────────────────────────────────────────────────────────────────────────────────────────────────\n",
      "   test_auc_hla_a0201       0.7519210577011108\n",
      "        test_loss           0.6146650314331055\n",
      "────────────────────────────────────────────────────────────────────────────────────────────────────────────────────────\n",
      "hla_a0201 random_finetune\n"
     ]
    },
    {
     "name": "stderr",
     "output_type": "stream",
     "text": [
      "Multiprocessing is handled by SLURM.\n",
      "GPU available: True, used: True\n",
      "TPU available: False, using: 0 TPU cores\n",
      "IPU available: False, using: 0 IPUs\n",
      "HPU available: False, using: 0 HPUs\n",
      "LOCAL_RANK: 0 - CUDA_VISIBLE_DEVICES: [GPU-6f07f7d1-b74b-ade4-fb35-ff23d46bc4d9]\n",
      "\n",
      "  | Name       | Type           | Params\n",
      "----------------------------------------------\n",
      "0 | encoder    | ByteNet        | 603 K \n",
      "1 | classifier | ESMAttention1d | 16.8 K\n",
      "----------------------------------------------\n",
      "16.8 K    Trainable params\n",
      "603 K     Non-trainable params\n",
      "620 K     Total params\n",
      "2.481     Total estimated model params size (MB)\n",
      "SLURM auto-requeueing enabled. Setting signal handlers.\n"
     ]
    },
    {
     "name": "stdout",
     "output_type": "stream",
     "text": [
      "Epoch 113: 100%|██████████| 15/15 [02:45<00:00, 11.03s/it, loss=0.436, v_num=1.79e+7]\n"
     ]
    },
    {
     "name": "stderr",
     "output_type": "stream",
     "text": [
      "LOCAL_RANK: 0 - CUDA_VISIBLE_DEVICES: [GPU-6f07f7d1-b74b-ade4-fb35-ff23d46bc4d9]\n"
     ]
    },
    {
     "name": "stdout",
     "output_type": "stream",
     "text": [
      "Testing DataLoader 0: 100%|██████████| 1/1 [00:00<00:00,  1.36it/s]\n",
      "────────────────────────────────────────────────────────────────────────────────────────────────────────────────────────\n",
      "       Test metric             DataLoader 0\n",
      "────────────────────────────────────────────────────────────────────────────────────────────────────────────────────────\n",
      "   test_auc_hla_a0201       0.8031186461448669\n",
      "        test_loss            0.564993143081665\n",
      "────────────────────────────────────────────────────────────────────────────────────────────────────────────────────────\n",
      "hla_a0201 carp_pretrained_frozen\n"
     ]
    },
    {
     "name": "stderr",
     "output_type": "stream",
     "text": [
      "Multiprocessing is handled by SLURM.\n",
      "GPU available: True, used: True\n",
      "TPU available: False, using: 0 TPU cores\n",
      "IPU available: False, using: 0 IPUs\n",
      "HPU available: False, using: 0 HPUs\n",
      "LOCAL_RANK: 0 - CUDA_VISIBLE_DEVICES: [GPU-6f07f7d1-b74b-ade4-fb35-ff23d46bc4d9]\n",
      "\n",
      "  | Name       | Type           | Params\n",
      "----------------------------------------------\n",
      "0 | encoder    | ByteNet        | 603 K \n",
      "1 | classifier | ESMAttention1d | 16.8 K\n",
      "----------------------------------------------\n",
      "620 K     Trainable params\n",
      "0         Non-trainable params\n",
      "620 K     Total params\n",
      "2.481     Total estimated model params size (MB)\n",
      "SLURM auto-requeueing enabled. Setting signal handlers.\n"
     ]
    },
    {
     "name": "stdout",
     "output_type": "stream",
     "text": [
      "Epoch 23: 100%|██████████| 15/15 [00:43<00:00,  2.91s/it, loss=0.152, v_num=1.79e+7]"
     ]
    },
    {
     "name": "stderr",
     "output_type": "stream",
     "text": [
      "Trainer was signaled to stop but required minimum epochs (30) or minimum steps (None) has not been met. Training will continue...\n"
     ]
    },
    {
     "name": "stdout",
     "output_type": "stream",
     "text": [
      "Epoch 24: 100%|██████████| 15/15 [00:45<00:00,  3.02s/it, loss=0.145, v_num=1.79e+7]"
     ]
    },
    {
     "name": "stderr",
     "output_type": "stream",
     "text": [
      "Trainer was signaled to stop but required minimum epochs (30) or minimum steps (None) has not been met. Training will continue...\n"
     ]
    },
    {
     "name": "stdout",
     "output_type": "stream",
     "text": [
      "Epoch 25: 100%|██████████| 15/15 [00:47<00:00,  3.14s/it, loss=0.134, v_num=1.79e+7]"
     ]
    },
    {
     "name": "stderr",
     "output_type": "stream",
     "text": [
      "Trainer was signaled to stop but required minimum epochs (30) or minimum steps (None) has not been met. Training will continue...\n"
     ]
    },
    {
     "name": "stdout",
     "output_type": "stream",
     "text": [
      "Epoch 26: 100%|██████████| 15/15 [00:48<00:00,  3.25s/it, loss=0.137, v_num=1.79e+7]"
     ]
    },
    {
     "name": "stderr",
     "output_type": "stream",
     "text": [
      "Trainer was signaled to stop but required minimum epochs (30) or minimum steps (None) has not been met. Training will continue...\n"
     ]
    },
    {
     "name": "stdout",
     "output_type": "stream",
     "text": [
      "Epoch 41: 100%|██████████| 15/15 [01:14<00:00,  4.99s/it, loss=0.116, v_num=1.79e+7]\n"
     ]
    },
    {
     "name": "stderr",
     "output_type": "stream",
     "text": [
      "LOCAL_RANK: 0 - CUDA_VISIBLE_DEVICES: [GPU-6f07f7d1-b74b-ade4-fb35-ff23d46bc4d9]\n"
     ]
    },
    {
     "name": "stdout",
     "output_type": "stream",
     "text": [
      "Testing DataLoader 0: 100%|██████████| 1/1 [00:00<00:00,  1.24it/s]\n",
      "────────────────────────────────────────────────────────────────────────────────────────────────────────────────────────\n",
      "       Test metric             DataLoader 0\n",
      "────────────────────────────────────────────────────────────────────────────────────────────────────────────────────────\n",
      "   test_auc_hla_a0201       0.8103634119033813\n",
      "        test_loss            1.025950312614441\n",
      "────────────────────────────────────────────────────────────────────────────────────────────────────────────────────────\n",
      "hla_a0201 carp_pretrained_finetune\n"
     ]
    }
   ],
   "source": [
    "from pytorch_lightning import Trainer, seed_everything\n",
    "from pytorch_lightning.callbacks import ModelCheckpoint\n",
    "from pytorch_lightning.callbacks.early_stopping import EarlyStopping\n",
    "from torch.utils.data import DataLoader\n",
    "from src.torch_helpers import zero_padding_collate\n",
    "from src.cdhit import cdhit_split\n",
    "\n",
    "seed_everything(0, workers=True)\n",
    "\n",
    "aucs = {}\n",
    "\n",
    "for MODEL in models.keys():\n",
    "    for DATASET in datasets.keys():\n",
    "        name = MODEL+'_'+DATASET\n",
    "        !rm -rf ./lightning_logs/$name\n",
    "!rm -rf ./lightning_logs/version_$SLURM_JOBID\n",
    "\n",
    "for DATASET in datasets.keys():\n",
    "    dataset = datasets[DATASET]\n",
    "    \n",
    "    sequences = [item['sequence'] for item in dataset]\n",
    "    train_val_seqs, test_seqs, train_val_dataset, test_dataset = cdhit_split(\n",
    "        sequences,\n",
    "        dataset,\n",
    "        split=2./3,\n",
    "        threshold=0.5,\n",
    "        word_length=3\n",
    "    )\n",
    "    \n",
    "    test_dataloader = DataLoader(\n",
    "        test_dataset,\n",
    "        batch_size=len(test_dataset),\n",
    "        collate_fn=zero_padding_collate,\n",
    "        num_workers=1,\n",
    "        shuffle=False,\n",
    "        drop_last=False\n",
    "    )\n",
    "    \n",
    "    dm = PeptideDataModule(\n",
    "        train_val_dataset,\n",
    "        batch_size=256,\n",
    "        val_batch_size=-1,\n",
    "        train_val_split=0.5,\n",
    "        cdhit_threshold=0.5,\n",
    "        cdhit_word_length=3,\n",
    "        num_workers=4\n",
    "    )\n",
    "    dm.setup()\n",
    "\n",
    "    for MODEL in models.keys():\n",
    "        name = MODEL+'_'+DATASET\n",
    "        \n",
    "        torch.manual_seed(0)\n",
    "        \n",
    "        model = models[MODEL]()\n",
    "        \n",
    "        model.output_weights = [(DATASET,1)]\n",
    "        \n",
    "        trainer = Trainer(\n",
    "            gpus=1,\n",
    "            precision=32,\n",
    "            max_epochs=1000,\n",
    "            min_epochs=30,\n",
    "            callbacks=[\n",
    "                NoValProgressBar(),\n",
    "                EarlyStopping(\n",
    "                    monitor=f'val_auc_{DATASET}',\n",
    "                    mode='max',\n",
    "                    patience=10\n",
    "                ),\n",
    "                ModelCheckpoint(\n",
    "                    monitor=f'val_auc_{DATASET}', \n",
    "                    mode='max',\n",
    "                    save_top_k=1,\n",
    "                    filename='{epoch}-{step}-best'\n",
    "                )\n",
    "            ]\n",
    "        )\n",
    "\n",
    "        trainer.fit(model, dm)\n",
    "        \n",
    "        [best_ckpt] = !ls -t1 ./lightning_logs/version_$SLURM_JOBID/checkpoints/*.ckpt | head -n1\n",
    "        checkpoint = torch.load(best_ckpt)\n",
    "        model.load_state_dict(checkpoint['state_dict'])\n",
    "        \n",
    "        metrics = trainer.test(model, test_dataloader)\n",
    "        \n",
    "        aucs[(DATASET,MODEL)] = metrics[0][f'test_auc_{DATASET}']\n",
    "        \n",
    "        print(DATASET, MODEL)\n",
    "\n",
    "        !mv ./lightning_logs/version_$SLURM_JOBID ./lightning_logs/latest\n",
    "        !mv ./lightning_logs/latest ./lightning_logs/$name"
   ]
  },
  {
   "cell_type": "code",
   "execution_count": 27,
   "metadata": {},
   "outputs": [
    {
     "data": {
      "text/html": [
       "<div>\n",
       "<style scoped>\n",
       "    .dataframe tbody tr th:only-of-type {\n",
       "        vertical-align: middle;\n",
       "    }\n",
       "\n",
       "    .dataframe tbody tr th {\n",
       "        vertical-align: top;\n",
       "    }\n",
       "\n",
       "    .dataframe thead th {\n",
       "        text-align: right;\n",
       "    }\n",
       "</style>\n",
       "<table border=\"1\" class=\"dataframe\">\n",
       "  <thead>\n",
       "    <tr style=\"text-align: right;\">\n",
       "      <th>dataset</th>\n",
       "      <th>cdc28</th>\n",
       "      <th>hla_a0201</th>\n",
       "      <th>mito</th>\n",
       "      <th>signalp</th>\n",
       "    </tr>\n",
       "    <tr>\n",
       "      <th>model</th>\n",
       "      <th></th>\n",
       "      <th></th>\n",
       "      <th></th>\n",
       "      <th></th>\n",
       "    </tr>\n",
       "  </thead>\n",
       "  <tbody>\n",
       "    <tr>\n",
       "      <th>carp_pretrained_finetune</th>\n",
       "      <td>0.8040</td>\n",
       "      <td>0.8104</td>\n",
       "      <td>0.8440</td>\n",
       "      <td>0.9940</td>\n",
       "    </tr>\n",
       "    <tr>\n",
       "      <th>carp_pretrained_frozen</th>\n",
       "      <td>0.7922</td>\n",
       "      <td>0.8031</td>\n",
       "      <td>0.8498</td>\n",
       "      <td>0.9915</td>\n",
       "    </tr>\n",
       "    <tr>\n",
       "      <th>cnn</th>\n",
       "      <td>0.6873</td>\n",
       "      <td>0.8306</td>\n",
       "      <td>0.7851</td>\n",
       "      <td>0.9260</td>\n",
       "    </tr>\n",
       "    <tr>\n",
       "      <th>linear</th>\n",
       "      <td>0.6379</td>\n",
       "      <td>0.7320</td>\n",
       "      <td>0.8317</td>\n",
       "      <td>0.8398</td>\n",
       "    </tr>\n",
       "    <tr>\n",
       "      <th>ms_pretrained_finetune</th>\n",
       "      <td>0.7582</td>\n",
       "      <td>0.8110</td>\n",
       "      <td>0.8643</td>\n",
       "      <td>0.9889</td>\n",
       "    </tr>\n",
       "    <tr>\n",
       "      <th>ms_pretrained_frozen</th>\n",
       "      <td>0.8024</td>\n",
       "      <td>0.7842</td>\n",
       "      <td>0.8738</td>\n",
       "      <td>0.9693</td>\n",
       "    </tr>\n",
       "    <tr>\n",
       "      <th>random_finetune</th>\n",
       "      <td>0.7531</td>\n",
       "      <td>0.7519</td>\n",
       "      <td>0.8543</td>\n",
       "      <td>0.9458</td>\n",
       "    </tr>\n",
       "    <tr>\n",
       "      <th>random_frozen</th>\n",
       "      <td>0.7658</td>\n",
       "      <td>0.8102</td>\n",
       "      <td>0.8534</td>\n",
       "      <td>0.9859</td>\n",
       "    </tr>\n",
       "  </tbody>\n",
       "</table>\n",
       "</div>"
      ],
      "text/plain": [
       "dataset                    cdc28  hla_a0201    mito  signalp\n",
       "model                                                       \n",
       "carp_pretrained_finetune  0.8040     0.8104  0.8440   0.9940\n",
       "carp_pretrained_frozen    0.7922     0.8031  0.8498   0.9915\n",
       "cnn                       0.6873     0.8306  0.7851   0.9260\n",
       "linear                    0.6379     0.7320  0.8317   0.8398\n",
       "ms_pretrained_finetune    0.7582     0.8110  0.8643   0.9889\n",
       "ms_pretrained_frozen      0.8024     0.7842  0.8738   0.9693\n",
       "random_finetune           0.7531     0.7519  0.8543   0.9458\n",
       "random_frozen             0.7658     0.8102  0.8534   0.9859"
      ]
     },
     "execution_count": 27,
     "metadata": {},
     "output_type": "execute_result"
    }
   ],
   "source": [
    "df = pd.DataFrame(aucs,index=[0])\n",
    "df.columns.names = ['dataset','model']\n",
    "df = df.T\n",
    "df = df.pivot_table(index='dataset',columns='model')[0]\n",
    "# df['ms_naive'] = [aucs[('cdc28','ms_naive')],aucs[('mito','ms_naive')],aucs[('signalp','ms_naive')]]\n",
    "df.round(4).T"
   ]
  },
  {
   "cell_type": "code",
   "execution_count": 28,
   "metadata": {
    "jupyter": {
     "source_hidden": true
    }
   },
   "outputs": [],
   "source": [
    "# from sklearn.metrics import confusion_matrix\n",
    "\n",
    "# model = model.cpu()\n",
    "# model.eval()\n",
    "\n",
    "# ys = []\n",
    "# y_preds = []\n",
    "\n",
    "# for batch in dm.val_dataloader():\n",
    "#     y_pred = model.predict_step(batch, 0).detach().cpu().numpy()\n",
    "#     y = batch['y'].cpu().numpy()\n",
    "#     ys.append(y)\n",
    "#     y_preds.append(y_pred)\n",
    "# y = np.concatenate(ys)\n",
    "# y_pred = np.concatenate(y_preds)\n",
    "\n",
    "# for k in range(y.shape[1]):\n",
    "#     plt.figure(figsize=(4,4))\n",
    "#     sns.heatmap(\n",
    "#         confusion_matrix(y[:,k], y_pred[:,k]>0.5),\n",
    "#         annot=True, fmt='d', cmap='Blues'\n",
    "#     )"
   ]
  }
 ],
 "metadata": {
  "kernelspec": {
   "display_name": "Python [conda env:.conda-MSPretraining]",
   "language": "python",
   "name": "conda-env-.conda-MSPretraining-py"
  },
  "language_info": {
   "codemirror_mode": {
    "name": "ipython",
    "version": 3
   },
   "file_extension": ".py",
   "mimetype": "text/x-python",
   "name": "python",
   "nbconvert_exporter": "python",
   "pygments_lexer": "ipython3",
   "version": "3.9.12"
  }
 },
 "nbformat": 4,
 "nbformat_minor": 4
}
