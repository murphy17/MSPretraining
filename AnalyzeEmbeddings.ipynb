{
 "cells": [
  {
   "cell_type": "code",
   "execution_count": 1,
   "metadata": {},
   "outputs": [],
   "source": [
    "import numpy as np\n",
    "import numpy.random as npr\n",
    "import pandas as pd\n",
    "import matplotlib.pyplot as plt\n",
    "import seaborn as sns\n",
    "%config InlineBackend.figure_format = 'retina'"
   ]
  },
  {
   "cell_type": "code",
   "execution_count": 2,
   "metadata": {},
   "outputs": [],
   "source": [
    "%load_ext autoreload\n",
    "%autoreload 2"
   ]
  },
  {
   "cell_type": "code",
   "execution_count": 3,
   "metadata": {},
   "outputs": [
    {
     "name": "stderr",
     "output_type": "stream",
     "text": [
      "/home/gridsan/mmurphy/.conda/envs/MSPretraining/lib/python3.9/site-packages/tqdm/auto.py:22: TqdmWarning: IProgress not found. Please update jupyter and ipywidgets. See https://ipywidgets.readthedocs.io/en/stable/user_install.html\n",
      "  from .autonotebook import tqdm as notebook_tqdm\n"
     ]
    },
    {
     "name": "stdout",
     "output_type": "stream",
     "text": [
      "./lightning_logs/version_17869980/checkpoints/epoch=92-step=114948-best.ckpt\n"
     ]
    }
   ],
   "source": [
    "from src.datamodule import MSDataModule\n",
    "from src.model import MSTransformer\n",
    "\n",
    "[last_ckpt] = !ls -t1 ./lightning_logs/version_17869980/checkpoints/*.ckpt | head -n1\n",
    "print(last_ckpt)\n",
    "\n",
    "model = MSTransformer.load_from_checkpoint(last_ckpt)\n",
    "dm = MSDataModule(**dict(model.hparams))\n",
    "\n",
    "# dm.prefetch = False\n",
    "\n",
    "dm.setup()\n",
    "model = model.cpu()\n",
    "model.eval();"
   ]
  },
  {
   "cell_type": "code",
   "execution_count": 4,
   "metadata": {},
   "outputs": [
    {
     "data": {
      "text/plain": [
       "(2528518, 149737, 301754)"
      ]
     },
     "execution_count": 4,
     "metadata": {},
     "output_type": "execute_result"
    }
   ],
   "source": [
    "len(dm.train_dataset), len(dm.val_dataset), len(dm.test_dataset)"
   ]
  },
  {
   "cell_type": "code",
   "execution_count": 29,
   "metadata": {},
   "outputs": [],
   "source": [
    "from src.baselines import CARPPretextModel\n",
    "\n",
    "carp = CARPPretextModel()\n",
    "carp.eval();"
   ]
  },
  {
   "cell_type": "code",
   "execution_count": 33,
   "metadata": {},
   "outputs": [],
   "source": [
    "from sequence_models.pretrained import load_model_and_alphabet\n",
    "\n",
    "model, collater = load_model_and_alphabet('carp_38M')"
   ]
  },
  {
   "cell_type": "code",
   "execution_count": 26,
   "metadata": {},
   "outputs": [
    {
     "name": "stderr",
     "output_type": "stream",
     "text": [
      "292it [02:51,  1.70it/s]\n"
     ]
    },
    {
     "data": {
      "text/plain": [
       "(23155, 128)"
      ]
     },
     "execution_count": 26,
     "metadata": {},
     "output_type": "execute_result"
    }
   ],
   "source": [
    "from tqdm import tqdm\n",
    "\n",
    "from src.constants import MSConstants\n",
    "C = MSConstants()\n",
    "\n",
    "embeddings = []\n",
    "sequences = []\n",
    "charges = []\n",
    "ces = []\n",
    "spectra = []\n",
    "\n",
    "masked_aas = []\n",
    "pred_aas = []\n",
    "carp_aas = []\n",
    "has_ptm = []\n",
    "\n",
    "for i, batch in tqdm(enumerate(dm.val_dataloader())):\n",
    "    x = batch['x'].to(model.device)\n",
    "    x_mask = batch['x_mask'].to(model.device).unsqueeze(-1)\n",
    "    z = model.x_encoder(x, x_mask)\n",
    "    z = (z * x_mask).sum(1) / x_mask.sum(1)\n",
    "    z = z.detach().cpu().numpy()\n",
    "    embeddings.append(z)\n",
    "    \n",
    "    sequences += batch['sequence']\n",
    "    \n",
    "    x_pred, masking_idx = model.predict_step(batch, i)\n",
    "    \n",
    "    idxs = masking_idx.detach().cpu().numpy()\n",
    "    seqs = []\n",
    "    for seq, idx in zip(batch['sequence'],idxs):\n",
    "        seq = seq[:idx] + '#' + seq[idx+1:]\n",
    "        has_ptm.append(('c' in seq) or ('m' in seq))\n",
    "        seq = seq.upper()\n",
    "        seqs.append(seq)\n",
    "    \n",
    "    masked_aa = x[range(len(x)),masking_idx].detach().cpu().numpy()\n",
    "    masked_aas += [C.alphabet[i] for i in masked_aa]\n",
    "    \n",
    "    pred_aa = x_pred[range(len(x)),masking_idx].detach().cpu().numpy()\n",
    "    pred_aas += [C.alphabet[i] for i in pred_aa]\n",
    "    \n",
    "    carp_aa = carp.predict(seqs)\n",
    "    carp_aas += [seq[idx] for seq,idx in zip(carp_aa,idxs)]\n",
    "\n",
    "embeddings = np.concatenate(embeddings,0)\n",
    "\n",
    "embeddings = pd.DataFrame(embeddings)\n",
    "embeddings = embeddings.groupby(sequences).mean()\n",
    "embeddings.shape"
   ]
  },
  {
   "cell_type": "code",
   "execution_count": 27,
   "metadata": {},
   "outputs": [
    {
     "data": {
      "text/plain": [
       "<AxesSubplot:>"
      ]
     },
     "execution_count": 27,
     "metadata": {},
     "output_type": "execute_result"
    },
    {
     "data": {
      "image/png": "[encoded data removed]",
      "text/plain": [
       "<Figure size 720x576 with 2 Axes>"
      ]
     },
     "metadata": {
      "image/png": {
       "height": 469,
       "width": 538
      },
      "needs_background": "light"
     },
     "output_type": "display_data"
    }
   ],
   "source": [
    "# accuracy per AA\n",
    "\n",
    "from sklearn.metrics import confusion_matrix\n",
    "from collections import defaultdict, Counter\n",
    "\n",
    "mat = defaultdict(Counter)\n",
    "for x, x_pred in zip(masked_aas, pred_aas):\n",
    "    mat[x][x_pred] += 1\n",
    "mat = pd.DataFrame(mat)\n",
    "mat = mat.sort_index(key=lambda s:s.str.lower()).T\n",
    "mat = mat.sort_index(key=lambda s:s.str.lower()).T\n",
    "mat = mat.fillna(0).astype(int)\n",
    "\n",
    "mat = mat / mat.sum(1).values[:,None]\n",
    "\n",
    "plt.figure(figsize=(10,8))\n",
    "sns.heatmap(mat,annot=False,fmt='d',cmap='Blues',square=True,vmin=0,vmax=1)"
   ]
  },
  {
   "cell_type": "code",
   "execution_count": null,
   "metadata": {},
   "outputs": [],
   "source": [
    "# physically similar AAs tend to get confused: branched chain (ILV), aromatic (FY)\n",
    "# m and M don't get confused much"
   ]
  },
  {
   "cell_type": "code",
   "execution_count": null,
   "metadata": {},
   "outputs": [],
   "source": [
    "def polarity(sequence):\n",
    "    is_basic = np.array([aa in 'RHK' for aa in sequence])\n",
    "    polarity = (is_basic * np.arange(len(sequence))).sum() / np.arange(len(sequence)).sum()\n",
    "    return polarity\n",
    "\n",
    "import scanpy as sc\n",
    "\n",
    "adata = sc.AnnData(embeddings)\n",
    "\n",
    "adata.obs['sequence'] = embeddings.index\n",
    "adata.obs['length'] = adata.obs['sequence'].map(len)\n",
    "adata.obs['first_aa'] = adata.obs['sequence'].str[0]\n",
    "adata.obs['second_aa'] = adata.obs['sequence'].str[1]\n",
    "adata.obs['last_aa'] = adata.obs['sequence'].str[-1]\n",
    "adata.obs['num_basic'] = adata.obs['sequence'].map(lambda s: sum([c in 'RKH' for c in s])).astype(str)\n",
    "adata.obs['polarity'] = adata.obs['sequence'].map(polarity)"
   ]
  },
  {
   "cell_type": "code",
   "execution_count": null,
   "metadata": {},
   "outputs": [],
   "source": [
    "# from scipy.stats import entropy\n",
    "# adata.obs['peak_entropy'] = [entropy(s.ravel())/s.shape[0] for s in spectra]\n",
    "# adata.obs['bond_entropy'] = [entropy(s.sum((1,2,3)).ravel())/s.shape[0] for s in spectra]\n",
    "# adata.obs['terminality'] = [s.sum((0,2,3))[-1]/s.sum() for s in spectra]"
   ]
  },
  {
   "cell_type": "code",
   "execution_count": null,
   "metadata": {},
   "outputs": [],
   "source": [
    "# # sc.pp.subsample(adata,fraction=0.25)\n",
    "\n",
    "# from src.cdhit import CDHIT\n",
    "\n",
    "# clusters = CDHIT(threshold=0.9, word_length=5).fit_predict(adata.obs['sequence'])\n",
    "\n",
    "# adata = adata[adata.obs[[]].groupby(clusters).head(3).index]\n",
    "\n",
    "len(adata)"
   ]
  },
  {
   "cell_type": "code",
   "execution_count": null,
   "metadata": {},
   "outputs": [],
   "source": [
    "sc.tl.pca(adata, random_state=0)\n",
    "sc.pp.neighbors(adata, random_state=0)\n",
    "sc.tl.umap(adata, random_state=0)\n",
    "sc.tl.leiden(adata, resolution=0.5)"
   ]
  },
  {
   "cell_type": "code",
   "execution_count": null,
   "metadata": {},
   "outputs": [],
   "source": [
    "sc.pl.umap(adata,color=['length','num_basic'])\n",
    "sc.pl.umap(adata,color=['first_aa','last_aa'])\n",
    "# sc.pl.umap(adata,color=['bond_entropy','terminality'])"
   ]
  },
  {
   "cell_type": "markdown",
   "metadata": {},
   "source": [
    "Do sequences within sequence-similarity clusters tend to be closer in fragment space? (IOW: \"do distances in 'fragmentation space' have anything to do with edit distance?\")\n",
    "\n",
    "The more interesting question is the other way around. \"Do sequences nearby in fragment space tend to be similar?\""
   ]
  },
  {
   "cell_type": "code",
   "execution_count": null,
   "metadata": {},
   "outputs": [],
   "source": [
    "# from src.cdhit import CDHIT\n",
    "# from sklearn.metrics import pairwise_distances\n",
    "\n",
    "# cdhit = CDHIT(\n",
    "#     threshold=0.9,\n",
    "#     word_length=5\n",
    "# )\n",
    "# clusters = np.array(cdhit.fit_predict(sequences))\n",
    "\n",
    "# X = embeddings.values.copy()\n",
    "\n",
    "# mean_dists = []\n",
    "# for i, c in enumerate(clusters):\n",
    "#     dists = pairwise_distances(X[clusters==c], X[[i]])\n",
    "#     dists = sorted(dists.ravel())[1:]\n",
    "#     if len(dists)==0:\n",
    "#         continue\n",
    "#     mean_dists.append(np.mean(dists))\n",
    "    \n",
    "# npr.seed(0)\n",
    "# X = X[npr.permutation(X.shape[0])]\n",
    "\n",
    "# rand_dists = []\n",
    "# for i, c in enumerate(clusters):\n",
    "#     dists = pairwise_distances(X[clusters==c], X[[i]])\n",
    "#     dists = sorted(dists.ravel())[1:]\n",
    "#     if len(dists)==0:\n",
    "#         continue\n",
    "#     rand_dists.append(np.mean(dists))\n",
    "    \n",
    "# plt.hist([mean_dists,rand_dists],bins=50,histtype='step');\n",
    "\n",
    "# If I rank all other sequences by distance to this one, what's the average rank of other sequences in the same CDHIT cluster? Is it any different than if clusters were assigned randomly?\n",
    "\n",
    "# X = embeddings.values.copy()\n",
    "\n",
    "# npr.seed(0)\n",
    "\n",
    "# from collections import Counter\n",
    "# cluster_counts = Counter(clusters)\n",
    "\n",
    "# mean_ranks = []\n",
    "# rand_ranks = []\n",
    "# for i, c in tqdm(enumerate(clusters)):\n",
    "#     if cluster_counts[c]==1:\n",
    "#         continue\n",
    "#     dists = pairwise_distances(X, X[[i]]).ravel()\n",
    "#     dists[i] = np.inf\n",
    "#     ranks = np.argsort(dists)*1.\n",
    "#     ranks[-1] = np.nan\n",
    "#     mean_ranks.append(np.nanmean(ranks[clusters==c]))\n",
    "#     rand_ranks.append(np.nanmean(ranks[clusters[npr.permutation(len(clusters))]==c]))\n",
    "    \n",
    "# plt.hist([mean_ranks,rand_ranks],bins=50,histtype='step');\n",
    "\n",
    "# plt.figure(figsize=(8,4))\n",
    "# sns.violinplot(\n",
    "#     data=adata.obs,\n",
    "#     x='leiden',\n",
    "#     y='length',\n",
    "#     order=adata.obs.groupby('leiden')['length'].mean().sort_values().index\n",
    "# )\n",
    "\n",
    "# adata = adata[adata.obs['length']==11]\n",
    "\n",
    "# sc.tl.pca(adata, random_state=0)\n",
    "# sc.pp.neighbors(adata, random_state=0)\n",
    "# sc.tl.umap(adata, random_state=0)\n",
    "# sc.tl.leiden(adata,resolution=0.25, random_state=0)\n",
    "\n",
    "# adata.obs['pc1'] = adata.obsm['X_pca'][:,0]\n",
    "# adata.obs['pc2'] = adata.obsm['X_pca'][:,1]\n",
    "\n",
    "# adata\n",
    "\n",
    "# sc.pl.umap(adata,color=['leiden','bond_entropy','num_basic'])\n",
    "# # sc.pl.umap(adata,color=['first_aa','second_aa'])\n",
    "# # sc.pl.umap(adata,color=['pc1','pc2'])\n",
    "\n",
    "# Polarity still dominates.\n",
    "\n",
    "# def plot_cluster(cluster, ax, vmax):\n",
    "#     df = pd.DataFrame(adata.obs.query(f'leiden==\"{cluster}\"')['sequence'].str.split('').tolist()).iloc[:,1:-1]\n",
    "#     df = df.apply(lambda c: c.value_counts())\n",
    "#     df = df.join(pd.Series({aa:0 for aa in model.residues[1:]},name='aa'),how='outer').drop(columns=['aa']).drop(index=['C','O'])\n",
    "#     df = df.fillna(0).astype(int)\n",
    "#     df.columns.name = 'position'\n",
    "#     plt.sca(ax)\n",
    "#     sns.heatmap(df,vmin=0,vmax=vmax,cmap='Reds')\n",
    "#     plt.title(f'cluster {cluster}')\n",
    "\n",
    "# fig,axs = plt.subplots(1,2,figsize=(16,6))\n",
    "# plot_cluster(3, axs[0], 50)\n",
    "# plot_cluster(7, axs[1], 50)\n",
    "\n",
    "\n"
   ]
  }
 ],
 "metadata": {
  "kernelspec": {
   "display_name": "Python [conda env:.conda-MSPretraining]",
   "language": "python",
   "name": "conda-env-.conda-MSPretraining-py"
  },
  "language_info": {
   "codemirror_mode": {
    "name": "ipython",
    "version": 3
   },
   "file_extension": ".py",
   "mimetype": "text/x-python",
   "name": "python",
   "nbconvert_exporter": "python",
   "pygments_lexer": "ipython3",
   "version": "3.9.12"
  },
  "toc-autonumbering": false
 },
 "nbformat": 4,
 "nbformat_minor": 4
}
