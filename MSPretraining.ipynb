{
 "cells": [
  {
   "cell_type": "code",
   "execution_count": 1,
   "metadata": {},
   "outputs": [],
   "source": [
    "import numpy as np\n",
    "import numpy.random as npr\n",
    "import pandas as pd\n",
    "import matplotlib.pyplot as plt\n",
    "%config InlineBackend.figure_format = 'retina'"
   ]
  },
  {
   "cell_type": "code",
   "execution_count": 2,
   "metadata": {},
   "outputs": [],
   "source": [
    "%load_ext autoreload\n",
    "%autoreload 2"
   ]
  },
  {
   "cell_type": "code",
   "execution_count": 25,
   "metadata": {},
   "outputs": [],
   "source": [
    "def faststem(x, y, *args, **kwargs):\n",
    "    ord = np.argsort(x)\n",
    "    x = x[ord]\n",
    "    y = y[ord]\n",
    "    x = np.array([x,x,x]).T.ravel()\n",
    "    y = np.array([0*y,y,np.nan*y]).T.ravel()\n",
    "    plt.gca().plot(x,y,*args,**kwargs)"
   ]
  },
  {
   "cell_type": "code",
   "execution_count": 3,
   "metadata": {},
   "outputs": [],
   "source": [
    "from src.datamodule import MSDataModule\n",
    "from src.model import MSTransformer\n",
    "from src.constants import MSConstants\n",
    "C = MSConstants()"
   ]
  },
  {
   "cell_type": "code",
   "execution_count": 4,
   "metadata": {},
   "outputs": [],
   "source": [
    "dm = MSDataModule(\n",
    "    hdf_path='./data/ProteomeTools.hdf',\n",
    "    batch_size=32,\n",
    "    train_val_split=0.95,\n",
    "    cdhit_threshold=0.95,\n",
    "    cdhit_word_length=5,\n",
    "    cache_dir='$TMPDIR',\n",
    "    num_workers=4\n",
    ")"
   ]
  },
  {
   "cell_type": "code",
   "execution_count": 5,
   "metadata": {},
   "outputs": [
    {
     "name": "stdout",
     "output_type": "stream",
     "text": [
      "Warning: No xauth data; using fake authentication data for X11 forwarding.\n"
     ]
    }
   ],
   "source": [
    "!ssh login-2 'tmux kill-session -t tensorboard; tmux new-session -s tensorboard -d srun --resv-ports=1 --pty bash -i -c \"~/TensorBoard.sh ~/MSPretraining/lightning_logs\"'\n"
   ]
  },
  {
   "cell_type": "code",
   "execution_count": 6,
   "metadata": {},
   "outputs": [],
   "source": [
    "model = MSTransformer(\n",
    "    residues=C.alphabet,\n",
    "    ions=C.ions,\n",
    "    parent_min_charge=C.min_charge,\n",
    "    parent_max_charge=C.max_charge,\n",
    "    fragment_min_charge=C.min_frag_charge,\n",
    "    fragment_max_charge=C.max_frag_charge,\n",
    "    losses=C.losses,\n",
    "    model_dim=512,\n",
    "    model_depth=4,\n",
    "    num_heads=8,\n",
    "    lr=1e-5,\n",
    "    dropout=0.1, \n",
    "    max_length=100\n",
    ")"
   ]
  },
  {
   "cell_type": "code",
   "execution_count": 7,
   "metadata": {},
   "outputs": [
    {
     "name": "stderr",
     "output_type": "stream",
     "text": [
      "GPU available: True, used: True\n",
      "TPU available: False, using: 0 TPU cores\n",
      "IPU available: False, using: 0 IPUs\n"
     ]
    }
   ],
   "source": [
    "from pytorch_lightning import Trainer\n",
    "\n",
    "trainer = Trainer(\n",
    "    gpus=1,\n",
    "    num_sanity_val_steps=0,\n",
    "    max_epochs=1,\n",
    "    log_every_n_steps=1\n",
    ")"
   ]
  },
  {
   "cell_type": "code",
   "execution_count": 8,
   "metadata": {},
   "outputs": [
    {
     "name": "stderr",
     "output_type": "stream",
     "text": [
      "LOCAL_RANK: 0 - CUDA_VISIBLE_DEVICES: [GPU-42ce0213-d4cd-d418-0188-8a9184079632]\n",
      "Set SLURM handle signals.\n",
      "\n",
      "  | Name                | Type               | Params\n",
      "-----------------------------------------------------------\n",
      "0 | residue_embedding   | Embedding          | 12.3 K\n",
      "1 | charge_embedding    | Embedding          | 3.1 K \n",
      "2 | ce_embedding        | Linear             | 1.0 K \n",
      "3 | positional_encoding | PositionalEncoding | 0     \n",
      "4 | transformer         | Transformer        | 16.8 M\n",
      "5 | classifier          | Linear             | 9.2 K \n",
      "-----------------------------------------------------------\n",
      "16.9 M    Trainable params\n",
      "0         Non-trainable params\n",
      "16.9 M    Total params\n",
      "67.433    Total estimated model params size (MB)\n"
     ]
    },
    {
     "data": {
      "application/vnd.jupyter.widget-view+json": {
       "model_id": "c7695c1d8e2444079db91efd014c8289",
       "version_major": 2,
       "version_minor": 0
      },
      "text/plain": [
       "Training: 0it [00:00, ?it/s]"
      ]
     },
     "metadata": {},
     "output_type": "display_data"
    },
    {
     "name": "stderr",
     "output_type": "stream",
     "text": [
      "/home/gridsan/mmurphy/.conda/envs/NileRed/lib/python3.8/site-packages/pytorch_lightning/trainer/trainer.py:688: UserWarning: Detected KeyboardInterrupt, attempting graceful shutdown...\n",
      "  rank_zero_warn(\"Detected KeyboardInterrupt, attempting graceful shutdown...\")\n"
     ]
    }
   ],
   "source": [
    "trainer.fit(model, dm)"
   ]
  },
  {
   "cell_type": "code",
   "execution_count": 37,
   "metadata": {},
   "outputs": [],
   "source": [
    "for batch in dm.train_dataloader():\n",
    "    break\n",
    "    \n",
    "model = model.cpu()\n",
    "batch['y_pred'] = model.predict_step(batch)"
   ]
  },
  {
   "cell_type": "markdown",
   "metadata": {},
   "source": [
    "# why the hell isn't the charge embedding working"
   ]
  },
  {
   "cell_type": "markdown",
   "metadata": {},
   "source": [
    "# why the hell is loss zero"
   ]
  },
  {
   "cell_type": "code",
   "execution_count": 43,
   "metadata": {},
   "outputs": [
    {
     "data": {
      "text/plain": [
       "tensor(0., grad_fn=<DivBackward0>)"
      ]
     },
     "execution_count": 43,
     "metadata": {},
     "output_type": "execute_result"
    }
   ],
   "source": [
    "from torch.nn import functional as F\n",
    "batch_size = batch['x'].shape[0]\n",
    "y_total = batch['y'].flatten(1).sum(1).view(batch_size,1,1,1,1)\n",
    "model.masked_loss(F.cross_entropy, batch['y_pred'], batch['y'] / y_total, batch['y_mask'].bool())\n"
   ]
  },
  {
   "cell_type": "code",
   "execution_count": 46,
   "metadata": {},
   "outputs": [
    {
     "data": {
      "text/plain": [
       "tensor(32.)"
      ]
     },
     "execution_count": 46,
     "metadata": {},
     "output_type": "execute_result"
    }
   ],
   "source": [
    "# batch['y_mask'].bool().sum()\n",
    "(batch['y'] / y_total).sum()"
   ]
  },
  {
   "cell_type": "code",
   "execution_count": 38,
   "metadata": {},
   "outputs": [
    {
     "data": {
      "image/png": "[encoded data removed]",
      "text/plain": [
       "<Figure size 432x288 with 1 Axes>"
      ]
     },
     "metadata": {
      "image/png": {
       "height": 258,
       "width": 386
      },
      "needs_background": "light"
     },
     "output_type": "display_data"
    }
   ],
   "source": [
    "from src.spectrum import fragment_mz_tensor\n",
    "mz = fragment_mz_tensor(batch['sequence'][0]).ravel()\n",
    "y = batch['y'][0].detach().cpu().numpy().ravel()\n",
    "y_pred = batch['y_pred'][0].detach().cpu().numpy().ravel()\n",
    "faststem(mz,y)\n",
    "faststem(mz,-y_pred)"
   ]
  }
 ],
 "metadata": {
  "kernelspec": {
   "display_name": "Python [conda env:.conda-NileRed]",
   "language": "python",
   "name": "conda-env-.conda-NileRed-py"
  },
  "language_info": {
   "codemirror_mode": {
    "name": "ipython",
    "version": 3
   },
   "file_extension": ".py",
   "mimetype": "text/x-python",
   "name": "python",
   "nbconvert_exporter": "python",
   "pygments_lexer": "ipython3",
   "version": "3.8.10"
  }
 },
 "nbformat": 4,
 "nbformat_minor": 4
}
