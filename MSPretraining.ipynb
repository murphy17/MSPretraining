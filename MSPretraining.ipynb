{
 "cells": [
  {
   "cell_type": "code",
   "execution_count": null,
   "metadata": {},
   "outputs": [],
   "source": [
    "import numpy as np\n",
    "import numpy.random as npr\n",
    "import pandas as pd\n",
    "import matplotlib.pyplot as plt\n",
    "%config InlineBackend.figure_format = 'retina'"
   ]
  },
  {
   "cell_type": "code",
   "execution_count": 1,
   "metadata": {},
   "outputs": [],
   "source": [
    "%load_ext autoreload\n",
    "%autoreload 2"
   ]
  },
  {
   "cell_type": "code",
   "execution_count": null,
   "metadata": {},
   "outputs": [],
   "source": [
    "from src.datamodule import MSDataModule\n",
    "from src.model import MSTransformer\n",
    "from src.constants import MSConstants\n",
    "C = MSConstants()"
   ]
  },
  {
   "cell_type": "code",
   "execution_count": null,
   "metadata": {},
   "outputs": [],
   "source": [
    "dm = MSDataModule(\n",
    "    hdf_path='./data/ProteomeTools.hdf',\n",
    "    batch_size=512,\n",
    "    train_val_split=0.99,\n",
    "    cdhit_threshold=0.9,\n",
    "    cdhit_word_length=5,\n",
    "    cache_dir='$TMPDIR',\n",
    "    num_workers=20\n",
    ")"
   ]
  },
  {
   "cell_type": "code",
   "execution_count": 11,
   "metadata": {},
   "outputs": [
    {
     "name": "stderr",
     "output_type": "stream",
     "text": [
      "Warning: No xauth data; using fake authentication data for X11 forwarding.\n"
     ]
    }
   ],
   "source": [
    "from src.torch_helpers import start_tensorboard\n",
    "\n",
    "start_tensorboard('login-2')"
   ]
  },
  {
   "cell_type": "code",
   "execution_count": null,
   "metadata": {},
   "outputs": [],
   "source": [
    "model = MSTransformer(\n",
    "    residues=C.alphabet,\n",
    "    ions=C.ions,\n",
    "    parent_min_charge=C.min_charge,\n",
    "    parent_max_charge=C.max_charge,\n",
    "    fragment_min_charge=C.min_frag_charge,\n",
    "    fragment_max_charge=C.max_frag_charge,\n",
    "    losses=C.losses,\n",
    "    model_dim=256,\n",
    "    model_depth=2,\n",
    "    num_heads=1,\n",
    "    lr=5e-4,\n",
    "    dropout=0.1, \n",
    "    max_length=100\n",
    ")"
   ]
  },
  {
   "cell_type": "code",
   "execution_count": null,
   "metadata": {},
   "outputs": [],
   "source": [
    "from pytorch_lightning import Trainer\n",
    "\n",
    "!rm -rf ./lightning_logs\n",
    "trainer = Trainer(\n",
    "    gpus=1,\n",
    "    num_sanity_val_steps=0,\n",
    "    log_every_n_steps=5\n",
    ")"
   ]
  },
  {
   "cell_type": "code",
   "execution_count": null,
   "metadata": {},
   "outputs": [],
   "source": [
    "trainer.fit(model, dm)"
   ]
  },
  {
   "cell_type": "code",
   "execution_count": null,
   "metadata": {},
   "outputs": [],
   "source": [
    "dm.setup()\n",
    "for i, batch in enumerate(dm.predict_dataloader()):\n",
    "    if i == 1:\n",
    "        break\n",
    "    \n",
    "model = model.cpu()\n",
    "model.eval()\n",
    "batch['y_pred'] = model.predict_step(batch)"
   ]
  },
  {
   "cell_type": "code",
   "execution_count": null,
   "metadata": {},
   "outputs": [],
   "source": [
    "from src.plotting import faststem\n",
    "from src.spectrum import fragment_mz_tensor\n",
    "\n",
    "mz = fragment_mz_tensor(batch['sequence'][0]).ravel()\n",
    "y = batch['y'][0].detach().cpu().numpy().ravel()\n",
    "y_pred = batch['y_pred'][0].detach().cpu().numpy().ravel()\n",
    "y_mask = batch['y_mask'][0].detach().cpu().numpy().ravel()\n",
    "faststem(mz,y)\n",
    "faststem(mz,-y_pred)\n",
    "# faststem(mz,-y_mask*1e5)"
   ]
  }
 ],
 "metadata": {
  "kernelspec": {
   "display_name": "Python [conda env:.conda-NileRed]",
   "language": "python",
   "name": "conda-env-.conda-NileRed-py"
  },
  "language_info": {
   "codemirror_mode": {
    "name": "ipython",
    "version": 3
   },
   "file_extension": ".py",
   "mimetype": "text/x-python",
   "name": "python",
   "nbconvert_exporter": "python",
   "pygments_lexer": "ipython3",
   "version": "3.8.10"
  }
 },
 "nbformat": 4,
 "nbformat_minor": 4
}
