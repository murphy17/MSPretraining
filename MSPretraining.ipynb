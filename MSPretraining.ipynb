{
 "cells": [
  {
   "cell_type": "code",
   "execution_count": null,
   "metadata": {},
   "outputs": [],
   "source": [
    "import numpy as np\n",
    "import numpy.random as npr\n",
    "import pandas as pd\n",
    "import matplotlib.pyplot as plt\n",
    "%config InlineBackend.figure_format = 'retina'"
   ]
  },
  {
   "cell_type": "code",
   "execution_count": null,
   "metadata": {},
   "outputs": [],
   "source": [
    "%load_ext autoreload\n",
    "%autoreload 2"
   ]
  },
  {
   "cell_type": "code",
   "execution_count": null,
   "metadata": {},
   "outputs": [],
   "source": [
    "from src.datamodule import MSDataModule\n",
    "from src.model import MSTransformer\n",
    "from src.constants import MSConstants\n",
    "C = MSConstants()"
   ]
  },
  {
   "cell_type": "code",
   "execution_count": null,
   "metadata": {},
   "outputs": [],
   "source": [
    "dm = MSDataModule(\n",
    "    hdf_path='./data/ProteomeTools.hdf',\n",
    "    batch_size=1024,\n",
    "    train_val_split=0.95,\n",
    "    cdhit_threshold=0.5,\n",
    "    cdhit_word_length=3,\n",
    "    cache_dir='$TMPDIR',\n",
    "    num_workers=20\n",
    ")"
   ]
  },
  {
   "cell_type": "code",
   "execution_count": null,
   "metadata": {},
   "outputs": [],
   "source": [
    "from src.torch_helpers import start_tensorboard\n",
    "\n",
    "start_tensorboard(login_node='login-2')"
   ]
  },
  {
   "cell_type": "code",
   "execution_count": null,
   "metadata": {},
   "outputs": [],
   "source": [
    "model = MSTransformer(\n",
    "    residues=C.alphabet,\n",
    "    ions=C.ions,\n",
    "    parent_min_charge=C.min_charge,\n",
    "    parent_max_charge=C.max_charge,\n",
    "    fragment_min_charge=C.min_frag_charge,\n",
    "    fragment_max_charge=C.max_frag_charge,\n",
    "    losses=C.losses,\n",
    "    model_dim=512,\n",
    "    model_depth=4,\n",
    "    num_heads=8,\n",
    "    lr=1e-4,\n",
    "    dropout=0.1, \n",
    "    max_length=100\n",
    ")"
   ]
  },
  {
   "cell_type": "code",
   "execution_count": null,
   "metadata": {},
   "outputs": [],
   "source": [
    "from pytorch_lightning import Trainer\n",
    "\n",
    "!rm -rf ./lightning_logs\n",
    "trainer = Trainer(\n",
    "    gpus=1,\n",
    "    max_epochs=100,\n",
    "    # num_sanity_val_steps=0,\n",
    "    log_every_n_steps=5\n",
    ")"
   ]
  },
  {
   "cell_type": "code",
   "execution_count": null,
   "metadata": {},
   "outputs": [],
   "source": [
    "trainer.fit(model, dm)"
   ]
  },
  {
   "cell_type": "code",
   "execution_count": null,
   "metadata": {},
   "outputs": [],
   "source": [
    "dm.setup()\n",
    "model = model.cpu()\n",
    "model.eval();"
   ]
  },
  {
   "cell_type": "code",
   "execution_count": null,
   "metadata": {},
   "outputs": [],
   "source": [
    "from src.plotting import faststem\n",
    "from src.spectrum import fragment_mz_tensor\n",
    "\n",
    "for i, batch in enumerate(dm.predict_dataloader(shuffle=True)):\n",
    "    if i == 10:\n",
    "        break\n",
    "    \n",
    "    batch['y_pred'] = model.predict_step(batch)\n",
    "\n",
    "    mz = fragment_mz_tensor(batch['sequence'][0]).ravel()\n",
    "    y = batch['y'][0].detach().cpu().numpy().ravel()\n",
    "    y_pred = batch['y_pred'][0].detach().cpu().numpy().ravel()\n",
    "    \n",
    "    plt.figure(figsize=(6,3))\n",
    "    faststem(mz,y)\n",
    "    faststem(mz,-y_pred)\n",
    "    yl = max(np.abs(plt.ylim()))\n",
    "    plt.ylim([-yl,yl])\n",
    "    plt.title(f\"{batch['sequence'][0]} {batch['charge'][0]}+\")"
   ]
  },
  {
   "cell_type": "code",
   "execution_count": null,
   "metadata": {},
   "outputs": [],
   "source": []
  }
 ],
 "metadata": {
  "kernelspec": {
   "display_name": "Python [conda env:.conda-NileRed]",
   "language": "python",
   "name": "conda-env-.conda-NileRed-py"
  },
  "language_info": {
   "codemirror_mode": {
    "name": "ipython",
    "version": 3
   },
   "file_extension": ".py",
   "mimetype": "text/x-python",
   "name": "python",
   "nbconvert_exporter": "python",
   "pygments_lexer": "ipython3",
   "version": "3.8.10"
  }
 },
 "nbformat": 4,
 "nbformat_minor": 4
}
