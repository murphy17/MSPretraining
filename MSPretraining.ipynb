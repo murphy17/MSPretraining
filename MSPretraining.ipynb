{
 "cells": [
  {
   "cell_type": "code",
   "execution_count": 1,
   "metadata": {},
   "outputs": [],
   "source": [
    "import numpy as np\n",
    "import numpy.random as npr\n",
    "import pandas as pd\n",
    "import matplotlib.pyplot as plt\n",
    "import seaborn as sns\n",
    "%config InlineBackend.figure_format = 'retina'"
   ]
  },
  {
   "cell_type": "code",
   "execution_count": 2,
   "metadata": {},
   "outputs": [],
   "source": [
    "%load_ext autoreload\n",
    "%autoreload 2"
   ]
  },
  {
   "cell_type": "code",
   "execution_count": 7,
   "metadata": {},
   "outputs": [],
   "source": [
    "hparams = dict(\n",
    "    # datamodule\n",
    "    hdf_path='./data/ProteomeTools.hdf',\n",
    "    batch_size=512,\n",
    "    train_split=0.8,\n",
    "    val_split=0.1,\n",
    "    cdhit_threshold=0.5,\n",
    "    cdhit_word_length=3,\n",
    "    tmp_env='TMPDIR',\n",
    "    num_workers=20,\n",
    "    random_state=0,\n",
    "    \n",
    "    # model\n",
    "    model_dim=128, # same size as CARP-600k\n",
    "    model_depth=16,\n",
    "    lr=1e-4,\n",
    "    dropout=0.0, \n",
    "\n",
    "    # trainer\n",
    "    num_gpus=1,\n",
    "    max_epochs=1000,\n",
    "    precision=32,\n",
    "    strategy='ddp',\n",
    "    es_monitor='val_cross_entropy',\n",
    "    es_mode='min',\n",
    "    es_patience=3,\n",
    "    \n",
    "    # cluster\n",
    "    num_nodes=4,\n",
    "    num_cpus=20,\n",
    "    conda_env='MSPretraining',\n",
    "    time='0-4:00:00',\n",
    "    \n",
    "    # tensorboard\n",
    "    login_node='login-2'\n",
    ")"
   ]
  },
  {
   "cell_type": "code",
   "execution_count": 8,
   "metadata": {},
   "outputs": [
    {
     "name": "stdout",
     "output_type": "stream",
     "text": [
      "Writing 'slurm' (str) to file 'submit.sh'.\n",
      "Submitted batch job 17855795\n"
     ]
    }
   ],
   "source": [
    "args = ' '.join([f'--{k} {v}' for k,v in hparams.items()])\n",
    "\n",
    "slurm = f'''#!/bin/bash -l \n",
    "\n",
    "#SBATCH --nodes={hparams['num_nodes']}\n",
    "#SBATCH --gres=gpu:volta:{hparams['num_gpus']}\n",
    "#SBATCH --ntasks-per-node={max(1,hparams['num_gpus'])}\n",
    "#SBATCH --cpus-per-task={hparams['num_cpus']}\n",
    "#SBATCH --time={hparams['time']}\n",
    "\n",
    "#SBATCH --signal=SIGUSR1@90\n",
    "\n",
    "source activate {hparams['conda_env']}\n",
    "''' + '''\n",
    "export NCCL_DEBUG=INFO\n",
    "export PYTHONFAULTHANDLER=1\n",
    "\n",
    "# Set some environment variables needed by torch.distributed \n",
    "export MASTER_ADDR=$(hostname -s)\n",
    "# Get unused port\n",
    "export MASTER_PORT=$(python -c 'import socket; s=socket.socket(); s.bind((\"\", 0)); print(s.getsockname()[1]); s.close()')\n",
    "\n",
    "echo \"MASTER_ADDR : ${MASTER_ADDR}\"\n",
    "echo \"MASTER_PORT : ${MASTER_PORT}\"\n",
    "''' + f'''\n",
    "srun python train.py {args}\n",
    "'''\n",
    "\n",
    "%store slurm >submit.sh\n",
    "\n",
    "!sbatch submit.sh"
   ]
  },
  {
   "cell_type": "code",
   "execution_count": 34,
   "metadata": {},
   "outputs": [
    {
     "name": "stderr",
     "output_type": "stream",
     "text": [
      "Warning: No xauth data; using fake authentication data for X11 forwarding.\n"
     ]
    }
   ],
   "source": [
    "from src.torch_helpers import start_tensorboard\n",
    "\n",
    "start_tensorboard(login_node=hparams['login_node'])"
   ]
  },
  {
   "cell_type": "code",
   "execution_count": 35,
   "metadata": {},
   "outputs": [],
   "source": [
    "from src.datamodule import MSDataModule\n",
    "from src.model import MSTransformer\n",
    "\n",
    "model = MSTransformer(**hparams)\n",
    "dm = MSDataModule(**dict(model.hparams))"
   ]
  },
  {
   "cell_type": "code",
   "execution_count": 36,
   "metadata": {
    "collapsed": true,
    "jupyter": {
     "outputs_hidden": true
    }
   },
   "outputs": [
    {
     "name": "stderr",
     "output_type": "stream",
     "text": [
      "Multiprocessing is handled by SLURM.\n",
      "GPU available: True, used: True\n",
      "TPU available: False, using: 0 TPU cores\n",
      "IPU available: False, using: 0 IPUs\n",
      "HPU available: False, using: 0 HPUs\n",
      "LOCAL_RANK: 0 - CUDA_VISIBLE_DEVICES: [GPU-4d627d3f-73b5-6ca6-a182-1561f2fd7b26]\n",
      "\n",
      "  | Name    | Type      | Params\n",
      "--------------------------------------\n",
      "0 | encoder | ByteNetLM | 603 K \n",
      "1 | decoder | MSDecoder | 52.2 K\n",
      "--------------------------------------\n",
      "655 K     Trainable params\n",
      "0         Non-trainable params\n",
      "655 K     Total params\n",
      "2.623     Total estimated model params size (MB)\n",
      "SLURM auto-requeueing enabled. Setting signal handlers.\n"
     ]
    },
    {
     "name": "stdout",
     "output_type": "stream",
     "text": [
      "Epoch 3:  10%|█         | 535/5234 [2:36:43<22:56:28, 17.58s/it, loss=2.85, v_num=1.79e+7]\n",
      "Epoch 3:  10%|█         | 535/5234 [2:36:44<22:56:37, 17.58s/it, loss=2.85, v_num=1.79e+7]"
     ]
    },
    {
     "name": "stderr",
     "output_type": "stream",
     "text": [
      "0it [37:28, ?it/s]in: <function _MultiProcessingDataLoaderIter.__del__ at 0x7fa2f85c9f70>\n"
     ]
    },
    {
     "name": "stdout",
     "output_type": "stream",
     "text": [
      "\n"
     ]
    },
    {
     "name": "stderr",
     "output_type": "stream",
     "text": [
      "\n",
      "Traceback (most recent call last):\n",
      "  File \"/home/gridsan/mmurphy/.conda/envs/MSPretraining/lib/python3.9/site-packages/torch/utils/data/dataloader.py\", line 1358, in __del__\n",
      "    self._shutdown_workers()\n",
      "  File \"/home/gridsan/mmurphy/.conda/envs/MSPretraining/lib/python3.9/site-packages/torch/utils/data/dataloader.py\", line 1341, in _shutdown_workers\n",
      "    if w.is_alive():\n",
      "  File \"/home/gridsan/mmurphy/.conda/envs/MSPretraining/lib/python3.9/multiprocessing/process.py\", line 160, in is_alive\n",
      "    assert self._parent_pid == os.getpid(), 'can only test a child process'\n",
      "AssertionError: can only test a child process\n",
      "Exception ignored in: <function _MultiProcessingDataLoaderIter.__del__ at 0x7fa2f85c9f70>\n",
      "Traceback (most recent call last):\n",
      "  File \"/home/gridsan/mmurphy/.conda/envs/MSPretraining/lib/python3.9/site-packages/torch/utils/data/dataloader.py\", line 1358, in __del__\n",
      "    self._shutdown_workers()\n",
      "  File \"/home/gridsan/mmurphy/.conda/envs/MSPretraining/lib/python3.9/site-packages/torch/utils/data/dataloader.py\", line 1341, in _shutdown_workers\n",
      "    if w.is_alive():\n",
      "  File \"/home/gridsan/mmurphy/.conda/envs/MSPretraining/lib/python3.9/multiprocessing/process.py\", line 160, in is_alive\n",
      "    assert self._parent_pid == os.getpid(), 'can only test a child process'\n",
      "AssertionError: can only test a child process\n",
      "0it [37:27, ?it/s]\n"
     ]
    },
    {
     "name": "stdout",
     "output_type": "stream",
     "text": [
      "Epoch 3:  10%|█         | 535/5234 [2:36:43<22:56:31, 17.58s/it, loss=2.85, v_num=1.79e+7]\n"
     ]
    },
    {
     "name": "stderr",
     "output_type": "stream",
     "text": [
      "Exception ignored in: <function _MultiProcessingDataLoaderIter.__del__ at 0x7fa2f85c9f70>\n",
      "Traceback (most recent call last):\n",
      "  File \"/home/gridsan/mmurphy/.conda/envs/MSPretraining/lib/python3.9/site-packages/torch/utils/data/dataloader.py\", line 1358, in __del__\n",
      "    self._shutdown_workers()\n",
      "  File \"/home/gridsan/mmurphy/.conda/envs/MSPretraining/lib/python3.9/site-packages/torch/utils/data/dataloader.py\", line 1341, in _shutdown_workers\n",
      "    if w.is_alive():\n",
      "  File \"/home/gridsan/mmurphy/.conda/envs/MSPretraining/lib/python3.9/multiprocessing/process.py\", line 160, in is_alive\n",
      "    assert self._parent_pid == os.getpid(), 'can only test a child process'\n",
      "AssertionError: can only test a child process\n",
      "Exception ignored in: <function _MultiProcessingDataLoaderIter.__del__ at 0x7fa2f85c9f70>\n",
      "Traceback (most recent call last):\n",
      "  File \"/home/gridsan/mmurphy/.conda/envs/MSPretraining/lib/python3.9/site-packages/torch/utils/data/dataloader.py\", line 1358, in __del__\n",
      "    self._shutdown_workers()\n",
      "  File \"/home/gridsan/mmurphy/.conda/envs/MSPretraining/lib/python3.9/site-packages/torch/utils/data/dataloader.py\", line 1341, in _shutdown_workers\n",
      "    if w.is_alive():\n",
      "  File \"/home/gridsan/mmurphy/.conda/envs/MSPretraining/lib/python3.9/multiprocessing/process.py\", line 160, in is_alive\n",
      "    assert self._parent_pid == os.getpid(), 'can only test a child process'\n",
      "AssertionError: can only test a child process\n",
      "0it [37:27, ?it/s]\n"
     ]
    },
    {
     "name": "stdout",
     "output_type": "stream",
     "text": [
      "Epoch 3:  10%|█         | 535/5234 [2:36:43<22:56:32, 17.58s/it, loss=2.85, v_num=1.79e+7]\n"
     ]
    },
    {
     "name": "stderr",
     "output_type": "stream",
     "text": [
      "Exception ignored in: <function _MultiProcessingDataLoaderIter.__del__ at 0x7fa2f85c9f70>\n",
      "Traceback (most recent call last):\n",
      "  File \"/home/gridsan/mmurphy/.conda/envs/MSPretraining/lib/python3.9/site-packages/torch/utils/data/dataloader.py\", line 1358, in __del__\n",
      "    self._shutdown_workers()\n",
      "  File \"/home/gridsan/mmurphy/.conda/envs/MSPretraining/lib/python3.9/site-packages/torch/utils/data/dataloader.py\", line 1341, in _shutdown_workers\n",
      "    if w.is_alive():\n",
      "  File \"/home/gridsan/mmurphy/.conda/envs/MSPretraining/lib/python3.9/multiprocessing/process.py\", line 160, in is_alive\n",
      "    assert self._parent_pid == os.getpid(), 'can only test a child process'\n",
      "AssertionError: can only test a child process\n",
      "Exception ignored in: <function _MultiProcessingDataLoaderIter.__del__ at 0x7fa2f85c9f70>\n",
      "Traceback (most recent call last):\n",
      "  File \"/home/gridsan/mmurphy/.conda/envs/MSPretraining/lib/python3.9/site-packages/torch/utils/data/dataloader.py\", line 1358, in __del__\n",
      "    self._shutdown_workers()\n",
      "  File \"/home/gridsan/mmurphy/.conda/envs/MSPretraining/lib/python3.9/site-packages/torch/utils/data/dataloader.py\", line 1341, in _shutdown_workers\n",
      "    if w.is_alive():\n",
      "  File \"/home/gridsan/mmurphy/.conda/envs/MSPretraining/lib/python3.9/multiprocessing/process.py\", line 160, in is_alive\n",
      "    assert self._parent_pid == os.getpid(), 'can only test a child process'\n",
      "AssertionError: can only test a child process\n",
      "0it [37:27, ?it/s]\n"
     ]
    },
    {
     "name": "stdout",
     "output_type": "stream",
     "text": [
      "Epoch 3:  10%|█         | 535/5234 [2:36:43<22:56:34, 17.58s/it, loss=2.85, v_num=1.79e+7]\n"
     ]
    },
    {
     "name": "stderr",
     "output_type": "stream",
     "text": [
      "Exception ignored in: <function _MultiProcessingDataLoaderIter.__del__ at 0x7fa2f85c9f70>\n",
      "Traceback (most recent call last):\n",
      "  File \"/home/gridsan/mmurphy/.conda/envs/MSPretraining/lib/python3.9/site-packages/torch/utils/data/dataloader.py\", line 1358, in __del__\n",
      "    self._shutdown_workers()\n",
      "  File \"/home/gridsan/mmurphy/.conda/envs/MSPretraining/lib/python3.9/site-packages/torch/utils/data/dataloader.py\", line 1341, in _shutdown_workers\n",
      "    if w.is_alive():\n",
      "  File \"/home/gridsan/mmurphy/.conda/envs/MSPretraining/lib/python3.9/multiprocessing/process.py\", line 160, in is_alive\n",
      "    assert self._parent_pid == os.getpid(), 'can only test a child process'\n",
      "AssertionError: can only test a child process\n",
      "Exception ignored in: <function _MultiProcessingDataLoaderIter.__del__ at 0x7fa2f85c9f70>\n",
      "Traceback (most recent call last):\n",
      "  File \"/home/gridsan/mmurphy/.conda/envs/MSPretraining/lib/python3.9/site-packages/torch/utils/data/dataloader.py\", line 1358, in __del__\n",
      "    self._shutdown_workers()\n",
      "  File \"/home/gridsan/mmurphy/.conda/envs/MSPretraining/lib/python3.9/site-packages/torch/utils/data/dataloader.py\", line 1341, in _shutdown_workers\n",
      "    if w.is_alive():\n",
      "  File \"/home/gridsan/mmurphy/.conda/envs/MSPretraining/lib/python3.9/multiprocessing/process.py\", line 160, in is_alive\n",
      "    assert self._parent_pid == os.getpid(), 'can only test a child process'\n",
      "AssertionError: can only test a child process\n",
      "0it [37:27, ?it/s]\n",
      "0it [37:27, ?it/s]\n"
     ]
    },
    {
     "name": "stdout",
     "output_type": "stream",
     "text": [
      "Epoch 3:  10%|█         | 535/5234 [2:36:43<22:56:35, 17.58s/it, loss=2.85, v_num=1.79e+7]\n"
     ]
    },
    {
     "name": "stderr",
     "output_type": "stream",
     "text": [
      "Exception ignored in: <function _MultiProcessingDataLoaderIter.__del__ at 0x7fa2f85c9f70>\n",
      "Traceback (most recent call last):\n",
      "  File \"/home/gridsan/mmurphy/.conda/envs/MSPretraining/lib/python3.9/site-packages/torch/utils/data/dataloader.py\", line 1358, in __del__\n",
      "    self._shutdown_workers()\n",
      "  File \"/home/gridsan/mmurphy/.conda/envs/MSPretraining/lib/python3.9/site-packages/torch/utils/data/dataloader.py\", line 1341, in _shutdown_workers\n",
      "    if w.is_alive():\n",
      "  File \"/home/gridsan/mmurphy/.conda/envs/MSPretraining/lib/python3.9/multiprocessing/process.py\", line 160, in is_alive\n",
      "    assert self._parent_pid == os.getpid(), 'can only test a child process'\n",
      "AssertionError: can only test a child process\n",
      "Exception ignored in: <function _MultiProcessingDataLoaderIter.__del__ at 0x7fa2f85c9f70>"
     ]
    },
    {
     "name": "stdout",
     "output_type": "stream",
     "text": [
      "Epoch 3:  10%|█         | 535/5234 [2:36:43<22:56:35, 17.58s/it, loss=2.85, v_num=1.79e+7]"
     ]
    },
    {
     "name": "stderr",
     "output_type": "stream",
     "text": [
      "\n"
     ]
    },
    {
     "name": "stdout",
     "output_type": "stream",
     "text": [
      "\n"
     ]
    },
    {
     "name": "stderr",
     "output_type": "stream",
     "text": [
      "Traceback (most recent call last):\n",
      "  File \"/home/gridsan/mmurphy/.conda/envs/MSPretraining/lib/python3.9/site-packages/torch/utils/data/dataloader.py\", line 1358, in __del__\n",
      "    self._shutdown_workers()\n",
      "  File \"/home/gridsan/mmurphy/.conda/envs/MSPretraining/lib/python3.9/site-packages/torch/utils/data/dataloader.py\", line 1341, in _shutdown_workers\n",
      "    Exception ignored in: if w.is_alive():<function _MultiProcessingDataLoaderIter.__del__ at 0x7fa2f85c9f70>\n",
      "  File \"/home/gridsan/mmurphy/.conda/envs/MSPretraining/lib/python3.9/multiprocessing/process.py\", line 160, in is_alive\n",
      "\n",
      "Traceback (most recent call last):\n",
      "      File \"/home/gridsan/mmurphy/.conda/envs/MSPretraining/lib/python3.9/site-packages/torch/utils/data/dataloader.py\", line 1358, in __del__\n",
      "assert self._parent_pid == os.getpid(), 'can only test a child process'  File \"/home/gridsan/mmurphy/.conda/envs/MSPretraining/lib/python3.9/site-packages/torch/utils/data/dataloader.py\", line 1341, in _shutdown_workers\n",
      "\n",
      "  File \"/home/gridsan/mmurphy/.conda/envs/MSPretraining/lib/python3.9/multiprocessing/process.py\", line 160, in is_alive\n",
      "AssertionErrorAssertionError: : can only test a child processcan only test a child process\n",
      "\n",
      "Exception ignored in: <function _MultiProcessingDataLoaderIter.__del__ at 0x7fa2f85c9f70>\n",
      "Traceback (most recent call last):\n",
      "  File \"/home/gridsan/mmurphy/.conda/envs/MSPretraining/lib/python3.9/site-packages/torch/utils/data/dataloader.py\", line 1358, in __del__\n",
      "  File \"/home/gridsan/mmurphy/.conda/envs/MSPretraining/lib/python3.9/site-packages/torch/utils/data/dataloader.py\", line 1341, in _shutdown_workers\n",
      "  File \"/home/gridsan/mmurphy/.conda/envs/MSPretraining/lib/python3.9/multiprocessing/process.py\", line 160, in is_alive\n",
      "AssertionError: can only test a child process\n",
      "0it [37:27, ?it/s]\n",
      "0it [37:27, ?it/s]\n"
     ]
    },
    {
     "name": "stdout",
     "output_type": "stream",
     "text": [
      "Epoch 3:  10%|█         | 535/5234 [2:36:44<22:56:37, 17.58s/it, loss=2.85, v_num=1.79e+7]\n"
     ]
    },
    {
     "name": "stderr",
     "output_type": "stream",
     "text": [
      "Exception ignored in: <function _MultiProcessingDataLoaderIter.__del__ at 0x7fa2f85c9f70>\n",
      "Traceback (most recent call last):\n",
      "  File \"/home/gridsan/mmurphy/.conda/envs/MSPretraining/lib/python3.9/site-packages/torch/utils/data/dataloader.py\", line 1358, in __del__\n",
      "    self._shutdown_workers()\n",
      "  File \"/home/gridsan/mmurphy/.conda/envs/MSPretraining/lib/python3.9/site-packages/torch/utils/data/dataloader.py\", line 1341, in _shutdown_workers\n"
     ]
    },
    {
     "name": "stdout",
     "output_type": "stream",
     "text": [
      "Epoch 3:  10%|█         | 535/5234 [2:36:44<22:56:37, 17.58s/it, loss=2.85, v_num=1.79e+7]"
     ]
    },
    {
     "name": "stderr",
     "output_type": "stream",
     "text": [
      "    "
     ]
    },
    {
     "name": "stdout",
     "output_type": "stream",
     "text": [
      "\n"
     ]
    },
    {
     "name": "stderr",
     "output_type": "stream",
     "text": [
      "if w.is_alive():\n",
      "  File \"/home/gridsan/mmurphy/.conda/envs/MSPretraining/lib/python3.9/multiprocessing/process.py\", line 160, in is_alive\n",
      "    assert self._parent_pid == os.getpid(), 'can only test a child process'\n",
      "AssertionError: can only test a child process\n",
      "Exception ignored in: <function _MultiProcessingDataLoaderIter.__del__ at 0x7fa2f85c9f70>\n",
      "Traceback (most recent call last):\n",
      "  File \"/home/gridsan/mmurphy/.conda/envs/MSPretraining/lib/python3.9/site-packages/torch/utils/data/dataloader.py\", line 1358, in __del__\n",
      "    self._shutdown_workers()\n",
      "  File \"/home/gridsan/mmurphy/.conda/envs/MSPretraining/lib/python3.9/site-packages/torch/utils/data/dataloader.py\", line 1341, in _shutdown_workers\n",
      "    Exception ignored in: if w.is_alive():<function _MultiProcessingDataLoaderIter.__del__ at 0x7fa2f85c9f70>\n",
      "\n",
      "  File \"/home/gridsan/mmurphy/.conda/envs/MSPretraining/lib/python3.9/multiprocessing/process.py\", line 160, in is_alive\n",
      "Traceback (most recent call last):\n",
      "  File \"/home/gridsan/mmurphy/.conda/envs/MSPretraining/lib/python3.9/site-packages/torch/utils/data/dataloader.py\", line 1358, in __del__\n",
      "    assert self._parent_pid == os.getpid(), 'can only test a child process'    \n",
      "self._shutdown_workers()\n",
      "AssertionError  File \"/home/gridsan/mmurphy/.conda/envs/MSPretraining/lib/python3.9/site-packages/torch/utils/data/dataloader.py\", line 1341, in _shutdown_workers\n",
      ": can only test a child process\n",
      "    if w.is_alive():\n",
      "  File \"/home/gridsan/mmurphy/.conda/envs/MSPretraining/lib/python3.9/multiprocessing/process.py\", line 160, in is_alive\n",
      "    assert self._parent_pid == os.getpid(), 'can only test a child process'\n",
      "AssertionError: can only test a child process\n",
      "Exception ignored in: <function _MultiProcessingDataLoaderIter.__del__ at 0x7fa2f85c9f70>\n",
      "Traceback (most recent call last):\n",
      "  File \"/home/gridsan/mmurphy/.conda/envs/MSPretraining/lib/python3.9/site-packages/torch/utils/data/dataloader.py\", line 1358, in __del__\n",
      "    self._shutdown_workers()\n",
      "  File \"/home/gridsan/mmurphy/.conda/envs/MSPretraining/lib/python3.9/site-packages/torch/utils/data/dataloader.py\", line 1341, in _shutdown_workers\n",
      "    if w.is_alive():\n",
      "  File \"/home/gridsan/mmurphy/.conda/envs/MSPretraining/lib/python3.9/multiprocessing/process.py\", line 160, in is_alive\n",
      "    assert self._parent_pid == os.getpid(), 'can only test a child process'\n",
      "AssertionError: can only test a child process\n",
      "0it [37:28, ?it/s]\n",
      "0it [37:28, ?it/s]\n"
     ]
    },
    {
     "name": "stdout",
     "output_type": "stream",
     "text": [
      "Epoch 3:  10%|█         | 535/5234 [2:36:44<22:56:39, 17.58s/it, loss=2.85, v_num=1.79e+7]\n"
     ]
    },
    {
     "name": "stderr",
     "output_type": "stream",
     "text": [
      "Exception ignored in: <function _MultiProcessingDataLoaderIter.__del__ at 0x7fa2f85c9f70>\n",
      "Traceback (most recent call last):\n",
      "  File \"/home/gridsan/mmurphy/.conda/envs/MSPretraining/lib/python3.9/site-packages/torch/utils/data/dataloader.py\", line 1358, in __del__\n",
      "    self._shutdown_workers()\n",
      "  File \"/home/gridsan/mmurphy/.conda/envs/MSPretraining/lib/python3.9/site-packages/torch/utils/data/dataloader.py\", line 1341, in _shutdown_workers\n",
      "    if w.is_alive():\n",
      "  File \"/home/gridsan/mmurphy/.conda/envs/MSPretraining/lib/python3.9/multiprocessing/process.py\", line 160, in is_alive\n",
      "    assert self._parent_pid == os.getpid(), 'can only test a child process'\n",
      "AssertionError: can only test a child process\n",
      "Exception ignored in: <function _MultiProcessingDataLoaderIter.__del__ at 0x7fa2f85c9f70>\n",
      "Traceback (most recent call last):\n",
      "  File \"/home/gridsan/mmurphy/.conda/envs/MSPretraining/lib/python3.9/site-packages/torch/utils/data/dataloader.py\", line 1358, in __del__\n",
      "    self._shutdown_workers()\n",
      "  File \"/home/gridsan/mmurphy/.conda/envs/MSPretraining/lib/python3.9/site-packages/torch/utils/data/dataloader.py\", line 1341, in _shutdown_workers\n",
      "    if w.is_alive():\n",
      "  File \"/home/gridsan/mmurphy/.conda/envs/MSPretraining/lib/python3.9/multiprocessing/process.py\", line 160, in is_alive\n",
      "    assert self._parent_pid == os.getpid(), 'can only test a child process'\n",
      "AssertionError: can only test a child process\n",
      "0it [37:28, ?it/s]\n",
      "0it [37:28, ?it/s]\n"
     ]
    },
    {
     "name": "stdout",
     "output_type": "stream",
     "text": [
      "Epoch 3:  10%|█         | 535/5234 [2:36:44<22:56:43, 17.58s/it, loss=2.85, v_num=1.79e+7]\n",
      "Epoch 3:  10%|█         | 535/5234 [2:36:44<22:56:43, 17.58s/it, loss=2.85, v_num=1.79e+7]\n"
     ]
    },
    {
     "name": "stderr",
     "output_type": "stream",
     "text": [
      "Exception ignored in: <function _MultiProcessingDataLoaderIter.__del__ at 0x7fa2f85c9f70>\n",
      "Exception ignored in: Traceback (most recent call last):\n",
      "<function _MultiProcessingDataLoaderIter.__del__ at 0x7fa2f85c9f70>  File \"/home/gridsan/mmurphy/.conda/envs/MSPretraining/lib/python3.9/site-packages/torch/utils/data/dataloader.py\", line 1358, in __del__\n",
      "\n",
      "  File \"/home/gridsan/mmurphy/.conda/envs/MSPretraining/lib/python3.9/site-packages/torch/utils/data/dataloader.py\", line 1341, in _shutdown_workers\n",
      "Traceback (most recent call last):\n",
      "  File \"/home/gridsan/mmurphy/.conda/envs/MSPretraining/lib/python3.9/multiprocessing/process.py\", line 160, in is_alive\n",
      "  File \"/home/gridsan/mmurphy/.conda/envs/MSPretraining/lib/python3.9/site-packages/torch/utils/data/dataloader.py\", line 1358, in __del__\n",
      "AssertionError: can only test a child process    \n",
      "self._shutdown_workers()\n",
      "  File \"/home/gridsan/mmurphy/.conda/envs/MSPretraining/lib/python3.9/site-packages/torch/utils/data/dataloader.py\", line 1341, in _shutdown_workers\n",
      "    if w.is_alive():\n",
      "  File \"/home/gridsan/mmurphy/.conda/envs/MSPretraining/lib/python3.9/multiprocessing/process.py\", line 160, in is_alive\n",
      "    assert self._parent_pid == os.getpid(), 'can only test a child process'\n",
      "AssertionError: can only test a child processException ignored in: \n"
     ]
    },
    {
     "name": "stdout",
     "output_type": "stream",
     "text": [
      "Epoch 3:  10%|█         | 535/5234 [2:36:44<22:56:43, 17.58s/it, loss=2.85, v_num=1.79e+7]"
     ]
    },
    {
     "name": "stderr",
     "output_type": "stream",
     "text": [
      "<function _MultiProcessingDataLoaderIter.__del__ at 0x7fa2f85c9f70>"
     ]
    },
    {
     "name": "stdout",
     "output_type": "stream",
     "text": [
      "\n"
     ]
    },
    {
     "name": "stderr",
     "output_type": "stream",
     "text": [
      "\n",
      "Traceback (most recent call last):\n"
     ]
    },
    {
     "name": "stdout",
     "output_type": "stream",
     "text": [
      "Epoch 3:  10%|█         | 535/5234 [2:36:44<22:56:43, 17.58s/it, loss=2.85, v_num=1.79e+7]"
     ]
    },
    {
     "name": "stderr",
     "output_type": "stream",
     "text": [
      "  File \"/home/gridsan/mmurphy/.conda/envs/MSPretraining/lib/python3.9/site-packages/torch/utils/data/dataloader.py\", line 1358, in __del__\n"
     ]
    },
    {
     "name": "stdout",
     "output_type": "stream",
     "text": [
      "\n"
     ]
    },
    {
     "name": "stderr",
     "output_type": "stream",
     "text": [
      "  File \"/home/gridsan/mmurphy/.conda/envs/MSPretraining/lib/python3.9/site-packages/torch/utils/data/dataloader.py\", line 1341, in _shutdown_workers\n",
      "  File \"/home/gridsan/mmurphy/.conda/envs/MSPretraining/lib/python3.9/multiprocessing/process.py\", line 160, in is_alive\n",
      "AssertionError: can only test a child process\n",
      "Exception ignored in: <function _MultiProcessingDataLoaderIter.__del__ at 0x7fa2f85c9f70>\n",
      "Traceback (most recent call last):\n",
      "Exception ignored in: Exception ignored in:   File \"/home/gridsan/mmurphy/.conda/envs/MSPretraining/lib/python3.9/site-packages/torch/utils/data/dataloader.py\", line 1358, in __del__\n",
      "<function _MultiProcessingDataLoaderIter.__del__ at 0x7fa2f85c9f70>\n",
      "Traceback (most recent call last):\n",
      "<function _MultiProcessingDataLoaderIter.__del__ at 0x7fa2f85c9f70>  File \"/home/gridsan/mmurphy/.conda/envs/MSPretraining/lib/python3.9/site-packages/torch/utils/data/dataloader.py\", line 1358, in __del__\n",
      "\n",
      "    Traceback (most recent call last):\n",
      "self._shutdown_workers()\n",
      "  File \"/home/gridsan/mmurphy/.conda/envs/MSPretraining/lib/python3.9/site-packages/torch/utils/data/dataloader.py\", line 1358, in __del__\n",
      "  File \"/home/gridsan/mmurphy/.conda/envs/MSPretraining/lib/python3.9/site-packages/torch/utils/data/dataloader.py\", line 1341, in _shutdown_workers\n",
      "        if w.is_alive():    self._shutdown_workers()\n",
      "self._shutdown_workers()\n",
      "  File \"/home/gridsan/mmurphy/.conda/envs/MSPretraining/lib/python3.9/multiprocessing/process.py\", line 160, in is_alive\n",
      "\n",
      "  File \"/home/gridsan/mmurphy/.conda/envs/MSPretraining/lib/python3.9/site-packages/torch/utils/data/dataloader.py\", line 1341, in _shutdown_workers\n",
      "  File \"/home/gridsan/mmurphy/.conda/envs/MSPretraining/lib/python3.9/site-packages/torch/utils/data/dataloader.py\", line 1341, in _shutdown_workers\n",
      "    assert self._parent_pid == os.getpid(), 'can only test a child process'        \n",
      "if w.is_alive():if w.is_alive():AssertionError: \n",
      "can only test a child process  File \"/home/gridsan/mmurphy/.conda/envs/MSPretraining/lib/python3.9/multiprocessing/process.py\", line 160, in is_alive\n",
      "\n",
      "\n",
      "      File \"/home/gridsan/mmurphy/.conda/envs/MSPretraining/lib/python3.9/multiprocessing/process.py\", line 160, in is_alive\n",
      "assert self._parent_pid == os.getpid(), 'can only test a child process'\n",
      "    AssertionErrorassert self._parent_pid == os.getpid(), 'can only test a child process': \n",
      "can only test a child processAssertionError\n",
      ": can only test a child process\n",
      "Exception ignored in: <function _MultiProcessingDataLoaderIter.__del__ at 0x7fa2f85c9f70>\n",
      "Exception ignored in: Traceback (most recent call last):\n",
      "<function _MultiProcessingDataLoaderIter.__del__ at 0x7fa2f85c9f70>  File \"/home/gridsan/mmurphy/.conda/envs/MSPretraining/lib/python3.9/site-packages/torch/utils/data/dataloader.py\", line 1358, in __del__\n",
      "\n",
      "Traceback (most recent call last):\n",
      "  File \"/home/gridsan/mmurphy/.conda/envs/MSPretraining/lib/python3.9/site-packages/torch/utils/data/dataloader.py\", line 1358, in __del__\n",
      "    self._shutdown_workers()\n",
      "      File \"/home/gridsan/mmurphy/.conda/envs/MSPretraining/lib/python3.9/site-packages/torch/utils/data/dataloader.py\", line 1341, in _shutdown_workers\n",
      "self._shutdown_workers()\n",
      "    if w.is_alive():\n",
      "  File \"/home/gridsan/mmurphy/.conda/envs/MSPretraining/lib/python3.9/site-packages/torch/utils/data/dataloader.py\", line 1341, in _shutdown_workers\n",
      "  File \"/home/gridsan/mmurphy/.conda/envs/MSPretraining/lib/python3.9/multiprocessing/process.py\", line 160, in is_alive\n",
      "        assert self._parent_pid == os.getpid(), 'can only test a child process'if w.is_alive():\n",
      "\n",
      "AssertionError  File \"/home/gridsan/mmurphy/.conda/envs/MSPretraining/lib/python3.9/multiprocessing/process.py\", line 160, in is_alive\n",
      ": can only test a child process\n",
      "    assert self._parent_pid == os.getpid(), 'can only test a child process'\n",
      "AssertionError: can only test a child process\n"
     ]
    },
    {
     "name": "stdout",
     "output_type": "stream",
     "text": [
      "Epoch 3:  10%|█         | 535/5234 [2:36:44<22:56:44, 17.58s/it, loss=2.85, v_num=1.79e+7]\n"
     ]
    },
    {
     "name": "stderr",
     "output_type": "stream",
     "text": [
      "0it [37:28, ?it/s]Exception ignored in: \n",
      "<function _MultiProcessingDataLoaderIter.__del__ at 0x7fa2f85c9f70>\n",
      "Traceback (most recent call last):\n",
      "  File \"/home/gridsan/mmurphy/.conda/envs/MSPretraining/lib/python3.9/site-packages/torch/utils/data/dataloader.py\", line 1358, in __del__\n",
      "    self._shutdown_workers()\n",
      "  File \"/home/gridsan/mmurphy/.conda/envs/MSPretraining/lib/python3.9/site-packages/torch/utils/data/dataloader.py\", line 1341, in _shutdown_workers\n",
      "    if w.is_alive():\n",
      "  File \"/home/gridsan/mmurphy/.conda/envs/MSPretraining/lib/python3.9/multiprocessing/process.py\", line 160, in is_alive\n",
      "    assert self._parent_pid == os.getpid(), 'can only test a child process'\n",
      "AssertionError: can only test a child process\n",
      "0it [37:28, ?it/s]\n",
      "Exception ignored in: <function _MultiProcessingDataLoaderIter.__del__ at 0x7fa2f85c9f70>\n",
      "Traceback (most recent call last):\n",
      "  File \"/home/gridsan/mmurphy/.conda/envs/MSPretraining/lib/python3.9/site-packages/torch/utils/data/dataloader.py\", line 1358, in __del__\n",
      "    self._shutdown_workers()"
     ]
    },
    {
     "name": "stdout",
     "output_type": "stream",
     "text": [
      "Epoch 3:  10%|█         | 535/5234 [2:36:44<22:56:44, 17.58s/it, loss=2.85, v_num=1.79e+7]"
     ]
    },
    {
     "name": "stderr",
     "output_type": "stream",
     "text": [
      "\n"
     ]
    },
    {
     "name": "stdout",
     "output_type": "stream",
     "text": [
      "\n"
     ]
    },
    {
     "name": "stderr",
     "output_type": "stream",
     "text": [
      "  File \"/home/gridsan/mmurphy/.conda/envs/MSPretraining/lib/python3.9/site-packages/torch/utils/data/dataloader.py\", line 1341, in _shutdown_workers\n",
      "    if w.is_alive():\n",
      "  File \"/home/gridsan/mmurphy/.conda/envs/MSPretraining/lib/python3.9/multiprocessing/process.py\", line 160, in is_alive\n",
      "    assert self._parent_pid == os.getpid(), 'can only test a child process'Exception ignored in: \n",
      "<function _MultiProcessingDataLoaderIter.__del__ at 0x7fa2f85c9f70>AssertionError\n",
      ": Traceback (most recent call last):\n",
      "can only test a child process  File \"/home/gridsan/mmurphy/.conda/envs/MSPretraining/lib/python3.9/site-packages/torch/utils/data/dataloader.py\", line 1358, in __del__\n",
      "\n",
      "    self._shutdown_workers()\n",
      "  File \"/home/gridsan/mmurphy/.conda/envs/MSPretraining/lib/python3.9/site-packages/torch/utils/data/dataloader.py\", line 1341, in _shutdown_workers\n",
      "    if w.is_alive():\n",
      "  File \"/home/gridsan/mmurphy/.conda/envs/MSPretraining/lib/python3.9/multiprocessing/process.py\", line 160, in is_alive\n",
      "    assert self._parent_pid == os.getpid(), 'can only test a child process'\n",
      "0it [37:28, ?it/s]: can only test a child process\n",
      "\n",
      "0it [37:28, ?it/s]\n",
      "Exception ignored in: <function _MultiProcessingDataLoaderIter.__del__ at 0x7fa2f85c9f70>\n",
      "Traceback (most recent call last):\n",
      "  File \"/home/gridsan/mmurphy/.conda/envs/MSPretraining/lib/python3.9/site-packages/torch/utils/data/dataloader.py\", line 1358, in __del__\n",
      "    self._shutdown_workers()\n",
      "  File \"/home/gridsan/mmurphy/.conda/envs/MSPretraining/lib/python3.9/site-packages/torch/utils/data/dataloader.py\", line 1341, in _shutdown_workers\n",
      "    if w.is_alive():\n",
      "  File \"/home/gridsan/mmurphy/.conda/envs/MSPretraining/lib/python3.9/multiprocessing/process.py\", line 160, in is_alive\n",
      "    assert self._parent_pid == os.getpid(), 'can only test a child process'\n",
      "AssertionError: can only test a child process\n",
      "0it [37:28, ?it/s]\n",
      "0it [37:28, ?it/s]\n"
     ]
    },
    {
     "name": "stdout",
     "output_type": "stream",
     "text": [
      "Epoch 3:  10%|█         | 535/5234 [2:36:45<22:56:48, 17.58s/it, loss=2.85, v_num=1.79e+7]\n"
     ]
    },
    {
     "name": "stderr",
     "output_type": "stream",
     "text": [
      "Exception ignored in: <function _MultiProcessingDataLoaderIter.__del__ at 0x7fa2f85c9f70>\n",
      "Traceback (most recent call last):\n",
      "  File \"/home/gridsan/mmurphy/.conda/envs/MSPretraining/lib/python3.9/site-packages/torch/utils/data/dataloader.py\", line 1358, in __del__\n",
      "    : self._shutdown_workers()\n",
      "  File \"/home/gridsan/mmurphy/.conda/envs/MSPretraining/lib/python3.9/site-packages/torch/utils/data/dataloader.py\", line 1341, in _shutdown_workers\n",
      "    if w.is_alive():\n",
      "  File \"/home/gridsan/mmurphy/.conda/envs/MSPretraining/lib/python3.9/multiprocessing/process.py\", line 160, in is_alive\n",
      "    assert self._parent_pid == os.getpid(), 'can only test a child process'\n",
      "AssertionErrorcan only test a child process\n",
      "Exception ignored in: <function _MultiProcessingDataLoaderIter.__del__ at 0x7fa2f85c9f70>\n",
      "Traceback (most recent call last):\n",
      "  File \"/home/gridsan/mmurphy/.conda/envs/MSPretraining/lib/python3.9/site-packages/torch/utils/data/dataloader.py\", line 1358, in __del__\n",
      "    self._shutdown_workers()\n",
      "  File \"/home/gridsan/mmurphy/.conda/envs/MSPretraining/lib/python3.9/site-packages/torch/utils/data/dataloader.py\", line 1341, in _shutdown_workers\n",
      "    if w.is_alive():\n",
      "  File \"/home/gridsan/mmurphy/.conda/envs/MSPretraining/lib/python3.9/multiprocessing/process.py\", line 160, in is_alive\n",
      "    assert self._parent_pid == os.getpid(), 'can only test a child process'\n",
      "AssertionError: can only test a child process\n"
     ]
    },
    {
     "name": "stdout",
     "output_type": "stream",
     "text": [
      "Epoch 3:  10%|█         | 535/5234 [2:36:45<22:56:48, 17.58s/it, loss=2.85, v_num=1.79e+7]\n"
     ]
    },
    {
     "name": "stderr",
     "output_type": "stream",
     "text": [
      "Exception ignored in: <function _MultiProcessingDataLoaderIter.__del__ at 0x7fa2f85c9f70>\n",
      "Traceback (most recent call last):\n",
      "  File \"/home/gridsan/mmurphy/.conda/envs/MSPretraining/lib/python3.9/site-packages/torch/utils/data/dataloader.py\", line 1358, in __del__\n",
      "    self._shutdown_workers()\n",
      "  File \"/home/gridsan/mmurphy/.conda/envs/MSPretraining/lib/python3.9/site-packages/torch/utils/data/dataloader.py\", line 1341, in _shutdown_workers\n",
      "    if w.is_alive():\n",
      "  File \"/home/gridsan/mmurphy/.conda/envs/MSPretraining/lib/python3.9/multiprocessing/process.py\", line 160, in is_alive\n",
      "0it [37:29, ?it/s]arent_pid == os.getpid(), 'can only test a child process'\n",
      "\n",
      "AssertionError: can only test a child process\n",
      "Exception ignored in: <function _MultiProcessingDataLoaderIter.__del__ at 0x7fa2f85c9f70>\n",
      "Traceback (most recent call last):\n",
      "  File \"/home/gridsan/mmurphy/.conda/envs/MSPretraining/lib/python3.9/site-packages/torch/utils/data/dataloader.py\", line 1358, in __del__\n",
      "    self._shutdown_workers()\n",
      "  File \"/home/gridsan/mmurphy/.conda/envs/MSPretraining/lib/python3.9/site-packages/torch/utils/data/dataloader.py\", line 1341, in _shutdown_workers\n",
      "    if w.is_alive():\n",
      "  File \"/home/gridsan/mmurphy/.conda/envs/MSPretraining/lib/python3.9/multiprocessing/process.py\", line 160, in is_alive\n",
      "    assert self._parent_pid == os.getpid(), 'can only test a child process'\n",
      "AssertionError: can only test a child process\n",
      "0it [37:29, ?it/s]\n"
     ]
    },
    {
     "name": "stdout",
     "output_type": "stream",
     "text": [
      "Epoch 3:  10%|█         | 535/5234 [2:36:46<22:56:55, 17.58s/it, loss=2.85, v_num=1.79e+7]\n"
     ]
    },
    {
     "name": "stderr",
     "output_type": "stream",
     "text": [
      "Exception ignored in: <function _MultiProcessingDataLoaderIter.__del__ at 0x7fa2f85c9f70>\n",
      "Traceback (most recent call last):\n",
      "  File \"/home/gridsan/mmurphy/.conda/envs/MSPretraining/lib/python3.9/site-packages/torch/utils/data/dataloader.py\", line 1358, in __del__\n",
      "    self._shutdown_workers()\n",
      "  File \"/home/gridsan/mmurphy/.conda/envs/MSPretraining/lib/python3.9/site-packages/torch/utils/data/dataloader.py\", line 1341, in _shutdown_workers\n",
      "    if w.is_alive():\n",
      "  File \"/home/gridsan/mmurphy/.conda/envs/MSPretraining/lib/python3.9/multiprocessing/process.py\", line 160, in is_alive\n",
      "    assert self._parent_pid == os.getpid(), 'can only test a child process'\n",
      "AssertionError: can only test a child process\n",
      "Exception ignored in: <function _MultiProcessingDataLoaderIter.__del__ at 0x7fa2f85c9f70>\n",
      "Traceback (most recent call last):\n",
      "  File \"/home/gridsan/mmurphy/.conda/envs/MSPretraining/lib/python3.9/site-packages/torch/utils/data/dataloader.py\", line 1358, in __del__\n",
      "    self._shutdown_workers()\n",
      "  File \"/home/gridsan/mmurphy/.conda/envs/MSPretraining/lib/python3.9/site-packages/torch/utils/data/dataloader.py\", line 1341, in _shutdown_workers\n",
      "    if w.is_alive():\n",
      "  File \"/home/gridsan/mmurphy/.conda/envs/MSPretraining/lib/python3.9/multiprocessing/process.py\", line 160, in is_alive\n",
      "    assert self._parent_pid == os.getpid(), 'can only test a child process'\n",
      "AssertionError: can only test a child process\n",
      "0it [37:30, ?it/s]\n"
     ]
    },
    {
     "name": "stdout",
     "output_type": "stream",
     "text": [
      "Epoch 3:  10%|█         | 535/5234 [2:36:46<22:56:55, 17.58s/it, loss=2.85, v_num=1.79e+7]\n"
     ]
    },
    {
     "name": "stderr",
     "output_type": "stream",
     "text": [
      "Exception ignored in: <function _MultiProcessingDataLoaderIter.__del__ at 0x7fa2f85c9f70>\n",
      "Traceback (most recent call last):\n",
      "  File \"/home/gridsan/mmurphy/.conda/envs/MSPretraining/lib/python3.9/site-packages/torch/utils/data/dataloader.py\", line 1358, in __del__\n",
      "    self._shutdown_workers()\n",
      "  File \"/home/gridsan/mmurphy/.conda/envs/MSPretraining/lib/python3.9/site-packages/torch/utils/data/dataloader.py\", line 1341, in _shutdown_workers\n",
      "    if w.is_alive():\n",
      "  File \"/home/gridsan/mmurphy/.conda/envs/MSPretraining/lib/python3.9/multiprocessing/process.py\", line 160, in is_alive\n",
      "    assert self._parent_pid == os.getpid(), 'can only test a child process'\n",
      "AssertionError: can only test a child process\n",
      "Exception ignored in: <function _MultiProcessingDataLoaderIter.__del__ at 0x7fa2f85c9f70>\n",
      "Traceback (most recent call last):\n",
      "  File \"/home/gridsan/mmurphy/.conda/envs/MSPretraining/lib/python3.9/site-packages/torch/utils/data/dataloader.py\", line 1358, in __del__\n",
      "    self._shutdown_workers()  File \"/home/gridsan/mmurphy/.conda/envs/MSPretraining/lib/python3.9/site-packages/torch/utils/data/dataloader.py\", line 1341, in _shutdown_workers\n",
      "\n",
      "    if w.is_alive():\n",
      "  File \"/home/gridsan/mmurphy/.conda/envs/MSPretraining/lib/python3.9/multiprocessing/process.py\", line 160, in is_alive\n",
      "    assert self._parent_pid == os.getpid(), 'can only test a child process'\n",
      "AssertionError: can only test a child process\n",
      "0it [37:30, ?it/s]\n"
     ]
    },
    {
     "name": "stdout",
     "output_type": "stream",
     "text": [
      "Epoch 3:  10%|█         | 535/5234 [2:36:46<22:56:59, 17.58s/it, loss=2.85, v_num=1.79e+7]\n"
     ]
    },
    {
     "name": "stderr",
     "output_type": "stream",
     "text": [
      "Exception ignored in: <function _MultiProcessingDataLoaderIter.__del__ at 0x7fa2f85c9f70>\n",
      "Traceback (most recent call last):\n",
      "  File \"/home/gridsan/mmurphy/.conda/envs/MSPretraining/lib/python3.9/site-packages/torch/utils/data/dataloader.py\", line 1358, in __del__\n",
      "    self._shutdown_workers()\n",
      "  File \"/home/gridsan/mmurphy/.conda/envs/MSPretraining/lib/python3.9/site-packages/torch/utils/data/dataloader.py\", line 1341, in _shutdown_workers\n",
      "    if w.is_alive():\n",
      "  File \"/home/gridsan/mmurphy/.conda/envs/MSPretraining/lib/python3.9/multiprocessing/process.py\", line 160, in is_alive\n",
      "    assert self._parent_pid == os.getpid(), 'can only test a child process'\n",
      "AssertionError: can only test a child process\n",
      "Exception ignored in: <function _MultiProcessingDataLoaderIter.__del__ at 0x7fa2f85c9f70>\n",
      "Traceback (most recent call last):\n",
      "  File \"/home/gridsan/mmurphy/.conda/envs/MSPretraining/lib/python3.9/site-packages/torch/utils/data/dataloader.py\", line 1358, in __del__\n",
      "    self._shutdown_workers()\n",
      "  File \"/home/gridsan/mmurphy/.conda/envs/MSPretraining/lib/python3.9/site-packages/torch/utils/data/dataloader.py\", line 1341, in _shutdown_workers\n",
      "    if w.is_alive():\n",
      "  File \"/home/gridsan/mmurphy/.conda/envs/MSPretraining/lib/python3.9/multiprocessing/process.py\", line 160, in is_alive\n",
      "    assert self._parent_pid == os.getpid(), 'can only test a child process'\n",
      "AssertionError: can only test a child process\n",
      "0it [37:30, ?it/s]\n"
     ]
    },
    {
     "name": "stdout",
     "output_type": "stream",
     "text": [
      "Epoch 0:  89%|████████▉ | 4657/5234 [34:55<04:19,  2.22it/s, loss=2.85, v_num=1.79e+7]\n",
      "Validation: 0it [00:00, ?it/s]\u001b[A"
     ]
    },
    {
     "name": "stderr",
     "output_type": "stream",
     "text": [
      "0it [1:12:04, ?it/s]\n",
      "0it [1:12:04, ?it/s]\n",
      "0it [1:12:04, ?it/s]\n",
      "0it [1:12:04, ?it/s]\n",
      "0it [1:12:04, ?it/s]\n",
      "0it [1:12:04, ?it/s]\n",
      "0it [1:12:04, ?it/s]\n",
      "0it [1:12:04, ?it/s]\n",
      "0it [1:12:04, ?it/s]\n",
      "0it [1:12:04, ?it/s]\n",
      "0it [1:12:04, ?it/s]\n",
      "0it [1:12:04, ?it/s]\n",
      "0it [1:12:04, ?it/s]\n",
      "0it [1:12:04, ?it/s]\n",
      "0it [1:12:04, ?it/s]\n",
      "0it [1:12:05, ?it/s]\n",
      "0it [1:12:05, ?it/s]\n",
      "0it [1:12:05, ?it/s]\n"
     ]
    },
    {
     "name": "stdout",
     "output_type": "stream",
     "text": [
      "\n",
      "Validation DataLoader 0:   0%|          | 0/577 [00:09<?, ?it/s]\u001b[A\n",
      "Epoch 0:  89%|████████▉ | 4658/5234 [35:04<04:20,  2.21it/s, loss=2.85, v_num=1.79e+7]\n",
      "Epoch 0:  89%|████████▉ | 4659/5234 [35:05<04:19,  2.21it/s, loss=2.85, v_num=1.79e+7]\n",
      "Epoch 0:  89%|████████▉ | 4660/5234 [35:05<04:19,  2.21it/s, loss=2.85, v_num=1.79e+7]\n",
      "Epoch 0:  89%|████████▉ | 4661/5234 [35:05<04:18,  2.21it/s, loss=2.85, v_num=1.79e+7]\n",
      "Epoch 0:  89%|████████▉ | 4662/5234 [35:06<04:18,  2.21it/s, loss=2.85, v_num=1.79e+7]\n",
      "Epoch 0:  89%|████████▉ | 4663/5234 [35:06<04:17,  2.21it/s, loss=2.85, v_num=1.79e+7]\n",
      "Epoch 0:  89%|████████▉ | 4664/5234 [35:06<04:17,  2.21it/s, loss=2.85, v_num=1.79e+7]\n",
      "Epoch 0:  89%|████████▉ | 4665/5234 [35:06<04:16,  2.21it/s, loss=2.85, v_num=1.79e+7]\n",
      "Epoch 0:  89%|████████▉ | 4666/5234 [35:07<04:16,  2.21it/s, loss=2.85, v_num=1.79e+7]\n",
      "Epoch 0:  89%|████████▉ | 4667/5234 [35:07<04:16,  2.21it/s, loss=2.85, v_num=1.79e+7]\n",
      "Epoch 0:  89%|████████▉ | 4668/5234 [35:07<04:15,  2.21it/s, loss=2.85, v_num=1.79e+7]\n",
      "Epoch 0:  89%|████████▉ | 4669/5234 [35:07<04:15,  2.22it/s, loss=2.85, v_num=1.79e+7]\n",
      "Epoch 0:  89%|████████▉ | 4670/5234 [35:08<04:14,  2.22it/s, loss=2.85, v_num=1.79e+7]\n",
      "Epoch 0:  89%|████████▉ | 4671/5234 [35:08<04:14,  2.22it/s, loss=2.85, v_num=1.79e+7]\n",
      "Epoch 0:  89%|████████▉ | 4672/5234 [35:08<04:13,  2.22it/s, loss=2.85, v_num=1.79e+7]\n",
      "Epoch 0:  89%|████████▉ | 4673/5234 [35:08<04:13,  2.22it/s, loss=2.85, v_num=1.79e+7]\n",
      "Epoch 0:  89%|████████▉ | 4674/5234 [35:09<04:12,  2.22it/s, loss=2.85, v_num=1.79e+7]\n",
      "Epoch 0:  89%|████████▉ | 4675/5234 [35:09<04:12,  2.22it/s, loss=2.85, v_num=1.79e+7]\n",
      "Epoch 0:  89%|████████▉ | 4676/5234 [35:09<04:11,  2.22it/s, loss=2.85, v_num=1.79e+7]\n",
      "Epoch 0:  89%|████████▉ | 4677/5234 [35:09<04:11,  2.22it/s, loss=2.85, v_num=1.79e+7]\n",
      "Epoch 0:  89%|████████▉ | 4678/5234 [35:11<04:10,  2.22it/s, loss=2.85, v_num=1.79e+7]\n",
      "Epoch 0:  89%|████████▉ | 4679/5234 [35:13<04:10,  2.21it/s, loss=2.85, v_num=1.79e+7]\n",
      "Epoch 0:  89%|████████▉ | 4680/5234 [35:13<04:10,  2.21it/s, loss=2.85, v_num=1.79e+7]\n",
      "Epoch 0:  89%|████████▉ | 4681/5234 [35:13<04:09,  2.21it/s, loss=2.85, v_num=1.79e+7]\n",
      "Epoch 0:  89%|████████▉ | 4682/5234 [35:13<04:09,  2.21it/s, loss=2.85, v_num=1.79e+7]\n",
      "Epoch 0:  89%|████████▉ | 4683/5234 [35:14<04:08,  2.21it/s, loss=2.85, v_num=1.79e+7]\n",
      "Epoch 0:  89%|████████▉ | 4684/5234 [35:14<04:08,  2.22it/s, loss=2.85, v_num=1.79e+7]\n",
      "Epoch 0:  90%|████████▉ | 4685/5234 [35:14<04:07,  2.22it/s, loss=2.85, v_num=1.79e+7]\n",
      "Epoch 0:  90%|████████▉ | 4686/5234 [35:14<04:07,  2.22it/s, loss=2.85, v_num=1.79e+7]\n",
      "Epoch 0:  90%|████████▉ | 4687/5234 [35:15<04:06,  2.22it/s, loss=2.85, v_num=1.79e+7]\n",
      "Epoch 0:  90%|████████▉ | 4688/5234 [35:15<04:06,  2.22it/s, loss=2.85, v_num=1.79e+7]\n",
      "Epoch 0:  90%|████████▉ | 4689/5234 [35:15<04:05,  2.22it/s, loss=2.85, v_num=1.79e+7]\n",
      "Epoch 0:  90%|████████▉ | 4690/5234 [35:15<04:05,  2.22it/s, loss=2.85, v_num=1.79e+7]\n",
      "Epoch 0:  90%|████████▉ | 4691/5234 [35:16<04:04,  2.22it/s, loss=2.85, v_num=1.79e+7]\n",
      "Epoch 0:  90%|████████▉ | 4692/5234 [35:16<04:04,  2.22it/s, loss=2.85, v_num=1.79e+7]\n",
      "Epoch 0:  90%|████████▉ | 4693/5234 [35:16<04:03,  2.22it/s, loss=2.85, v_num=1.79e+7]\n",
      "Epoch 0:  90%|████████▉ | 4694/5234 [35:16<04:03,  2.22it/s, loss=2.85, v_num=1.79e+7]\n",
      "Epoch 0:  90%|████████▉ | 4695/5234 [35:17<04:03,  2.22it/s, loss=2.85, v_num=1.79e+7]\n",
      "Epoch 0:  90%|████████▉ | 4696/5234 [35:17<04:02,  2.22it/s, loss=2.85, v_num=1.79e+7]\n",
      "Epoch 0:  90%|████████▉ | 4697/5234 [35:17<04:02,  2.22it/s, loss=2.85, v_num=1.79e+7]\n",
      "Epoch 0:  90%|████████▉ | 4698/5234 [35:18<04:01,  2.22it/s, loss=2.85, v_num=1.79e+7]\n",
      "Epoch 0:  90%|████████▉ | 4699/5234 [35:20<04:01,  2.22it/s, loss=2.85, v_num=1.79e+7]\n",
      "Epoch 0:  90%|████████▉ | 4700/5234 [35:21<04:01,  2.22it/s, loss=2.85, v_num=1.79e+7]\n",
      "Epoch 0:  90%|████████▉ | 4701/5234 [35:21<04:00,  2.22it/s, loss=2.85, v_num=1.79e+7]\n",
      "Epoch 0:  90%|████████▉ | 4702/5234 [35:21<04:00,  2.22it/s, loss=2.85, v_num=1.79e+7]\n",
      "Epoch 0:  90%|████████▉ | 4703/5234 [35:22<03:59,  2.22it/s, loss=2.85, v_num=1.79e+7]\n",
      "Epoch 0:  90%|████████▉ | 4704/5234 [35:23<03:59,  2.22it/s, loss=2.85, v_num=1.79e+7]\n",
      "Epoch 0:  90%|████████▉ | 4705/5234 [35:23<03:58,  2.22it/s, loss=2.85, v_num=1.79e+7]\n",
      "Epoch 0:  90%|████████▉ | 4706/5234 [35:23<03:58,  2.22it/s, loss=2.85, v_num=1.79e+7]\n",
      "Epoch 0:  90%|████████▉ | 4707/5234 [35:23<03:57,  2.22it/s, loss=2.85, v_num=1.79e+7]\n",
      "Epoch 0:  90%|████████▉ | 4708/5234 [35:23<03:57,  2.22it/s, loss=2.85, v_num=1.79e+7]\n",
      "Epoch 0:  90%|████████▉ | 4709/5234 [35:24<03:56,  2.22it/s, loss=2.85, v_num=1.79e+7]\n",
      "Epoch 0:  90%|████████▉ | 4710/5234 [35:24<03:56,  2.22it/s, loss=2.85, v_num=1.79e+7]\n",
      "Epoch 0:  90%|█████████ | 4711/5234 [35:24<03:55,  2.22it/s, loss=2.85, v_num=1.79e+7]\n",
      "Epoch 0:  90%|█████████ | 4712/5234 [35:24<03:55,  2.22it/s, loss=2.85, v_num=1.79e+7]\n",
      "Epoch 0:  90%|█████████ | 4713/5234 [35:25<03:54,  2.22it/s, loss=2.85, v_num=1.79e+7]\n",
      "Epoch 0:  90%|█████████ | 4714/5234 [35:25<03:54,  2.22it/s, loss=2.85, v_num=1.79e+7]\n",
      "Epoch 0:  90%|█████████ | 4715/5234 [35:25<03:53,  2.22it/s, loss=2.85, v_num=1.79e+7]\n",
      "Epoch 0:  90%|█████████ | 4716/5234 [35:25<03:53,  2.22it/s, loss=2.85, v_num=1.79e+7]\n",
      "Epoch 0:  90%|█████████ | 4717/5234 [35:25<03:53,  2.22it/s, loss=2.85, v_num=1.79e+7]\n",
      "Epoch 0:  90%|█████████ | 4718/5234 [35:26<03:52,  2.22it/s, loss=2.85, v_num=1.79e+7]\n",
      "Epoch 0:  90%|█████████ | 4719/5234 [35:26<03:52,  2.22it/s, loss=2.85, v_num=1.79e+7]\n",
      "Epoch 0:  90%|█████████ | 4720/5234 [35:28<03:51,  2.22it/s, loss=2.85, v_num=1.79e+7]\n",
      "Epoch 0:  90%|█████████ | 4721/5234 [35:28<03:51,  2.22it/s, loss=2.85, v_num=1.79e+7]\n",
      "Epoch 0:  90%|█████████ | 4722/5234 [35:29<03:50,  2.22it/s, loss=2.85, v_num=1.79e+7]\n",
      "Epoch 0:  90%|█████████ | 4723/5234 [35:29<03:50,  2.22it/s, loss=2.85, v_num=1.79e+7]\n",
      "Epoch 0:  90%|█████████ | 4724/5234 [35:29<03:49,  2.22it/s, loss=2.85, v_num=1.79e+7]\n",
      "Epoch 0:  90%|█████████ | 4725/5234 [35:29<03:49,  2.22it/s, loss=2.85, v_num=1.79e+7]\n",
      "Epoch 0:  90%|█████████ | 4726/5234 [35:30<03:48,  2.22it/s, loss=2.85, v_num=1.79e+7]\n",
      "Epoch 0:  90%|█████████ | 4727/5234 [35:30<03:48,  2.22it/s, loss=2.85, v_num=1.79e+7]\n",
      "Epoch 0:  90%|█████████ | 4728/5234 [35:30<03:48,  2.22it/s, loss=2.85, v_num=1.79e+7]\n",
      "Epoch 0:  90%|█████████ | 4729/5234 [35:30<03:47,  2.22it/s, loss=2.85, v_num=1.79e+7]\n",
      "Epoch 0:  90%|█████████ | 4730/5234 [35:30<03:47,  2.22it/s, loss=2.85, v_num=1.79e+7]\n",
      "Epoch 0:  90%|█████████ | 4731/5234 [35:31<03:46,  2.22it/s, loss=2.85, v_num=1.79e+7]\n",
      "Epoch 0:  90%|█████████ | 4732/5234 [35:31<03:46,  2.22it/s, loss=2.85, v_num=1.79e+7]\n",
      "Epoch 0:  90%|█████████ | 4733/5234 [35:31<03:45,  2.22it/s, loss=2.85, v_num=1.79e+7]\n",
      "Epoch 0:  90%|█████████ | 4734/5234 [35:31<03:45,  2.22it/s, loss=2.85, v_num=1.79e+7]\n",
      "Epoch 0:  90%|█████████ | 4735/5234 [35:32<03:44,  2.22it/s, loss=2.85, v_num=1.79e+7]\n",
      "Epoch 0:  90%|█████████ | 4736/5234 [35:32<03:44,  2.22it/s, loss=2.85, v_num=1.79e+7]\n",
      "Epoch 0:  91%|█████████ | 4737/5234 [35:32<03:43,  2.22it/s, loss=2.85, v_num=1.79e+7]\n",
      "Epoch 0:  91%|█████████ | 4738/5234 [35:32<03:43,  2.22it/s, loss=2.85, v_num=1.79e+7]\n",
      "Epoch 0:  91%|█████████ | 4739/5234 [35:33<03:42,  2.22it/s, loss=2.85, v_num=1.79e+7]\n",
      "Epoch 0:  91%|█████████ | 4740/5234 [35:36<03:42,  2.22it/s, loss=2.85, v_num=1.79e+7]\n",
      "Epoch 0:  91%|█████████ | 4741/5234 [35:36<03:42,  2.22it/s, loss=2.85, v_num=1.79e+7]\n",
      "Epoch 0:  91%|█████████ | 4742/5234 [35:36<03:41,  2.22it/s, loss=2.85, v_num=1.79e+7]\n",
      "Epoch 0:  91%|█████████ | 4743/5234 [35:36<03:41,  2.22it/s, loss=2.85, v_num=1.79e+7]\n",
      "Epoch 0:  91%|█████████ | 4744/5234 [35:37<03:40,  2.22it/s, loss=2.85, v_num=1.79e+7]\n",
      "Epoch 0:  91%|█████████ | 4745/5234 [35:37<03:40,  2.22it/s, loss=2.85, v_num=1.79e+7]\n",
      "Epoch 0:  91%|█████████ | 4746/5234 [35:37<03:39,  2.22it/s, loss=2.85, v_num=1.79e+7]\n",
      "Epoch 0:  91%|█████████ | 4747/5234 [35:37<03:39,  2.22it/s, loss=2.85, v_num=1.79e+7]\n",
      "Epoch 0:  91%|█████████ | 4748/5234 [35:38<03:38,  2.22it/s, loss=2.85, v_num=1.79e+7]\n",
      "Epoch 0:  91%|█████████ | 4749/5234 [35:38<03:38,  2.22it/s, loss=2.85, v_num=1.79e+7]\n",
      "Epoch 0:  91%|█████████ | 4750/5234 [35:38<03:37,  2.22it/s, loss=2.85, v_num=1.79e+7]\n",
      "Epoch 0:  91%|█████████ | 4751/5234 [35:38<03:37,  2.22it/s, loss=2.85, v_num=1.79e+7]\n",
      "Epoch 0:  91%|█████████ | 4752/5234 [35:38<03:36,  2.22it/s, loss=2.85, v_num=1.79e+7]\n",
      "Epoch 0:  91%|█████████ | 4753/5234 [35:39<03:36,  2.22it/s, loss=2.85, v_num=1.79e+7]\n",
      "Epoch 0:  91%|█████████ | 4754/5234 [35:39<03:36,  2.22it/s, loss=2.85, v_num=1.79e+7]\n",
      "Epoch 0:  91%|█████████ | 4755/5234 [35:39<03:35,  2.22it/s, loss=2.85, v_num=1.79e+7]\n",
      "Epoch 0:  91%|█████████ | 4756/5234 [35:39<03:35,  2.22it/s, loss=2.85, v_num=1.79e+7]\n",
      "Epoch 0:  91%|█████████ | 4757/5234 [35:40<03:34,  2.22it/s, loss=2.85, v_num=1.79e+7]\n",
      "Epoch 0:  91%|█████████ | 4758/5234 [35:40<03:34,  2.22it/s, loss=2.85, v_num=1.79e+7]\n",
      "Epoch 0:  91%|█████████ | 4759/5234 [35:40<03:33,  2.22it/s, loss=2.85, v_num=1.79e+7]\n",
      "Epoch 0:  91%|█████████ | 4760/5234 [35:43<03:33,  2.22it/s, loss=2.85, v_num=1.79e+7]\n",
      "Epoch 0:  91%|█████████ | 4761/5234 [35:43<03:32,  2.22it/s, loss=2.85, v_num=1.79e+7]\n",
      "Epoch 0:  91%|█████████ | 4762/5234 [35:44<03:32,  2.22it/s, loss=2.85, v_num=1.79e+7]\n",
      "Epoch 0:  91%|█████████ | 4763/5234 [35:44<03:32,  2.22it/s, loss=2.85, v_num=1.79e+7]\n",
      "Epoch 0:  91%|█████████ | 4764/5234 [35:44<03:31,  2.22it/s, loss=2.85, v_num=1.79e+7]\n",
      "Epoch 0:  91%|█████████ | 4765/5234 [35:44<03:31,  2.22it/s, loss=2.85, v_num=1.79e+7]\n",
      "Epoch 0:  91%|█████████ | 4766/5234 [35:45<03:30,  2.22it/s, loss=2.85, v_num=1.79e+7]\n",
      "Epoch 0:  91%|█████████ | 4767/5234 [35:45<03:30,  2.22it/s, loss=2.85, v_num=1.79e+7]\n",
      "Epoch 0:  91%|█████████ | 4768/5234 [35:45<03:29,  2.22it/s, loss=2.85, v_num=1.79e+7]\n",
      "Epoch 0:  91%|█████████ | 4769/5234 [35:45<03:29,  2.22it/s, loss=2.85, v_num=1.79e+7]\n",
      "Epoch 0:  91%|█████████ | 4770/5234 [35:46<03:28,  2.22it/s, loss=2.85, v_num=1.79e+7]\n",
      "Epoch 0:  91%|█████████ | 4771/5234 [35:46<03:28,  2.22it/s, loss=2.85, v_num=1.79e+7]\n",
      "Epoch 0:  91%|█████████ | 4772/5234 [35:46<03:27,  2.22it/s, loss=2.85, v_num=1.79e+7]\n",
      "Epoch 0:  91%|█████████ | 4773/5234 [35:46<03:27,  2.22it/s, loss=2.85, v_num=1.79e+7]\n",
      "Epoch 0:  91%|█████████ | 4774/5234 [35:47<03:26,  2.22it/s, loss=2.85, v_num=1.79e+7]\n",
      "Epoch 0:  91%|█████████ | 4775/5234 [35:47<03:26,  2.22it/s, loss=2.85, v_num=1.79e+7]\n",
      "Epoch 0:  91%|█████████ | 4776/5234 [35:47<03:25,  2.22it/s, loss=2.85, v_num=1.79e+7]\n",
      "Epoch 0:  91%|█████████▏| 4777/5234 [35:47<03:25,  2.22it/s, loss=2.85, v_num=1.79e+7]\n",
      "Epoch 0:  91%|█████████▏| 4778/5234 [35:47<03:24,  2.22it/s, loss=2.85, v_num=1.79e+7]\n",
      "Epoch 0:  91%|█████████▏| 4779/5234 [35:48<03:24,  2.22it/s, loss=2.85, v_num=1.79e+7]\n",
      "Epoch 0:  91%|█████████▏| 4780/5234 [35:51<03:24,  2.22it/s, loss=2.85, v_num=1.79e+7]\n",
      "Epoch 0:  91%|█████████▏| 4781/5234 [35:51<03:23,  2.22it/s, loss=2.85, v_num=1.79e+7]\n",
      "Epoch 0:  91%|█████████▏| 4782/5234 [35:51<03:23,  2.22it/s, loss=2.85, v_num=1.79e+7]\n",
      "Epoch 0:  91%|█████████▏| 4783/5234 [35:52<03:22,  2.22it/s, loss=2.85, v_num=1.79e+7]\n",
      "Epoch 0:  91%|█████████▏| 4784/5234 [35:52<03:22,  2.22it/s, loss=2.85, v_num=1.79e+7]\n",
      "Epoch 0:  91%|█████████▏| 4785/5234 [35:52<03:21,  2.22it/s, loss=2.85, v_num=1.79e+7]\n",
      "Epoch 0:  91%|█████████▏| 4786/5234 [35:52<03:21,  2.22it/s, loss=2.85, v_num=1.79e+7]\n",
      "Epoch 0:  91%|█████████▏| 4787/5234 [35:53<03:21,  2.22it/s, loss=2.85, v_num=1.79e+7]\n",
      "Epoch 0:  91%|█████████▏| 4788/5234 [35:53<03:20,  2.22it/s, loss=2.85, v_num=1.79e+7]\n",
      "Epoch 0:  91%|█████████▏| 4789/5234 [35:53<03:20,  2.22it/s, loss=2.85, v_num=1.79e+7]\n",
      "Epoch 0:  92%|█████████▏| 4790/5234 [35:53<03:19,  2.22it/s, loss=2.85, v_num=1.79e+7]\n",
      "Epoch 0:  92%|█████████▏| 4791/5234 [35:53<03:19,  2.22it/s, loss=2.85, v_num=1.79e+7]\n",
      "Epoch 0:  92%|█████████▏| 4792/5234 [35:54<03:18,  2.22it/s, loss=2.85, v_num=1.79e+7]\n",
      "Epoch 0:  92%|█████████▏| 4793/5234 [35:54<03:18,  2.22it/s, loss=2.85, v_num=1.79e+7]\n",
      "Epoch 0:  92%|█████████▏| 4794/5234 [35:54<03:17,  2.22it/s, loss=2.85, v_num=1.79e+7]\n",
      "Epoch 0:  92%|█████████▏| 4795/5234 [35:54<03:17,  2.23it/s, loss=2.85, v_num=1.79e+7]\n",
      "Epoch 0:  92%|█████████▏| 4796/5234 [35:55<03:16,  2.23it/s, loss=2.85, v_num=1.79e+7]\n",
      "Epoch 0:  92%|█████████▏| 4797/5234 [35:55<03:16,  2.23it/s, loss=2.85, v_num=1.79e+7]\n",
      "Epoch 0:  92%|█████████▏| 4798/5234 [35:55<03:15,  2.23it/s, loss=2.85, v_num=1.79e+7]\n",
      "Epoch 0:  92%|█████████▏| 4799/5234 [35:55<03:15,  2.23it/s, loss=2.85, v_num=1.79e+7]\n",
      "Epoch 0:  92%|█████████▏| 4800/5234 [35:58<03:15,  2.22it/s, loss=2.85, v_num=1.79e+7]\n",
      "Epoch 0:  92%|█████████▏| 4801/5234 [35:58<03:14,  2.22it/s, loss=2.85, v_num=1.79e+7]\n",
      "Epoch 0:  92%|█████████▏| 4802/5234 [35:59<03:14,  2.22it/s, loss=2.85, v_num=1.79e+7]\n",
      "Epoch 0:  92%|█████████▏| 4803/5234 [35:59<03:13,  2.22it/s, loss=2.85, v_num=1.79e+7]\n",
      "Epoch 0:  92%|█████████▏| 4804/5234 [35:59<03:13,  2.22it/s, loss=2.85, v_num=1.79e+7]\n",
      "Epoch 0:  92%|█████████▏| 4805/5234 [35:59<03:12,  2.22it/s, loss=2.85, v_num=1.79e+7]\n",
      "Epoch 0:  92%|█████████▏| 4806/5234 [36:00<03:12,  2.22it/s, loss=2.85, v_num=1.79e+7]\n",
      "Epoch 0:  92%|█████████▏| 4807/5234 [36:00<03:11,  2.23it/s, loss=2.85, v_num=1.79e+7]\n",
      "Epoch 0:  92%|█████████▏| 4808/5234 [36:00<03:11,  2.23it/s, loss=2.85, v_num=1.79e+7]\n",
      "Epoch 0:  92%|█████████▏| 4809/5234 [36:00<03:10,  2.23it/s, loss=2.85, v_num=1.79e+7]\n",
      "Epoch 0:  92%|█████████▏| 4810/5234 [36:01<03:10,  2.23it/s, loss=2.85, v_num=1.79e+7]\n",
      "Epoch 0:  92%|█████████▏| 4811/5234 [36:01<03:10,  2.23it/s, loss=2.85, v_num=1.79e+7]\n",
      "Epoch 0:  92%|█████████▏| 4812/5234 [36:01<03:09,  2.23it/s, loss=2.85, v_num=1.79e+7]\n",
      "Epoch 0:  92%|█████████▏| 4813/5234 [36:01<03:09,  2.23it/s, loss=2.85, v_num=1.79e+7]\n",
      "Epoch 0:  92%|█████████▏| 4814/5234 [36:02<03:08,  2.23it/s, loss=2.85, v_num=1.79e+7]\n",
      "Epoch 0:  92%|█████████▏| 4815/5234 [36:02<03:08,  2.23it/s, loss=2.85, v_num=1.79e+7]\n",
      "Epoch 0:  92%|█████████▏| 4816/5234 [36:02<03:07,  2.23it/s, loss=2.85, v_num=1.79e+7]\n",
      "Epoch 0:  92%|█████████▏| 4817/5234 [36:02<03:07,  2.23it/s, loss=2.85, v_num=1.79e+7]\n",
      "Epoch 0:  92%|█████████▏| 4818/5234 [36:02<03:06,  2.23it/s, loss=2.85, v_num=1.79e+7]\n",
      "Epoch 0:  92%|█████████▏| 4819/5234 [36:03<03:06,  2.23it/s, loss=2.85, v_num=1.79e+7]\n",
      "Epoch 0:  92%|█████████▏| 4820/5234 [36:06<03:06,  2.22it/s, loss=2.85, v_num=1.79e+7]\n",
      "Epoch 0:  92%|█████████▏| 4821/5234 [36:06<03:05,  2.22it/s, loss=2.85, v_num=1.79e+7]\n",
      "Epoch 0:  92%|█████████▏| 4822/5234 [36:07<03:05,  2.23it/s, loss=2.85, v_num=1.79e+7]\n",
      "Epoch 0:  92%|█████████▏| 4823/5234 [36:07<03:04,  2.23it/s, loss=2.85, v_num=1.79e+7]\n",
      "Epoch 0:  92%|█████████▏| 4824/5234 [36:07<03:04,  2.23it/s, loss=2.85, v_num=1.79e+7]\n",
      "Epoch 0:  92%|█████████▏| 4825/5234 [36:07<03:03,  2.23it/s, loss=2.85, v_num=1.79e+7]\n",
      "Epoch 0:  92%|█████████▏| 4826/5234 [36:07<03:03,  2.23it/s, loss=2.85, v_num=1.79e+7]\n",
      "Epoch 0:  92%|█████████▏| 4827/5234 [36:08<03:02,  2.23it/s, loss=2.85, v_num=1.79e+7]\n",
      "Epoch 0:  92%|█████████▏| 4828/5234 [36:08<03:02,  2.23it/s, loss=2.85, v_num=1.79e+7]\n",
      "Epoch 0:  92%|█████████▏| 4829/5234 [36:08<03:01,  2.23it/s, loss=2.85, v_num=1.79e+7]\n",
      "Epoch 0:  92%|█████████▏| 4830/5234 [36:08<03:01,  2.23it/s, loss=2.85, v_num=1.79e+7]\n",
      "Epoch 0:  92%|█████████▏| 4831/5234 [36:09<03:00,  2.23it/s, loss=2.85, v_num=1.79e+7]\n",
      "Epoch 0:  92%|█████████▏| 4832/5234 [36:09<03:00,  2.23it/s, loss=2.85, v_num=1.79e+7]\n",
      "Epoch 0:  92%|█████████▏| 4833/5234 [36:09<03:00,  2.23it/s, loss=2.85, v_num=1.79e+7]\n",
      "Epoch 0:  92%|█████████▏| 4834/5234 [36:09<02:59,  2.23it/s, loss=2.85, v_num=1.79e+7]\n",
      "Epoch 0:  92%|█████████▏| 4835/5234 [36:10<02:59,  2.23it/s, loss=2.85, v_num=1.79e+7]\n",
      "Epoch 0:  92%|█████████▏| 4836/5234 [36:10<02:58,  2.23it/s, loss=2.85, v_num=1.79e+7]\n",
      "Epoch 0:  92%|█████████▏| 4837/5234 [36:10<02:58,  2.23it/s, loss=2.85, v_num=1.79e+7]\n",
      "Epoch 0:  92%|█████████▏| 4838/5234 [36:10<02:57,  2.23it/s, loss=2.85, v_num=1.79e+7]\n",
      "Epoch 0:  92%|█████████▏| 4839/5234 [36:10<02:57,  2.23it/s, loss=2.85, v_num=1.79e+7]\n",
      "Epoch 0:  92%|█████████▏| 4840/5234 [36:14<02:56,  2.23it/s, loss=2.85, v_num=1.79e+7]\n",
      "Epoch 0:  92%|█████████▏| 4841/5234 [36:14<02:56,  2.23it/s, loss=2.85, v_num=1.79e+7]\n",
      "Epoch 0:  93%|█████████▎| 4842/5234 [36:14<02:56,  2.23it/s, loss=2.85, v_num=1.79e+7]\n",
      "Epoch 0:  93%|█████████▎| 4843/5234 [36:14<02:55,  2.23it/s, loss=2.85, v_num=1.79e+7]\n",
      "Epoch 0:  93%|█████████▎| 4844/5234 [36:15<02:55,  2.23it/s, loss=2.85, v_num=1.79e+7]\n",
      "Epoch 0:  93%|█████████▎| 4845/5234 [36:15<02:54,  2.23it/s, loss=2.85, v_num=1.79e+7]\n",
      "Epoch 0:  93%|█████████▎| 4846/5234 [36:15<02:54,  2.23it/s, loss=2.85, v_num=1.79e+7]\n",
      "Epoch 0:  93%|█████████▎| 4847/5234 [36:15<02:53,  2.23it/s, loss=2.85, v_num=1.79e+7]\n",
      "Epoch 0:  93%|█████████▎| 4848/5234 [36:15<02:53,  2.23it/s, loss=2.85, v_num=1.79e+7]\n",
      "Epoch 0:  93%|█████████▎| 4849/5234 [36:16<02:52,  2.23it/s, loss=2.85, v_num=1.79e+7]\n",
      "Epoch 0:  93%|█████████▎| 4850/5234 [36:16<02:52,  2.23it/s, loss=2.85, v_num=1.79e+7]\n",
      "Epoch 0:  93%|█████████▎| 4851/5234 [36:16<02:51,  2.23it/s, loss=2.85, v_num=1.79e+7]\n",
      "Epoch 0:  93%|█████████▎| 4852/5234 [36:16<02:51,  2.23it/s, loss=2.85, v_num=1.79e+7]\n",
      "Epoch 0:  93%|█████████▎| 4853/5234 [36:17<02:50,  2.23it/s, loss=2.85, v_num=1.79e+7]\n",
      "Epoch 0:  93%|█████████▎| 4854/5234 [36:17<02:50,  2.23it/s, loss=2.85, v_num=1.79e+7]\n",
      "Epoch 0:  93%|█████████▎| 4855/5234 [36:17<02:49,  2.23it/s, loss=2.85, v_num=1.79e+7]\n",
      "Epoch 0:  93%|█████████▎| 4856/5234 [36:17<02:49,  2.23it/s, loss=2.85, v_num=1.79e+7]\n",
      "Epoch 0:  93%|█████████▎| 4857/5234 [36:18<02:49,  2.23it/s, loss=2.85, v_num=1.79e+7]\n",
      "Epoch 0:  93%|█████████▎| 4858/5234 [36:18<02:48,  2.23it/s, loss=2.85, v_num=1.79e+7]\n",
      "Epoch 0:  93%|█████████▎| 4859/5234 [36:18<02:48,  2.23it/s, loss=2.85, v_num=1.79e+7]\n",
      "Epoch 0:  93%|█████████▎| 4860/5234 [36:21<02:47,  2.23it/s, loss=2.85, v_num=1.79e+7]\n",
      "Epoch 0:  93%|█████████▎| 4861/5234 [36:21<02:47,  2.23it/s, loss=2.85, v_num=1.79e+7]\n",
      "Epoch 0:  93%|█████████▎| 4862/5234 [36:22<02:46,  2.23it/s, loss=2.85, v_num=1.79e+7]\n",
      "Epoch 0:  93%|█████████▎| 4863/5234 [36:22<02:46,  2.23it/s, loss=2.85, v_num=1.79e+7]\n",
      "Epoch 0:  93%|█████████▎| 4864/5234 [36:22<02:46,  2.23it/s, loss=2.85, v_num=1.79e+7]\n",
      "Epoch 0:  93%|█████████▎| 4865/5234 [36:22<02:45,  2.23it/s, loss=2.85, v_num=1.79e+7]\n",
      "Epoch 0:  93%|█████████▎| 4866/5234 [36:23<02:45,  2.23it/s, loss=2.85, v_num=1.79e+7]\n",
      "Epoch 0:  93%|█████████▎| 4867/5234 [36:23<02:44,  2.23it/s, loss=2.85, v_num=1.79e+7]\n",
      "Epoch 0:  93%|█████████▎| 4868/5234 [36:23<02:44,  2.23it/s, loss=2.85, v_num=1.79e+7]\n",
      "Epoch 0:  93%|█████████▎| 4869/5234 [36:23<02:43,  2.23it/s, loss=2.85, v_num=1.79e+7]\n",
      "Epoch 0:  93%|█████████▎| 4870/5234 [36:24<02:43,  2.23it/s, loss=2.85, v_num=1.79e+7]\n",
      "Epoch 0:  93%|█████████▎| 4871/5234 [36:24<02:42,  2.23it/s, loss=2.85, v_num=1.79e+7]\n",
      "Epoch 0:  93%|█████████▎| 4872/5234 [36:24<02:42,  2.23it/s, loss=2.85, v_num=1.79e+7]\n",
      "Epoch 0:  93%|█████████▎| 4873/5234 [36:24<02:41,  2.23it/s, loss=2.85, v_num=1.79e+7]\n",
      "Epoch 0:  93%|█████████▎| 4874/5234 [36:24<02:41,  2.23it/s, loss=2.85, v_num=1.79e+7]\n",
      "Epoch 0:  93%|█████████▎| 4875/5234 [36:25<02:40,  2.23it/s, loss=2.85, v_num=1.79e+7]\n",
      "Epoch 0:  93%|█████████▎| 4876/5234 [36:25<02:40,  2.23it/s, loss=2.85, v_num=1.79e+7]\n",
      "Epoch 0:  93%|█████████▎| 4877/5234 [36:25<02:39,  2.23it/s, loss=2.85, v_num=1.79e+7]\n",
      "Epoch 0:  93%|█████████▎| 4878/5234 [36:25<02:39,  2.23it/s, loss=2.85, v_num=1.79e+7]\n",
      "Epoch 0:  93%|█████████▎| 4879/5234 [36:26<02:39,  2.23it/s, loss=2.85, v_num=1.79e+7]\n",
      "Epoch 0:  93%|█████████▎| 4880/5234 [36:29<02:38,  2.23it/s, loss=2.85, v_num=1.79e+7]\n",
      "Epoch 0:  93%|█████████▎| 4881/5234 [36:29<02:38,  2.23it/s, loss=2.85, v_num=1.79e+7]\n",
      "Epoch 0:  93%|█████████▎| 4882/5234 [36:30<02:37,  2.23it/s, loss=2.85, v_num=1.79e+7]\n",
      "Epoch 0:  93%|█████████▎| 4883/5234 [36:30<02:37,  2.23it/s, loss=2.85, v_num=1.79e+7]\n",
      "Epoch 0:  93%|█████████▎| 4884/5234 [36:30<02:36,  2.23it/s, loss=2.85, v_num=1.79e+7]\n",
      "Epoch 0:  93%|█████████▎| 4885/5234 [36:30<02:36,  2.23it/s, loss=2.85, v_num=1.79e+7]\n",
      "Epoch 0:  93%|█████████▎| 4886/5234 [36:30<02:36,  2.23it/s, loss=2.85, v_num=1.79e+7]\n",
      "Epoch 0:  93%|█████████▎| 4887/5234 [36:31<02:35,  2.23it/s, loss=2.85, v_num=1.79e+7]\n",
      "Epoch 0:  93%|█████████▎| 4888/5234 [36:31<02:35,  2.23it/s, loss=2.85, v_num=1.79e+7]\n",
      "Epoch 0:  93%|█████████▎| 4889/5234 [36:31<02:34,  2.23it/s, loss=2.85, v_num=1.79e+7]\n",
      "Epoch 0:  93%|█████████▎| 4890/5234 [36:31<02:34,  2.23it/s, loss=2.85, v_num=1.79e+7]\n",
      "Epoch 0:  93%|█████████▎| 4891/5234 [36:32<02:33,  2.23it/s, loss=2.85, v_num=1.79e+7]\n",
      "Epoch 0:  93%|█████████▎| 4892/5234 [36:32<02:33,  2.23it/s, loss=2.85, v_num=1.79e+7]\n",
      "Epoch 0:  93%|█████████▎| 4893/5234 [36:32<02:32,  2.23it/s, loss=2.85, v_num=1.79e+7]\n",
      "Epoch 0:  94%|█████████▎| 4894/5234 [36:32<02:32,  2.23it/s, loss=2.85, v_num=1.79e+7]\n",
      "Epoch 0:  94%|█████████▎| 4895/5234 [36:33<02:31,  2.23it/s, loss=2.85, v_num=1.79e+7]\n",
      "Epoch 0:  94%|█████████▎| 4896/5234 [36:33<02:31,  2.23it/s, loss=2.85, v_num=1.79e+7]\n",
      "Epoch 0:  94%|█████████▎| 4897/5234 [36:33<02:30,  2.23it/s, loss=2.85, v_num=1.79e+7]\n",
      "Epoch 0:  94%|█████████▎| 4898/5234 [36:33<02:30,  2.23it/s, loss=2.85, v_num=1.79e+7]\n",
      "Epoch 0:  94%|█████████▎| 4899/5234 [36:33<02:30,  2.23it/s, loss=2.85, v_num=1.79e+7]\n",
      "Epoch 0:  94%|█████████▎| 4900/5234 [36:36<02:29,  2.23it/s, loss=2.85, v_num=1.79e+7]\n",
      "Epoch 0:  94%|█████████▎| 4901/5234 [36:37<02:29,  2.23it/s, loss=2.85, v_num=1.79e+7]\n",
      "Epoch 0:  94%|█████████▎| 4902/5234 [36:37<02:28,  2.23it/s, loss=2.85, v_num=1.79e+7]\n",
      "Epoch 0:  94%|█████████▎| 4903/5234 [36:37<02:28,  2.23it/s, loss=2.85, v_num=1.79e+7]\n",
      "Epoch 0:  94%|█████████▎| 4904/5234 [36:38<02:27,  2.23it/s, loss=2.85, v_num=1.79e+7]\n",
      "Epoch 0:  94%|█████████▎| 4905/5234 [36:38<02:27,  2.23it/s, loss=2.85, v_num=1.79e+7]\n",
      "Epoch 0:  94%|█████████▎| 4906/5234 [36:38<02:26,  2.23it/s, loss=2.85, v_num=1.79e+7]\n",
      "Epoch 0:  94%|█████████▍| 4907/5234 [36:38<02:26,  2.23it/s, loss=2.85, v_num=1.79e+7]\n",
      "Epoch 0:  94%|█████████▍| 4908/5234 [36:38<02:26,  2.23it/s, loss=2.85, v_num=1.79e+7]\n",
      "Epoch 0:  94%|█████████▍| 4909/5234 [36:39<02:25,  2.23it/s, loss=2.85, v_num=1.79e+7]\n",
      "Epoch 0:  94%|█████████▍| 4910/5234 [36:39<02:25,  2.23it/s, loss=2.85, v_num=1.79e+7]\n",
      "Epoch 0:  94%|█████████▍| 4911/5234 [36:39<02:24,  2.23it/s, loss=2.85, v_num=1.79e+7]\n",
      "Epoch 0:  94%|█████████▍| 4912/5234 [36:39<02:24,  2.23it/s, loss=2.85, v_num=1.79e+7]\n",
      "Epoch 0:  94%|█████████▍| 4913/5234 [36:40<02:23,  2.23it/s, loss=2.85, v_num=1.79e+7]\n",
      "Epoch 0:  94%|█████████▍| 4914/5234 [36:40<02:23,  2.23it/s, loss=2.85, v_num=1.79e+7]\n",
      "Epoch 0:  94%|█████████▍| 4915/5234 [36:40<02:22,  2.23it/s, loss=2.85, v_num=1.79e+7]\n",
      "Epoch 0:  94%|█████████▍| 4916/5234 [36:40<02:22,  2.23it/s, loss=2.85, v_num=1.79e+7]\n",
      "Epoch 0:  94%|█████████▍| 4917/5234 [36:41<02:21,  2.23it/s, loss=2.85, v_num=1.79e+7]\n",
      "Epoch 0:  94%|█████████▍| 4918/5234 [36:41<02:21,  2.23it/s, loss=2.85, v_num=1.79e+7]\n",
      "Epoch 0:  94%|█████████▍| 4919/5234 [36:41<02:20,  2.23it/s, loss=2.85, v_num=1.79e+7]\n",
      "Epoch 0:  94%|█████████▍| 4920/5234 [36:44<02:20,  2.23it/s, loss=2.85, v_num=1.79e+7]\n",
      "Epoch 0:  94%|█████████▍| 4921/5234 [36:44<02:20,  2.23it/s, loss=2.85, v_num=1.79e+7]\n",
      "Epoch 0:  94%|█████████▍| 4922/5234 [36:45<02:19,  2.23it/s, loss=2.85, v_num=1.79e+7]\n",
      "Epoch 0:  94%|█████████▍| 4923/5234 [36:45<02:19,  2.23it/s, loss=2.85, v_num=1.79e+7]\n",
      "Epoch 0:  94%|█████████▍| 4924/5234 [36:45<02:18,  2.23it/s, loss=2.85, v_num=1.79e+7]\n",
      "Epoch 0:  94%|█████████▍| 4925/5234 [36:45<02:18,  2.23it/s, loss=2.85, v_num=1.79e+7]\n",
      "Epoch 0:  94%|█████████▍| 4926/5234 [36:46<02:17,  2.23it/s, loss=2.85, v_num=1.79e+7]\n",
      "Epoch 0:  94%|█████████▍| 4927/5234 [36:46<02:17,  2.23it/s, loss=2.85, v_num=1.79e+7]\n",
      "Epoch 0:  94%|█████████▍| 4928/5234 [36:46<02:17,  2.23it/s, loss=2.85, v_num=1.79e+7]\n",
      "Epoch 0:  94%|█████████▍| 4929/5234 [36:46<02:16,  2.23it/s, loss=2.85, v_num=1.79e+7]\n",
      "Epoch 0:  94%|█████████▍| 4930/5234 [36:46<02:16,  2.23it/s, loss=2.85, v_num=1.79e+7]\n",
      "Epoch 0:  94%|█████████▍| 4931/5234 [36:47<02:15,  2.23it/s, loss=2.85, v_num=1.79e+7]\n",
      "Epoch 0:  94%|█████████▍| 4932/5234 [36:47<02:15,  2.23it/s, loss=2.85, v_num=1.79e+7]\n",
      "Epoch 0:  94%|█████████▍| 4933/5234 [36:47<02:14,  2.23it/s, loss=2.85, v_num=1.79e+7]\n",
      "Epoch 0:  94%|█████████▍| 4934/5234 [36:47<02:14,  2.23it/s, loss=2.85, v_num=1.79e+7]\n",
      "Epoch 0:  94%|█████████▍| 4935/5234 [36:48<02:13,  2.23it/s, loss=2.85, v_num=1.79e+7]\n",
      "Epoch 0:  94%|█████████▍| 4936/5234 [36:48<02:13,  2.24it/s, loss=2.85, v_num=1.79e+7]\n",
      "Epoch 0:  94%|█████████▍| 4937/5234 [36:48<02:12,  2.24it/s, loss=2.85, v_num=1.79e+7]\n",
      "Epoch 0:  94%|█████████▍| 4938/5234 [36:48<02:12,  2.24it/s, loss=2.85, v_num=1.79e+7]\n",
      "Epoch 0:  94%|█████████▍| 4939/5234 [36:49<02:11,  2.24it/s, loss=2.85, v_num=1.79e+7]\n",
      "Epoch 0:  94%|█████████▍| 4940/5234 [36:51<02:11,  2.23it/s, loss=2.85, v_num=1.79e+7]\n",
      "Epoch 0:  94%|█████████▍| 4941/5234 [36:52<02:11,  2.23it/s, loss=2.85, v_num=1.79e+7]\n",
      "Epoch 0:  94%|█████████▍| 4942/5234 [36:52<02:10,  2.23it/s, loss=2.85, v_num=1.79e+7]\n",
      "Epoch 0:  94%|█████████▍| 4943/5234 [36:52<02:10,  2.23it/s, loss=2.85, v_num=1.79e+7]\n",
      "Epoch 0:  94%|█████████▍| 4944/5234 [36:53<02:09,  2.23it/s, loss=2.85, v_num=1.79e+7]\n",
      "Epoch 0:  94%|█████████▍| 4945/5234 [36:53<02:09,  2.23it/s, loss=2.85, v_num=1.79e+7]\n",
      "Epoch 0:  94%|█████████▍| 4946/5234 [36:53<02:08,  2.23it/s, loss=2.85, v_num=1.79e+7]\n",
      "Epoch 0:  95%|█████████▍| 4947/5234 [36:53<02:08,  2.23it/s, loss=2.85, v_num=1.79e+7]\n",
      "Epoch 0:  95%|█████████▍| 4948/5234 [36:54<02:07,  2.23it/s, loss=2.85, v_num=1.79e+7]\n",
      "Epoch 0:  95%|█████████▍| 4949/5234 [36:54<02:07,  2.23it/s, loss=2.85, v_num=1.79e+7]\n",
      "Epoch 0:  95%|█████████▍| 4950/5234 [36:54<02:07,  2.24it/s, loss=2.85, v_num=1.79e+7]\n",
      "Epoch 0:  95%|█████████▍| 4951/5234 [36:54<02:06,  2.24it/s, loss=2.85, v_num=1.79e+7]\n",
      "Epoch 0:  95%|█████████▍| 4952/5234 [36:55<02:06,  2.24it/s, loss=2.85, v_num=1.79e+7]\n",
      "Epoch 0:  95%|█████████▍| 4953/5234 [36:55<02:05,  2.24it/s, loss=2.85, v_num=1.79e+7]\n",
      "Epoch 0:  95%|█████████▍| 4954/5234 [36:55<02:05,  2.24it/s, loss=2.85, v_num=1.79e+7]\n",
      "Epoch 0:  95%|█████████▍| 4955/5234 [36:55<02:04,  2.24it/s, loss=2.85, v_num=1.79e+7]\n",
      "Epoch 0:  95%|█████████▍| 4956/5234 [36:55<02:04,  2.24it/s, loss=2.85, v_num=1.79e+7]\n",
      "Epoch 0:  95%|█████████▍| 4957/5234 [36:56<02:03,  2.24it/s, loss=2.85, v_num=1.79e+7]\n",
      "Epoch 0:  95%|█████████▍| 4958/5234 [36:56<02:03,  2.24it/s, loss=2.85, v_num=1.79e+7]\n",
      "Epoch 0:  95%|█████████▍| 4959/5234 [36:56<02:02,  2.24it/s, loss=2.85, v_num=1.79e+7]\n",
      "Epoch 0:  95%|█████████▍| 4960/5234 [37:00<02:02,  2.23it/s, loss=2.85, v_num=1.79e+7]\n",
      "Epoch 0:  95%|█████████▍| 4961/5234 [37:00<02:02,  2.23it/s, loss=2.85, v_num=1.79e+7]\n",
      "Epoch 0:  95%|█████████▍| 4962/5234 [37:01<02:01,  2.23it/s, loss=2.85, v_num=1.79e+7]\n",
      "Epoch 0:  95%|█████████▍| 4963/5234 [37:01<02:01,  2.23it/s, loss=2.85, v_num=1.79e+7]\n",
      "Epoch 0:  95%|█████████▍| 4964/5234 [37:01<02:00,  2.23it/s, loss=2.85, v_num=1.79e+7]\n",
      "Epoch 0:  95%|█████████▍| 4965/5234 [37:02<02:00,  2.23it/s, loss=2.85, v_num=1.79e+7]\n",
      "Epoch 0:  95%|█████████▍| 4966/5234 [37:02<01:59,  2.23it/s, loss=2.85, v_num=1.79e+7]\n",
      "Epoch 0:  95%|█████████▍| 4967/5234 [37:02<01:59,  2.23it/s, loss=2.85, v_num=1.79e+7]\n",
      "Epoch 0:  95%|█████████▍| 4968/5234 [37:02<01:59,  2.24it/s, loss=2.85, v_num=1.79e+7]\n",
      "Epoch 0:  95%|█████████▍| 4969/5234 [37:02<01:58,  2.24it/s, loss=2.85, v_num=1.79e+7]\n",
      "Epoch 0:  95%|█████████▍| 4970/5234 [37:03<01:58,  2.24it/s, loss=2.85, v_num=1.79e+7]\n",
      "Epoch 0:  95%|█████████▍| 4971/5234 [37:03<01:57,  2.24it/s, loss=2.85, v_num=1.79e+7]\n",
      "Epoch 0:  95%|█████████▍| 4972/5234 [37:03<01:57,  2.24it/s, loss=2.85, v_num=1.79e+7]\n",
      "Epoch 0:  95%|█████████▌| 4973/5234 [37:03<01:56,  2.24it/s, loss=2.85, v_num=1.79e+7]\n",
      "Epoch 0:  95%|█████████▌| 4974/5234 [37:04<01:56,  2.24it/s, loss=2.85, v_num=1.79e+7]\n",
      "Epoch 0:  95%|█████████▌| 4975/5234 [37:04<01:55,  2.24it/s, loss=2.85, v_num=1.79e+7]\n",
      "Epoch 0:  95%|█████████▌| 4976/5234 [37:04<01:55,  2.24it/s, loss=2.85, v_num=1.79e+7]\n",
      "Epoch 0:  95%|█████████▌| 4977/5234 [37:04<01:54,  2.24it/s, loss=2.85, v_num=1.79e+7]\n",
      "Epoch 0:  95%|█████████▌| 4978/5234 [37:04<01:54,  2.24it/s, loss=2.85, v_num=1.79e+7]\n",
      "Epoch 0:  95%|█████████▌| 4979/5234 [37:05<01:53,  2.24it/s, loss=2.85, v_num=1.79e+7]\n",
      "Epoch 0:  95%|█████████▌| 4980/5234 [37:07<01:53,  2.24it/s, loss=2.85, v_num=1.79e+7]\n",
      "Epoch 0:  95%|█████████▌| 4981/5234 [37:08<01:53,  2.24it/s, loss=2.85, v_num=1.79e+7]\n",
      "Epoch 0:  95%|█████████▌| 4982/5234 [37:08<01:52,  2.24it/s, loss=2.85, v_num=1.79e+7]\n",
      "Epoch 0:  95%|█████████▌| 4983/5234 [37:09<01:52,  2.24it/s, loss=2.85, v_num=1.79e+7]\n",
      "Epoch 0:  95%|█████████▌| 4984/5234 [37:09<01:51,  2.24it/s, loss=2.85, v_num=1.79e+7]\n",
      "Epoch 0:  95%|█████████▌| 4985/5234 [37:09<01:51,  2.24it/s, loss=2.85, v_num=1.79e+7]\n",
      "Epoch 0:  95%|█████████▌| 4986/5234 [37:09<01:50,  2.24it/s, loss=2.85, v_num=1.79e+7]\n",
      "Epoch 0:  95%|█████████▌| 4987/5234 [37:10<01:50,  2.24it/s, loss=2.85, v_num=1.79e+7]\n",
      "Epoch 0:  95%|█████████▌| 4988/5234 [37:10<01:49,  2.24it/s, loss=2.85, v_num=1.79e+7]\n",
      "Epoch 0:  95%|█████████▌| 4989/5234 [37:10<01:49,  2.24it/s, loss=2.85, v_num=1.79e+7]\n",
      "Epoch 0:  95%|█████████▌| 4990/5234 [37:10<01:49,  2.24it/s, loss=2.85, v_num=1.79e+7]\n",
      "Epoch 0:  95%|█████████▌| 4991/5234 [37:10<01:48,  2.24it/s, loss=2.85, v_num=1.79e+7]\n",
      "Epoch 0:  95%|█████████▌| 4992/5234 [37:11<01:48,  2.24it/s, loss=2.85, v_num=1.79e+7]\n",
      "Epoch 0:  95%|█████████▌| 4993/5234 [37:11<01:47,  2.24it/s, loss=2.85, v_num=1.79e+7]\n",
      "Epoch 0:  95%|█████████▌| 4994/5234 [37:11<01:47,  2.24it/s, loss=2.85, v_num=1.79e+7]\n",
      "Epoch 0:  95%|█████████▌| 4995/5234 [37:11<01:46,  2.24it/s, loss=2.85, v_num=1.79e+7]\n",
      "Epoch 0:  95%|█████████▌| 4996/5234 [37:12<01:46,  2.24it/s, loss=2.85, v_num=1.79e+7]\n",
      "Epoch 0:  95%|█████████▌| 4997/5234 [37:12<01:45,  2.24it/s, loss=2.85, v_num=1.79e+7]\n",
      "Epoch 0:  95%|█████████▌| 4998/5234 [37:12<01:45,  2.24it/s, loss=2.85, v_num=1.79e+7]\n",
      "Epoch 0:  96%|█████████▌| 4999/5234 [37:12<01:44,  2.24it/s, loss=2.85, v_num=1.79e+7]\n",
      "Epoch 0:  96%|█████████▌| 5000/5234 [37:15<01:44,  2.24it/s, loss=2.85, v_num=1.79e+7]\n",
      "Epoch 0:  96%|█████████▌| 5001/5234 [37:15<01:44,  2.24it/s, loss=2.85, v_num=1.79e+7]\n",
      "Epoch 0:  96%|█████████▌| 5002/5234 [37:16<01:43,  2.24it/s, loss=2.85, v_num=1.79e+7]\n",
      "Epoch 0:  96%|█████████▌| 5003/5234 [37:16<01:43,  2.24it/s, loss=2.85, v_num=1.79e+7]\n",
      "Epoch 0:  96%|█████████▌| 5004/5234 [37:16<01:42,  2.24it/s, loss=2.85, v_num=1.79e+7]\n",
      "Epoch 0:  96%|█████████▌| 5005/5234 [37:17<01:42,  2.24it/s, loss=2.85, v_num=1.79e+7]\n",
      "Epoch 0:  96%|█████████▌| 5006/5234 [37:17<01:41,  2.24it/s, loss=2.85, v_num=1.79e+7]\n",
      "Epoch 0:  96%|█████████▌| 5007/5234 [37:17<01:41,  2.24it/s, loss=2.85, v_num=1.79e+7]\n",
      "Epoch 0:  96%|█████████▌| 5008/5234 [37:17<01:40,  2.24it/s, loss=2.85, v_num=1.79e+7]\n",
      "Epoch 0:  96%|█████████▌| 5009/5234 [37:18<01:40,  2.24it/s, loss=2.85, v_num=1.79e+7]\n",
      "Epoch 0:  96%|█████████▌| 5010/5234 [37:18<01:40,  2.24it/s, loss=2.85, v_num=1.79e+7]\n",
      "Epoch 0:  96%|█████████▌| 5011/5234 [37:18<01:39,  2.24it/s, loss=2.85, v_num=1.79e+7]\n",
      "Epoch 0:  96%|█████████▌| 5012/5234 [37:18<01:39,  2.24it/s, loss=2.85, v_num=1.79e+7]\n",
      "Epoch 0:  96%|█████████▌| 5013/5234 [37:18<01:38,  2.24it/s, loss=2.85, v_num=1.79e+7]\n",
      "Epoch 0:  96%|█████████▌| 5014/5234 [37:19<01:38,  2.24it/s, loss=2.85, v_num=1.79e+7]\n",
      "Epoch 0:  96%|█████████▌| 5015/5234 [37:19<01:37,  2.24it/s, loss=2.85, v_num=1.79e+7]\n",
      "Epoch 0:  96%|█████████▌| 5016/5234 [37:19<01:37,  2.24it/s, loss=2.85, v_num=1.79e+7]\n",
      "Epoch 0:  96%|█████████▌| 5017/5234 [37:19<01:36,  2.24it/s, loss=2.85, v_num=1.79e+7]\n",
      "Epoch 0:  96%|█████████▌| 5018/5234 [37:20<01:36,  2.24it/s, loss=2.85, v_num=1.79e+7]\n",
      "Epoch 0:  96%|█████████▌| 5019/5234 [37:20<01:35,  2.24it/s, loss=2.85, v_num=1.79e+7]\n",
      "Epoch 0:  96%|█████████▌| 5020/5234 [37:22<01:35,  2.24it/s, loss=2.85, v_num=1.79e+7]\n",
      "Epoch 0:  96%|█████████▌| 5021/5234 [37:23<01:35,  2.24it/s, loss=2.85, v_num=1.79e+7]\n",
      "Epoch 0:  96%|█████████▌| 5022/5234 [37:23<01:34,  2.24it/s, loss=2.85, v_num=1.79e+7]\n",
      "Epoch 0:  96%|█████████▌| 5023/5234 [37:24<01:34,  2.24it/s, loss=2.85, v_num=1.79e+7]\n",
      "Epoch 0:  96%|█████████▌| 5024/5234 [37:24<01:33,  2.24it/s, loss=2.85, v_num=1.79e+7]\n",
      "Epoch 0:  96%|█████████▌| 5025/5234 [37:24<01:33,  2.24it/s, loss=2.85, v_num=1.79e+7]\n",
      "Epoch 0:  96%|█████████▌| 5026/5234 [37:24<01:32,  2.24it/s, loss=2.85, v_num=1.79e+7]\n",
      "Epoch 0:  96%|█████████▌| 5027/5234 [37:25<01:32,  2.24it/s, loss=2.85, v_num=1.79e+7]\n",
      "Epoch 0:  96%|█████████▌| 5028/5234 [37:25<01:31,  2.24it/s, loss=2.85, v_num=1.79e+7]\n",
      "Epoch 0:  96%|█████████▌| 5029/5234 [37:25<01:31,  2.24it/s, loss=2.85, v_num=1.79e+7]\n",
      "Epoch 0:  96%|█████████▌| 5030/5234 [37:25<01:31,  2.24it/s, loss=2.85, v_num=1.79e+7]\n",
      "Epoch 0:  96%|█████████▌| 5031/5234 [37:25<01:30,  2.24it/s, loss=2.85, v_num=1.79e+7]\n",
      "Epoch 0:  96%|█████████▌| 5032/5234 [37:26<01:30,  2.24it/s, loss=2.85, v_num=1.79e+7]\n",
      "Epoch 0:  96%|█████████▌| 5033/5234 [37:26<01:29,  2.24it/s, loss=2.85, v_num=1.79e+7]\n",
      "Epoch 0:  96%|█████████▌| 5034/5234 [37:26<01:29,  2.24it/s, loss=2.85, v_num=1.79e+7]\n",
      "Epoch 0:  96%|█████████▌| 5035/5234 [37:26<01:28,  2.24it/s, loss=2.85, v_num=1.79e+7]\n",
      "Epoch 0:  96%|█████████▌| 5036/5234 [37:27<01:28,  2.24it/s, loss=2.85, v_num=1.79e+7]\n",
      "Epoch 0:  96%|█████████▌| 5037/5234 [37:27<01:27,  2.24it/s, loss=2.85, v_num=1.79e+7]\n",
      "Epoch 0:  96%|█████████▋| 5038/5234 [37:27<01:27,  2.24it/s, loss=2.85, v_num=1.79e+7]\n",
      "Epoch 0:  96%|█████████▋| 5039/5234 [37:27<01:26,  2.24it/s, loss=2.85, v_num=1.79e+7]\n",
      "Epoch 0:  96%|█████████▋| 5040/5234 [37:30<01:26,  2.24it/s, loss=2.85, v_num=1.79e+7]\n",
      "Epoch 0:  96%|█████████▋| 5041/5234 [37:30<01:26,  2.24it/s, loss=2.85, v_num=1.79e+7]\n",
      "Epoch 0:  96%|█████████▋| 5042/5234 [37:32<01:25,  2.24it/s, loss=2.85, v_num=1.79e+7]\n",
      "Epoch 0:  96%|█████████▋| 5043/5234 [37:32<01:25,  2.24it/s, loss=2.85, v_num=1.79e+7]\n",
      "Epoch 0:  96%|█████████▋| 5044/5234 [37:32<01:24,  2.24it/s, loss=2.85, v_num=1.79e+7]\n",
      "Epoch 0:  96%|█████████▋| 5045/5234 [37:32<01:24,  2.24it/s, loss=2.85, v_num=1.79e+7]\n",
      "Epoch 0:  96%|█████████▋| 5046/5234 [37:33<01:23,  2.24it/s, loss=2.85, v_num=1.79e+7]\n",
      "Epoch 0:  96%|█████████▋| 5047/5234 [37:33<01:23,  2.24it/s, loss=2.85, v_num=1.79e+7]\n",
      "Epoch 0:  96%|█████████▋| 5048/5234 [37:33<01:23,  2.24it/s, loss=2.85, v_num=1.79e+7]\n",
      "Epoch 0:  96%|█████████▋| 5049/5234 [37:33<01:22,  2.24it/s, loss=2.85, v_num=1.79e+7]\n",
      "Epoch 0:  96%|█████████▋| 5050/5234 [37:34<01:22,  2.24it/s, loss=2.85, v_num=1.79e+7]\n",
      "Epoch 0:  97%|█████████▋| 5051/5234 [37:34<01:21,  2.24it/s, loss=2.85, v_num=1.79e+7]\n",
      "Epoch 0:  97%|█████████▋| 5052/5234 [37:34<01:21,  2.24it/s, loss=2.85, v_num=1.79e+7]\n",
      "Epoch 0:  97%|█████████▋| 5053/5234 [37:34<01:20,  2.24it/s, loss=2.85, v_num=1.79e+7]\n",
      "Epoch 0:  97%|█████████▋| 5054/5234 [37:34<01:20,  2.24it/s, loss=2.85, v_num=1.79e+7]\n",
      "Epoch 0:  97%|█████████▋| 5055/5234 [37:35<01:19,  2.24it/s, loss=2.85, v_num=1.79e+7]\n",
      "Epoch 0:  97%|█████████▋| 5056/5234 [37:35<01:19,  2.24it/s, loss=2.85, v_num=1.79e+7]\n",
      "Epoch 0:  97%|█████████▋| 5057/5234 [37:35<01:18,  2.24it/s, loss=2.85, v_num=1.79e+7]\n",
      "Epoch 0:  97%|█████████▋| 5058/5234 [37:35<01:18,  2.24it/s, loss=2.85, v_num=1.79e+7]\n",
      "Epoch 0:  97%|█████████▋| 5059/5234 [37:36<01:18,  2.24it/s, loss=2.85, v_num=1.79e+7]\n",
      "Epoch 0:  97%|█████████▋| 5060/5234 [37:37<01:17,  2.24it/s, loss=2.85, v_num=1.79e+7]\n",
      "Epoch 0:  97%|█████████▋| 5061/5234 [37:38<01:17,  2.24it/s, loss=2.85, v_num=1.79e+7]\n",
      "Epoch 0:  97%|█████████▋| 5062/5234 [37:38<01:16,  2.24it/s, loss=2.85, v_num=1.79e+7]\n",
      "Epoch 0:  97%|█████████▋| 5063/5234 [37:38<01:16,  2.24it/s, loss=2.85, v_num=1.79e+7]\n",
      "Epoch 0:  97%|█████████▋| 5064/5234 [37:39<01:15,  2.24it/s, loss=2.85, v_num=1.79e+7]\n",
      "Epoch 0:  97%|█████████▋| 5065/5234 [37:39<01:15,  2.24it/s, loss=2.85, v_num=1.79e+7]\n",
      "Epoch 0:  97%|█████████▋| 5066/5234 [37:39<01:14,  2.24it/s, loss=2.85, v_num=1.79e+7]\n",
      "Epoch 0:  97%|█████████▋| 5067/5234 [37:39<01:14,  2.24it/s, loss=2.85, v_num=1.79e+7]\n",
      "Epoch 0:  97%|█████████▋| 5068/5234 [37:40<01:14,  2.24it/s, loss=2.85, v_num=1.79e+7]\n",
      "Epoch 0:  97%|█████████▋| 5069/5234 [37:40<01:13,  2.24it/s, loss=2.85, v_num=1.79e+7]\n",
      "Epoch 0:  97%|█████████▋| 5070/5234 [37:40<01:13,  2.24it/s, loss=2.85, v_num=1.79e+7]\n",
      "Epoch 0:  97%|█████████▋| 5071/5234 [37:40<01:12,  2.24it/s, loss=2.85, v_num=1.79e+7]\n",
      "Epoch 0:  97%|█████████▋| 5072/5234 [37:41<01:12,  2.24it/s, loss=2.85, v_num=1.79e+7]\n",
      "Epoch 0:  97%|█████████▋| 5073/5234 [37:41<01:11,  2.24it/s, loss=2.85, v_num=1.79e+7]\n",
      "Epoch 0:  97%|█████████▋| 5074/5234 [37:41<01:11,  2.24it/s, loss=2.85, v_num=1.79e+7]\n",
      "Epoch 0:  97%|█████████▋| 5075/5234 [37:42<01:10,  2.24it/s, loss=2.85, v_num=1.79e+7]\n",
      "Epoch 0:  97%|█████████▋| 5076/5234 [37:42<01:10,  2.24it/s, loss=2.85, v_num=1.79e+7]\n",
      "Epoch 0:  97%|█████████▋| 5077/5234 [37:42<01:09,  2.24it/s, loss=2.85, v_num=1.79e+7]\n",
      "Epoch 0:  97%|█████████▋| 5078/5234 [37:42<01:09,  2.24it/s, loss=2.85, v_num=1.79e+7]\n",
      "Epoch 0:  97%|█████████▋| 5079/5234 [37:42<01:09,  2.24it/s, loss=2.85, v_num=1.79e+7]\n",
      "Epoch 0:  97%|█████████▋| 5080/5234 [37:45<01:08,  2.24it/s, loss=2.85, v_num=1.79e+7]\n",
      "Epoch 0:  97%|█████████▋| 5081/5234 [37:46<01:08,  2.24it/s, loss=2.85, v_num=1.79e+7]\n",
      "Epoch 0:  97%|█████████▋| 5082/5234 [37:46<01:07,  2.24it/s, loss=2.85, v_num=1.79e+7]\n",
      "Epoch 0:  97%|█████████▋| 5083/5234 [37:46<01:07,  2.24it/s, loss=2.85, v_num=1.79e+7]\n",
      "Epoch 0:  97%|█████████▋| 5084/5234 [37:46<01:06,  2.24it/s, loss=2.85, v_num=1.79e+7]\n",
      "Epoch 0:  97%|█████████▋| 5085/5234 [37:47<01:06,  2.24it/s, loss=2.85, v_num=1.79e+7]\n",
      "Epoch 0:  97%|█████████▋| 5086/5234 [37:47<01:05,  2.24it/s, loss=2.85, v_num=1.79e+7]\n",
      "Epoch 0:  97%|█████████▋| 5087/5234 [37:47<01:05,  2.24it/s, loss=2.85, v_num=1.79e+7]\n",
      "Epoch 0:  97%|█████████▋| 5088/5234 [37:47<01:05,  2.24it/s, loss=2.85, v_num=1.79e+7]\n",
      "Epoch 0:  97%|█████████▋| 5089/5234 [37:48<01:04,  2.24it/s, loss=2.85, v_num=1.79e+7]\n",
      "Epoch 0:  97%|█████████▋| 5090/5234 [37:48<01:04,  2.24it/s, loss=2.85, v_num=1.79e+7]\n",
      "Epoch 0:  97%|█████████▋| 5091/5234 [37:48<01:03,  2.24it/s, loss=2.85, v_num=1.79e+7]\n",
      "Epoch 0:  97%|█████████▋| 5092/5234 [37:49<01:03,  2.24it/s, loss=2.85, v_num=1.79e+7]\n",
      "Epoch 0:  97%|█████████▋| 5093/5234 [37:49<01:02,  2.24it/s, loss=2.85, v_num=1.79e+7]\n",
      "Epoch 0:  97%|█████████▋| 5094/5234 [37:49<01:02,  2.24it/s, loss=2.85, v_num=1.79e+7]\n",
      "Epoch 0:  97%|█████████▋| 5095/5234 [37:49<01:01,  2.24it/s, loss=2.85, v_num=1.79e+7]\n",
      "Epoch 0:  97%|█████████▋| 5096/5234 [37:49<01:01,  2.25it/s, loss=2.85, v_num=1.79e+7]\n",
      "Epoch 0:  97%|█████████▋| 5097/5234 [37:50<01:01,  2.25it/s, loss=2.85, v_num=1.79e+7]\n",
      "Epoch 0:  97%|█████████▋| 5098/5234 [37:50<01:00,  2.25it/s, loss=2.85, v_num=1.79e+7]\n",
      "Epoch 0:  97%|█████████▋| 5099/5234 [37:50<01:00,  2.25it/s, loss=2.85, v_num=1.79e+7]\n",
      "Epoch 0:  97%|█████████▋| 5100/5234 [37:53<00:59,  2.24it/s, loss=2.85, v_num=1.79e+7]\n",
      "Epoch 0:  97%|█████████▋| 5101/5234 [37:53<00:59,  2.24it/s, loss=2.85, v_num=1.79e+7]\n",
      "Epoch 0:  97%|█████████▋| 5102/5234 [37:54<00:58,  2.24it/s, loss=2.85, v_num=1.79e+7]\n",
      "Epoch 0:  97%|█████████▋| 5103/5234 [37:54<00:58,  2.24it/s, loss=2.85, v_num=1.79e+7]\n",
      "Epoch 0:  98%|█████████▊| 5104/5234 [37:54<00:57,  2.24it/s, loss=2.85, v_num=1.79e+7]\n",
      "Epoch 0:  98%|█████████▊| 5105/5234 [37:54<00:57,  2.24it/s, loss=2.85, v_num=1.79e+7]\n",
      "Epoch 0:  98%|█████████▊| 5106/5234 [37:55<00:57,  2.24it/s, loss=2.85, v_num=1.79e+7]\n",
      "Epoch 0:  98%|█████████▊| 5107/5234 [37:55<00:56,  2.24it/s, loss=2.85, v_num=1.79e+7]\n",
      "Epoch 0:  98%|█████████▊| 5108/5234 [37:55<00:56,  2.24it/s, loss=2.85, v_num=1.79e+7]\n",
      "Epoch 0:  98%|█████████▊| 5109/5234 [37:55<00:55,  2.24it/s, loss=2.85, v_num=1.79e+7]\n",
      "Epoch 0:  98%|█████████▊| 5110/5234 [37:55<00:55,  2.25it/s, loss=2.85, v_num=1.79e+7]\n",
      "Epoch 0:  98%|█████████▊| 5111/5234 [37:56<00:54,  2.25it/s, loss=2.85, v_num=1.79e+7]\n",
      "Epoch 0:  98%|█████████▊| 5112/5234 [37:56<00:54,  2.25it/s, loss=2.85, v_num=1.79e+7]\n",
      "Epoch 0:  98%|█████████▊| 5113/5234 [37:57<00:53,  2.25it/s, loss=2.85, v_num=1.79e+7]\n",
      "Epoch 0:  98%|█████████▊| 5114/5234 [37:57<00:53,  2.25it/s, loss=2.85, v_num=1.79e+7]\n",
      "Epoch 0:  98%|█████████▊| 5115/5234 [37:57<00:52,  2.25it/s, loss=2.85, v_num=1.79e+7]\n",
      "Epoch 0:  98%|█████████▊| 5116/5234 [37:57<00:52,  2.25it/s, loss=2.85, v_num=1.79e+7]\n",
      "Epoch 0:  98%|█████████▊| 5117/5234 [37:57<00:52,  2.25it/s, loss=2.85, v_num=1.79e+7]\n",
      "Epoch 0:  98%|█████████▊| 5118/5234 [37:58<00:51,  2.25it/s, loss=2.85, v_num=1.79e+7]\n",
      "Epoch 0:  98%|█████████▊| 5119/5234 [37:58<00:51,  2.25it/s, loss=2.85, v_num=1.79e+7]\n",
      "Epoch 0:  98%|█████████▊| 5120/5234 [38:00<00:50,  2.25it/s, loss=2.85, v_num=1.79e+7]\n",
      "Epoch 0:  98%|█████████▊| 5121/5234 [38:01<00:50,  2.24it/s, loss=2.85, v_num=1.79e+7]\n",
      "Epoch 0:  98%|█████████▊| 5122/5234 [38:01<00:49,  2.24it/s, loss=2.85, v_num=1.79e+7]\n",
      "Epoch 0:  98%|█████████▊| 5123/5234 [38:01<00:49,  2.25it/s, loss=2.85, v_num=1.79e+7]\n",
      "Epoch 0:  98%|█████████▊| 5124/5234 [38:02<00:48,  2.25it/s, loss=2.85, v_num=1.79e+7]\n",
      "Epoch 0:  98%|█████████▊| 5125/5234 [38:02<00:48,  2.25it/s, loss=2.85, v_num=1.79e+7]\n",
      "Epoch 0:  98%|█████████▊| 5126/5234 [38:02<00:48,  2.25it/s, loss=2.85, v_num=1.79e+7]\n",
      "Epoch 0:  98%|█████████▊| 5127/5234 [38:02<00:47,  2.25it/s, loss=2.85, v_num=1.79e+7]\n",
      "Epoch 0:  98%|█████████▊| 5128/5234 [38:03<00:47,  2.25it/s, loss=2.85, v_num=1.79e+7]\n",
      "Epoch 0:  98%|█████████▊| 5129/5234 [38:03<00:46,  2.25it/s, loss=2.85, v_num=1.79e+7]\n",
      "Epoch 0:  98%|█████████▊| 5130/5234 [38:03<00:46,  2.25it/s, loss=2.85, v_num=1.79e+7]\n",
      "Epoch 0:  98%|█████████▊| 5131/5234 [38:03<00:45,  2.25it/s, loss=2.85, v_num=1.79e+7]\n",
      "Epoch 0:  98%|█████████▊| 5132/5234 [38:04<00:45,  2.25it/s, loss=2.85, v_num=1.79e+7]\n",
      "Epoch 0:  98%|█████████▊| 5133/5234 [38:04<00:44,  2.25it/s, loss=2.85, v_num=1.79e+7]\n",
      "Epoch 0:  98%|█████████▊| 5134/5234 [38:04<00:44,  2.25it/s, loss=2.85, v_num=1.79e+7]\n",
      "Epoch 0:  98%|█████████▊| 5135/5234 [38:04<00:44,  2.25it/s, loss=2.85, v_num=1.79e+7]\n",
      "Epoch 0:  98%|█████████▊| 5136/5234 [38:05<00:43,  2.25it/s, loss=2.85, v_num=1.79e+7]\n",
      "Epoch 0:  98%|█████████▊| 5137/5234 [38:05<00:43,  2.25it/s, loss=2.85, v_num=1.79e+7]\n",
      "Epoch 0:  98%|█████████▊| 5138/5234 [38:05<00:42,  2.25it/s, loss=2.85, v_num=1.79e+7]\n",
      "Epoch 0:  98%|█████████▊| 5139/5234 [38:05<00:42,  2.25it/s, loss=2.85, v_num=1.79e+7]\n",
      "Epoch 0:  98%|█████████▊| 5140/5234 [38:08<00:41,  2.25it/s, loss=2.85, v_num=1.79e+7]\n",
      "Epoch 0:  98%|█████████▊| 5141/5234 [38:08<00:41,  2.25it/s, loss=2.85, v_num=1.79e+7]\n",
      "Epoch 0:  98%|█████████▊| 5142/5234 [38:09<00:40,  2.25it/s, loss=2.85, v_num=1.79e+7]\n",
      "Epoch 0:  98%|█████████▊| 5143/5234 [38:09<00:40,  2.25it/s, loss=2.85, v_num=1.79e+7]\n",
      "Epoch 0:  98%|█████████▊| 5144/5234 [38:09<00:40,  2.25it/s, loss=2.85, v_num=1.79e+7]\n",
      "Epoch 0:  98%|█████████▊| 5145/5234 [38:09<00:39,  2.25it/s, loss=2.85, v_num=1.79e+7]\n",
      "Epoch 0:  98%|█████████▊| 5146/5234 [38:10<00:39,  2.25it/s, loss=2.85, v_num=1.79e+7]\n",
      "Epoch 0:  98%|█████████▊| 5147/5234 [38:10<00:38,  2.25it/s, loss=2.85, v_num=1.79e+7]\n",
      "Epoch 0:  98%|█████████▊| 5148/5234 [38:10<00:38,  2.25it/s, loss=2.85, v_num=1.79e+7]\n",
      "Epoch 0:  98%|█████████▊| 5149/5234 [38:10<00:37,  2.25it/s, loss=2.85, v_num=1.79e+7]\n",
      "Epoch 0:  98%|█████████▊| 5150/5234 [38:10<00:37,  2.25it/s, loss=2.85, v_num=1.79e+7]\n",
      "Epoch 0:  98%|█████████▊| 5151/5234 [38:11<00:36,  2.25it/s, loss=2.85, v_num=1.79e+7]\n",
      "Epoch 0:  98%|█████████▊| 5152/5234 [38:12<00:36,  2.25it/s, loss=2.85, v_num=1.79e+7]\n",
      "Epoch 0:  98%|█████████▊| 5153/5234 [38:12<00:36,  2.25it/s, loss=2.85, v_num=1.79e+7]\n",
      "Epoch 0:  98%|█████████▊| 5154/5234 [38:12<00:35,  2.25it/s, loss=2.85, v_num=1.79e+7]\n",
      "Epoch 0:  98%|█████████▊| 5155/5234 [38:12<00:35,  2.25it/s, loss=2.85, v_num=1.79e+7]\n",
      "Epoch 0:  99%|█████████▊| 5156/5234 [38:12<00:34,  2.25it/s, loss=2.85, v_num=1.79e+7]\n",
      "Epoch 0:  99%|█████████▊| 5157/5234 [38:13<00:34,  2.25it/s, loss=2.85, v_num=1.79e+7]\n",
      "Epoch 0:  99%|█████████▊| 5158/5234 [38:13<00:33,  2.25it/s, loss=2.85, v_num=1.79e+7]\n",
      "Epoch 0:  99%|█████████▊| 5159/5234 [38:13<00:33,  2.25it/s, loss=2.85, v_num=1.79e+7]\n",
      "Epoch 0:  99%|█████████▊| 5160/5234 [38:15<00:32,  2.25it/s, loss=2.85, v_num=1.79e+7]\n",
      "Epoch 0:  99%|█████████▊| 5161/5234 [38:16<00:32,  2.25it/s, loss=2.85, v_num=1.79e+7]\n",
      "Epoch 0:  99%|█████████▊| 5162/5234 [38:16<00:32,  2.25it/s, loss=2.85, v_num=1.79e+7]\n",
      "Epoch 0:  99%|█████████▊| 5163/5234 [38:16<00:31,  2.25it/s, loss=2.85, v_num=1.79e+7]\n",
      "Epoch 0:  99%|█████████▊| 5164/5234 [38:17<00:31,  2.25it/s, loss=2.85, v_num=1.79e+7]\n",
      "Epoch 0:  99%|█████████▊| 5165/5234 [38:17<00:30,  2.25it/s, loss=2.85, v_num=1.79e+7]\n",
      "Epoch 0:  99%|█████████▊| 5166/5234 [38:17<00:30,  2.25it/s, loss=2.85, v_num=1.79e+7]\n",
      "Epoch 0:  99%|█████████▊| 5167/5234 [38:17<00:29,  2.25it/s, loss=2.85, v_num=1.79e+7]\n",
      "Epoch 0:  99%|█████████▊| 5168/5234 [38:18<00:29,  2.25it/s, loss=2.85, v_num=1.79e+7]\n",
      "Epoch 0:  99%|█████████▉| 5169/5234 [38:18<00:28,  2.25it/s, loss=2.85, v_num=1.79e+7]\n",
      "Epoch 0:  99%|█████████▉| 5170/5234 [38:18<00:28,  2.25it/s, loss=2.85, v_num=1.79e+7]\n",
      "Epoch 0:  99%|█████████▉| 5171/5234 [38:18<00:28,  2.25it/s, loss=2.85, v_num=1.79e+7]\n",
      "Epoch 0:  99%|█████████▉| 5172/5234 [38:19<00:27,  2.25it/s, loss=2.85, v_num=1.79e+7]\n",
      "Epoch 0:  99%|█████████▉| 5173/5234 [38:19<00:27,  2.25it/s, loss=2.85, v_num=1.79e+7]\n",
      "Epoch 0:  99%|█████████▉| 5174/5234 [38:19<00:26,  2.25it/s, loss=2.85, v_num=1.79e+7]\n",
      "Epoch 0:  99%|█████████▉| 5175/5234 [38:20<00:26,  2.25it/s, loss=2.85, v_num=1.79e+7]\n",
      "Epoch 0:  99%|█████████▉| 5176/5234 [38:20<00:25,  2.25it/s, loss=2.85, v_num=1.79e+7]\n",
      "Epoch 0:  99%|█████████▉| 5177/5234 [38:20<00:25,  2.25it/s, loss=2.85, v_num=1.79e+7]\n",
      "Epoch 0:  99%|█████████▉| 5178/5234 [38:20<00:24,  2.25it/s, loss=2.85, v_num=1.79e+7]\n",
      "Epoch 0:  99%|█████████▉| 5179/5234 [38:21<00:24,  2.25it/s, loss=2.85, v_num=1.79e+7]\n",
      "Epoch 0:  99%|█████████▉| 5180/5234 [38:23<00:24,  2.25it/s, loss=2.85, v_num=1.79e+7]\n",
      "Epoch 0:  99%|█████████▉| 5181/5234 [38:24<00:23,  2.25it/s, loss=2.85, v_num=1.79e+7]\n",
      "Epoch 0:  99%|█████████▉| 5182/5234 [38:24<00:23,  2.25it/s, loss=2.85, v_num=1.79e+7]\n",
      "Epoch 0:  99%|█████████▉| 5183/5234 [38:24<00:22,  2.25it/s, loss=2.85, v_num=1.79e+7]\n",
      "Epoch 0:  99%|█████████▉| 5184/5234 [38:24<00:22,  2.25it/s, loss=2.85, v_num=1.79e+7]\n",
      "Epoch 0:  99%|█████████▉| 5185/5234 [38:25<00:21,  2.25it/s, loss=2.85, v_num=1.79e+7]\n",
      "Epoch 0:  99%|█████████▉| 5186/5234 [38:25<00:21,  2.25it/s, loss=2.85, v_num=1.79e+7]\n",
      "Epoch 0:  99%|█████████▉| 5187/5234 [38:25<00:20,  2.25it/s, loss=2.85, v_num=1.79e+7]\n",
      "Epoch 0:  99%|█████████▉| 5188/5234 [38:25<00:20,  2.25it/s, loss=2.85, v_num=1.79e+7]\n",
      "Epoch 0:  99%|█████████▉| 5189/5234 [38:25<00:19,  2.25it/s, loss=2.85, v_num=1.79e+7]\n",
      "Epoch 0:  99%|█████████▉| 5190/5234 [38:26<00:19,  2.25it/s, loss=2.85, v_num=1.79e+7]\n",
      "Epoch 0:  99%|█████████▉| 5191/5234 [38:26<00:19,  2.25it/s, loss=2.85, v_num=1.79e+7]\n",
      "Epoch 0:  99%|█████████▉| 5192/5234 [38:27<00:18,  2.25it/s, loss=2.85, v_num=1.79e+7]\n",
      "Epoch 0:  99%|█████████▉| 5193/5234 [38:27<00:18,  2.25it/s, loss=2.85, v_num=1.79e+7]\n",
      "Epoch 0:  99%|█████████▉| 5194/5234 [38:28<00:17,  2.25it/s, loss=2.85, v_num=1.79e+7]\n",
      "Epoch 0:  99%|█████████▉| 5195/5234 [38:28<00:17,  2.25it/s, loss=2.85, v_num=1.79e+7]\n",
      "Epoch 0:  99%|█████████▉| 5196/5234 [38:28<00:16,  2.25it/s, loss=2.85, v_num=1.79e+7]\n",
      "Epoch 0:  99%|█████████▉| 5197/5234 [38:28<00:16,  2.25it/s, loss=2.85, v_num=1.79e+7]\n",
      "Epoch 0:  99%|█████████▉| 5198/5234 [38:28<00:15,  2.25it/s, loss=2.85, v_num=1.79e+7]\n",
      "Epoch 0:  99%|█████████▉| 5199/5234 [38:29<00:15,  2.25it/s, loss=2.85, v_num=1.79e+7]\n",
      "Epoch 0:  99%|█████████▉| 5200/5234 [38:31<00:15,  2.25it/s, loss=2.85, v_num=1.79e+7]\n",
      "Epoch 0:  99%|█████████▉| 5201/5234 [38:31<00:14,  2.25it/s, loss=2.85, v_num=1.79e+7]\n",
      "Epoch 0:  99%|█████████▉| 5202/5234 [38:31<00:14,  2.25it/s, loss=2.85, v_num=1.79e+7]\n",
      "Epoch 0:  99%|█████████▉| 5203/5234 [38:32<00:13,  2.25it/s, loss=2.85, v_num=1.79e+7]\n",
      "Epoch 0:  99%|█████████▉| 5204/5234 [38:32<00:13,  2.25it/s, loss=2.85, v_num=1.79e+7]\n",
      "Epoch 0:  99%|█████████▉| 5205/5234 [38:32<00:12,  2.25it/s, loss=2.85, v_num=1.79e+7]\n",
      "Epoch 0:  99%|█████████▉| 5206/5234 [38:32<00:12,  2.25it/s, loss=2.85, v_num=1.79e+7]\n",
      "Epoch 0:  99%|█████████▉| 5207/5234 [38:33<00:11,  2.25it/s, loss=2.85, v_num=1.79e+7]\n",
      "Epoch 0: 100%|█████████▉| 5208/5234 [38:33<00:11,  2.25it/s, loss=2.85, v_num=1.79e+7]\n",
      "Epoch 0: 100%|█████████▉| 5209/5234 [38:33<00:11,  2.25it/s, loss=2.85, v_num=1.79e+7]\n",
      "Epoch 0: 100%|█████████▉| 5210/5234 [38:33<00:10,  2.25it/s, loss=2.85, v_num=1.79e+7]\n",
      "Epoch 0: 100%|█████████▉| 5211/5234 [38:33<00:10,  2.25it/s, loss=2.85, v_num=1.79e+7]\n",
      "Epoch 0: 100%|█████████▉| 5212/5234 [38:34<00:09,  2.25it/s, loss=2.85, v_num=1.79e+7]\n",
      "Epoch 0: 100%|█████████▉| 5213/5234 [38:34<00:09,  2.25it/s, loss=2.85, v_num=1.79e+7]\n",
      "Epoch 0: 100%|█████████▉| 5214/5234 [38:35<00:08,  2.25it/s, loss=2.85, v_num=1.79e+7]\n",
      "Epoch 0: 100%|█████████▉| 5215/5234 [38:35<00:08,  2.25it/s, loss=2.85, v_num=1.79e+7]\n",
      "Epoch 0: 100%|█████████▉| 5216/5234 [38:35<00:07,  2.25it/s, loss=2.85, v_num=1.79e+7]\n",
      "Epoch 0: 100%|█████████▉| 5217/5234 [38:35<00:07,  2.25it/s, loss=2.85, v_num=1.79e+7]\n",
      "Epoch 0: 100%|█████████▉| 5218/5234 [38:36<00:07,  2.25it/s, loss=2.85, v_num=1.79e+7]\n",
      "Epoch 0: 100%|█████████▉| 5219/5234 [38:36<00:06,  2.25it/s, loss=2.85, v_num=1.79e+7]\n",
      "Epoch 0: 100%|█████████▉| 5220/5234 [38:37<00:06,  2.25it/s, loss=2.85, v_num=1.79e+7]\n",
      "Epoch 0: 100%|█████████▉| 5221/5234 [38:38<00:05,  2.25it/s, loss=2.85, v_num=1.79e+7]\n",
      "Epoch 0: 100%|█████████▉| 5222/5234 [38:38<00:05,  2.25it/s, loss=2.85, v_num=1.79e+7]\n",
      "Epoch 0: 100%|█████████▉| 5223/5234 [38:39<00:04,  2.25it/s, loss=2.85, v_num=1.79e+7]\n",
      "Epoch 0: 100%|█████████▉| 5224/5234 [38:39<00:04,  2.25it/s, loss=2.85, v_num=1.79e+7]\n",
      "Epoch 0: 100%|█████████▉| 5225/5234 [38:39<00:03,  2.25it/s, loss=2.85, v_num=1.79e+7]\n",
      "Epoch 0: 100%|█████████▉| 5226/5234 [38:39<00:03,  2.25it/s, loss=2.85, v_num=1.79e+7]\n",
      "Epoch 0: 100%|█████████▉| 5227/5234 [38:39<00:03,  2.25it/s, loss=2.85, v_num=1.79e+7]\n",
      "Epoch 0: 100%|█████████▉| 5228/5234 [38:40<00:02,  2.25it/s, loss=2.85, v_num=1.79e+7]\n",
      "Epoch 0: 100%|█████████▉| 5229/5234 [38:40<00:02,  2.25it/s, loss=2.85, v_num=1.79e+7]\n",
      "Epoch 0: 100%|█████████▉| 5230/5234 [38:40<00:01,  2.25it/s, loss=2.85, v_num=1.79e+7]\n",
      "Epoch 0: 100%|█████████▉| 5231/5234 [38:40<00:01,  2.25it/s, loss=2.85, v_num=1.79e+7]\n",
      "Epoch 0: 100%|█████████▉| 5232/5234 [38:41<00:00,  2.25it/s, loss=2.85, v_num=1.79e+7]\n",
      "Epoch 0: 100%|█████████▉| 5233/5234 [38:41<00:00,  2.25it/s, loss=2.85, v_num=1.79e+7]\n",
      "Epoch 0: 100%|██████████| 5234/5234 [38:41<00:00,  2.25it/s, loss=2.85, v_num=1.79e+7]\n",
      "Epoch 0: 100%|██████████| 5234/5234 [38:41<00:00,  2.25it/s, loss=2.85, v_num=1.79e+7]\n"
     ]
    }
   ],
   "source": [
    "!rm -rf ./lightning_logs/version_$SLURM_JOBID\n",
    "\n",
    "from pytorch_lightning import Trainer\n",
    "from pytorch_lightning.callbacks.early_stopping import EarlyStopping\n",
    "from src.torch_helpers import NoValProgressBar\n",
    "\n",
    "trainer = Trainer(\n",
    "    gpus=1,\n",
    "    precision=32,\n",
    "#     log_every_n_steps=10,\n",
    "    max_epochs=1,\n",
    "    callbacks=[\n",
    "        EarlyStopping(\n",
    "            monitor=hparams['es_monitor'],\n",
    "            mode=hparams['es_mode'],\n",
    "            patience=hparams['es_patience']\n",
    "        ),\n",
    "        NoValProgressBar()\n",
    "    ]\n",
    ")\n",
    "\n",
    "trainer.fit(model, dm)"
   ]
  },
  {
   "cell_type": "code",
   "execution_count": 25,
   "metadata": {},
   "outputs": [],
   "source": [
    "# from tqdm import tqdm\n",
    "# train_seqs = {item['sequence'] for item,_ in tqdm(zip(dm.train_dataset,range(1000)),position=0)}\n",
    "# val_seqs = {item['sequence'] for item,_ in tqdm(zip(dm.val_dataset,range(1000)),position=0)}\n",
    "# test_seqs = {item['sequence'] for item,_ in tqdm(zip(dm.test_dataset,range(1000)),position=0)}\n",
    "# train_seqs&val_seqs, train_seqs&test_seqs, test_seqs&val_seqs"
   ]
  },
  {
   "cell_type": "code",
   "execution_count": 37,
   "metadata": {},
   "outputs": [
    {
     "data": {
      "image/png": "[encoded data removed]",
      "text/plain": [
       "<Figure size 432x216 with 1 Axes>"
      ]
     },
     "metadata": {
      "image/png": {
       "height": 209,
       "width": 370
      },
      "needs_background": "light"
     },
     "output_type": "display_data"
    },
    {
     "data": {
      "image/png": "[encoded data removed]",
      "text/plain": [
       "<Figure size 432x216 with 1 Axes>"
      ]
     },
     "metadata": {
      "image/png": {
       "height": 209,
       "width": 402
      },
      "needs_background": "light"
     },
     "output_type": "display_data"
    },
    {
     "data": {
      "image/png": "[encoded data removed]",
      "text/plain": [
       "<Figure size 432x216 with 1 Axes>"
      ]
     },
     "metadata": {
      "image/png": {
       "height": 209,
       "width": 370
      },
      "needs_background": "light"
     },
     "output_type": "display_data"
    },
    {
     "data": {
      "image/png": "[encoded data removed]",
      "text/plain": [
       "<Figure size 432x216 with 1 Axes>"
      ]
     },
     "metadata": {
      "image/png": {
       "height": 209,
       "width": 389
      },
      "needs_background": "light"
     },
     "output_type": "display_data"
    },
    {
     "data": {
      "image/png": "[encoded data removed]",
      "text/plain": [
       "<Figure size 432x216 with 1 Axes>"
      ]
     },
     "metadata": {
      "image/png": {
       "height": 209,
       "width": 402
      },
      "needs_background": "light"
     },
     "output_type": "display_data"
    },
    {
     "data": {
      "image/png": "[encoded data removed]",
      "text/plain": [
       "<Figure size 432x216 with 1 Axes>"
      ]
     },
     "metadata": {
      "image/png": {
       "height": 209,
       "width": 370
      },
      "needs_background": "light"
     },
     "output_type": "display_data"
    },
    {
     "data": {
      "image/png": "[encoded data removed]",
      "text/plain": [
       "<Figure size 432x216 with 1 Axes>"
      ]
     },
     "metadata": {
      "image/png": {
       "height": 209,
       "width": 380
      },
      "needs_background": "light"
     },
     "output_type": "display_data"
    },
    {
     "data": {
      "image/png": "[encoded data removed]",
      "text/plain": [
       "<Figure size 432x216 with 1 Axes>"
      ]
     },
     "metadata": {
      "image/png": {
       "height": 209,
       "width": 370
      },
      "needs_background": "light"
     },
     "output_type": "display_data"
    },
    {
     "data": {
      "image/png": "[encoded data removed]",
      "text/plain": [
       "<Figure size 432x216 with 1 Axes>"
      ]
     },
     "metadata": {
      "image/png": {
       "height": 209,
       "width": 383
      },
      "needs_background": "light"
     },
     "output_type": "display_data"
    },
    {
     "data": {
      "image/png": "[encoded data removed]",
      "text/plain": [
       "<Figure size 432x216 with 1 Axes>"
      ]
     },
     "metadata": {
      "image/png": {
       "height": 209,
       "width": 402
      },
      "needs_background": "light"
     },
     "output_type": "display_data"
    },
    {
     "data": {
      "image/png": "[encoded data removed]",
      "text/plain": [
       "<Figure size 432x216 with 1 Axes>"
      ]
     },
     "metadata": {
      "image/png": {
       "height": 209,
       "width": 402
      },
      "needs_background": "light"
     },
     "output_type": "display_data"
    }
   ],
   "source": [
    "from src.datamodule import MSDataModule\n",
    "from src.model import MSTransformer\n",
    "from src.plotting import faststem\n",
    "from src.spectrum import fragment_mz_tensor\n",
    "from tqdm import tqdm\n",
    "\n",
    "# [last_ckpt] = !ls -t1 ./lightning_logs/*/checkpoints/*.ckpt | head -n1\n",
    "# print(last_ckpt)\n",
    "# model = MSTransformer.load_from_checkpoint(last_ckpt)\n",
    "# dm = MSDataModule(**dict(model.hparams))\n",
    "\n",
    "dm.setup()\n",
    "\n",
    "model = model.cpu()\n",
    "model.eval();\n",
    "\n",
    "for i, batch in enumerate(dm.predict_dataloader()):\n",
    "    batch['y_pred'] = model.predict_step(batch)\n",
    "\n",
    "    mz = fragment_mz_tensor(batch['sequence'][0]).ravel()\n",
    "    y = batch['y'][0].detach().cpu().numpy().ravel()\n",
    "    y_pred = batch['y_pred'][0].detach().cpu().numpy().ravel()\n",
    "    \n",
    "    plt.figure(figsize=(6,3))\n",
    "    faststem(mz,y)\n",
    "    faststem(mz,-y_pred)\n",
    "    yl = max(np.abs(plt.ylim()))\n",
    "    plt.ylim([-yl,yl])\n",
    "    plt.title(f\"{batch['sequence'][0]} {batch['charge'][0]}+\")\n",
    "    \n",
    "    if i == 10:\n",
    "        break"
   ]
  },
  {
   "cell_type": "code",
   "execution_count": null,
   "metadata": {},
   "outputs": [],
   "source": [
    "# the CNN does not shrink unseen peaks to zero, while the transformer does"
   ]
  }
 ],
 "metadata": {
  "kernelspec": {
   "display_name": "Python [conda env:.conda-MSPretraining]",
   "language": "python",
   "name": "conda-env-.conda-MSPretraining-py"
  },
  "language_info": {
   "codemirror_mode": {
    "name": "ipython",
    "version": 3
   },
   "file_extension": ".py",
   "mimetype": "text/x-python",
   "name": "python",
   "nbconvert_exporter": "python",
   "pygments_lexer": "ipython3",
   "version": "3.9.12"
  },
  "toc-autonumbering": false
 },
 "nbformat": 4,
 "nbformat_minor": 4
}
