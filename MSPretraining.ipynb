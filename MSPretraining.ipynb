{
 "cells": [
  {
   "cell_type": "code",
   "execution_count": 1,
   "metadata": {},
   "outputs": [],
   "source": [
    "import numpy as np\n",
    "import numpy.random as npr\n",
    "import pandas as pd\n",
    "import matplotlib.pyplot as plt\n",
    "import seaborn as sns\n",
    "%config InlineBackend.figure_format = 'retina'"
   ]
  },
  {
   "cell_type": "code",
   "execution_count": 2,
   "metadata": {},
   "outputs": [],
   "source": [
    "# disable for training!\n",
    "# %load_ext autoreload\n",
    "# %autoreload 2"
   ]
  },
  {
   "cell_type": "code",
   "execution_count": 3,
   "metadata": {},
   "outputs": [
    {
     "name": "stdout",
     "output_type": "stream",
     "text": [
      "python train.py --hdf_path ./data/ProteomeTools.hdf --batch_size 512 --train_split 0.85 --val_split 0.05 --cdhit_threshold 0.5 --cdhit_word_length 3 --tmp_env TMPDIR --num_workers 4 --random_state 0 --model_dim 128 --model_depth 16 --lr 0.0005 --dropout 0 --num_gpus 1 --max_epochs 1000 --precision 32 --strategy ddp_find_unused_parameters_false --es_monitor val_cross_entropy --es_mode min --es_patience 10 --resume_from_checkpoint None --num_nodes 4 --num_cpus 8 --conda_env MSPretraining --time 0-6:00:00 --login_node login-2\n"
     ]
    }
   ],
   "source": [
    "hparams = dict(\n",
    "    # datamodule\n",
    "    hdf_path='./data/ProteomeTools.hdf',\n",
    "    batch_size=512,\n",
    "    train_split=0.85,\n",
    "    val_split=0.05,\n",
    "    cdhit_threshold=0.5,\n",
    "    cdhit_word_length=3,\n",
    "    tmp_env='TMPDIR',\n",
    "    num_workers=4, # dont need many when loading everything into ram\n",
    "    random_state=0,\n",
    "    \n",
    "    # model\n",
    "    model_dim=128, # same size as CARP-600k\n",
    "    model_depth=16,\n",
    "    lr=5e-4,\n",
    "    dropout=0, # this is only being applied to spectra rn\n",
    "\n",
    "    # trainer\n",
    "    num_gpus=1,\n",
    "    max_epochs=1000,\n",
    "    precision=32,\n",
    "    strategy='ddp_find_unused_parameters_false',\n",
    "#     strategy='dp',\n",
    "    es_monitor='val_cross_entropy',\n",
    "    es_mode='min',\n",
    "    es_patience=10,\n",
    "#     val_check_interval=1,\n",
    "#     resume_from_checkpoint='\"./lightning_logs/version_17869980/checkpoints/epoch=92-step=114948-best.ckpt\"',\n",
    "    resume_from_checkpoint=None,\n",
    "    \n",
    "    # cluster\n",
    "    num_nodes=4,\n",
    "    num_cpus=8,\n",
    "    conda_env='MSPretraining',\n",
    "    time='0-6:00:00',\n",
    "    \n",
    "    # tensorboard\n",
    "    login_node='login-2'\n",
    ")\n",
    "\n",
    "args = ' '.join([f'--{k} {v}' for k,v in hparams.items()])\n",
    "\n",
    "print(f'python train.py {args}')"
   ]
  },
  {
   "cell_type": "code",
   "execution_count": 4,
   "metadata": {},
   "outputs": [
    {
     "name": "stdout",
     "output_type": "stream",
     "text": [
      "Writing 'slurm' (str) to file 'submit.sh'.\n",
      "Submitted batch job 17931562\n"
     ]
    }
   ],
   "source": [
    "args = ' '.join([f'--{k} {v}' for k,v in hparams.items()])\n",
    "\n",
    "#SBATCH --signal=SIGUSR1@90\n",
    "\n",
    "slurm = f'''#!/bin/bash -l \n",
    "\n",
    "#SBATCH --nodes={hparams['num_nodes']}\n",
    "#SBATCH --gres=gpu:volta:{hparams['num_gpus']}\n",
    "#SBATCH --ntasks-per-node={max(1,hparams['num_gpus'])}\n",
    "#SBATCH --cpus-per-task={hparams['num_cpus']}\n",
    "#SBATCH --time={hparams['time']}\n",
    "\n",
    "source activate {hparams['conda_env']}\n",
    "''' + '''\n",
    "export NCCL_DEBUG=INFO\n",
    "export PYTHONFAULTHANDLER=1\n",
    "\n",
    "# Set some environment variables needed by torch.distributed \n",
    "export MASTER_ADDR=$(hostname -s)\n",
    "# Get unused port\n",
    "export MASTER_PORT=$(python -c 'import socket; s=socket.socket(); s.bind((\"\", 0)); print(s.getsockname()[1]); s.close()')\n",
    "\n",
    "echo \"MASTER_ADDR : ${MASTER_ADDR}\"\n",
    "echo \"MASTER_PORT : ${MASTER_PORT}\"\n",
    "''' + f'''\n",
    "srun python train.py {args}\n",
    "'''\n",
    "\n",
    "%store slurm >submit.sh\n",
    "\n",
    "!sbatch submit.sh"
   ]
  },
  {
   "cell_type": "code",
   "execution_count": 5,
   "metadata": {},
   "outputs": [
    {
     "name": "stderr",
     "output_type": "stream",
     "text": [
      "/home/gridsan/mmurphy/.conda/envs/MSPretraining/lib/python3.9/site-packages/tqdm/auto.py:22: TqdmWarning: IProgress not found. Please update jupyter and ipywidgets. See https://ipywidgets.readthedocs.io/en/stable/user_install.html\n",
      "  from .autonotebook import tqdm as notebook_tqdm\n",
      "Warning: No xauth data; using fake authentication data for X11 forwarding.\n"
     ]
    }
   ],
   "source": [
    "from src.torch_helpers import start_tensorboard\n",
    "\n",
    "start_tensorboard(login_node=hparams['login_node'])"
   ]
  },
  {
   "cell_type": "code",
   "execution_count": 6,
   "metadata": {},
   "outputs": [],
   "source": [
    "from src.datamodule import MSDataModule\n",
    "from src.model import MSTransformer\n",
    "\n",
    "dm = MSDataModule(**hparams)"
   ]
  },
  {
   "cell_type": "code",
   "execution_count": 7,
   "metadata": {},
   "outputs": [
    {
     "name": "stderr",
     "output_type": "stream",
     "text": [
      "Global seed set to 0\n",
      "Multiprocessing is handled by SLURM.\n",
      "GPU available: True, used: True\n",
      "TPU available: False, using: 0 TPU cores\n",
      "IPU available: False, using: 0 IPUs\n",
      "HPU available: False, using: 0 HPUs\n",
      "LOCAL_RANK: 0 - CUDA_VISIBLE_DEVICES: [GPU-e91346e0-e1f6-d9db-c10a-b5cbec743177]\n",
      "\n",
      "  | Name      | Type         | Params\n",
      "-------------------------------------------\n",
      "0 | x_encoder | ByteNet      | 603 K \n",
      "1 | y_encoder | ByteNet      | 604 K \n",
      "2 | conv1     | MaskedConv1d | 32.9 K\n",
      "3 | relu      | ReLU         | 0     \n",
      "4 | conv2     | MaskedConv1d | 3.1 K \n",
      "-------------------------------------------\n",
      "1.2 M     Trainable params\n",
      "0         Non-trainable params\n",
      "1.2 M     Total params\n",
      "4.977     Total estimated model params size (MB)\n",
      "SLURM auto-requeueing enabled. Setting signal handlers.\n"
     ]
    },
    {
     "name": "stdout",
     "output_type": "stream",
     "text": [
      "Epoch 0:   2%|▏         | 111/5234 [00:21<16:29,  5.18it/s, loss=2.73, v_num=1.79e+7] "
     ]
    },
    {
     "name": "stderr",
     "output_type": "stream",
     "text": [
      "/home/gridsan/mmurphy/.conda/envs/MSPretraining/lib/python3.9/site-packages/pytorch_lightning/trainer/trainer.py:727: UserWarning: Detected KeyboardInterrupt, attempting graceful shutdown...\n",
      "  rank_zero_warn(\"Detected KeyboardInterrupt, attempting graceful shutdown...\")\n"
     ]
    }
   ],
   "source": [
    "import torch\n",
    "from pytorch_lightning import Trainer, seed_everything\n",
    "from pytorch_lightning.callbacks import ModelCheckpoint\n",
    "from pytorch_lightning.callbacks.early_stopping import EarlyStopping\n",
    "from src.torch_helpers import NoValProgressBar\n",
    "\n",
    "seed_everything(hparams['random_state'], workers=True)\n",
    "\n",
    "# torch.autograd.set_detect_anomaly(True) \n",
    "\n",
    "model = MSTransformer(**hparams)\n",
    "\n",
    "!rm -rf ./lightning_logs/version_$SLURM_JOBID\n",
    "\n",
    "trainer = Trainer(\n",
    "    gpus=1,\n",
    "    precision=hparams['precision'],\n",
    "#     val_check_interval=hparams['val_check_interval'],\n",
    "    max_epochs=1000,\n",
    "    max_time=\"00:6:00:00\",\n",
    "    callbacks=[\n",
    "#         EarlyStopping(\n",
    "#             monitor=hparams['es_monitor'],\n",
    "#             mode=hparams['es_mode'],\n",
    "#             patience=hparams['es_patience']\n",
    "#         ),\n",
    "        NoValProgressBar(),\n",
    "        ModelCheckpoint(\n",
    "            monitor=hparams['es_monitor'],\n",
    "            mode=hparams['es_mode'],\n",
    "            save_top_k=1,\n",
    "            filename='{epoch}-{step}-best'\n",
    "        )\n",
    "    ]\n",
    ")\n",
    "\n",
    "trainer.fit(model, dm)\n",
    "\n",
    "# rename it"
   ]
  },
  {
   "cell_type": "code",
   "execution_count": 8,
   "metadata": {},
   "outputs": [],
   "source": [
    "# from tqdm import tqdm\n",
    "# train_seqs = {item['sequence'] for item,_ in tqdm(zip(dm.train_dataset,range(1000)),position=0)}\n",
    "# val_seqs = {item['sequence'] for item,_ in tqdm(zip(dm.val_dataset,range(1000)),position=0)}\n",
    "# test_seqs = {item['sequence'] for item,_ in tqdm(zip(dm.test_dataset,range(1000)),position=0)}\n",
    "# train_seqs&val_seqs, train_seqs&test_seqs, test_seqs&val_seqs"
   ]
  },
  {
   "cell_type": "code",
   "execution_count": 9,
   "metadata": {},
   "outputs": [],
   "source": [
    "# from src.datamodule import MSDataModule\n",
    "# from src.model import MSTransformer\n",
    "# from src.plotting import faststem\n",
    "# from src.spectrum import fragment_mz_tensor\n",
    "# from tqdm import tqdm\n",
    "\n",
    "# # [last_ckpt] = !ls -t1 ./lightning_logs/*/checkpoints/*.ckpt | head -n1\n",
    "# # print(last_ckpt)\n",
    "# # model = MSTransformer.load_from_checkpoint(last_ckpt)\n",
    "# # dm = MSDataModule(**dict(model.hparams))\n",
    "\n",
    "# dm.setup()\n",
    "\n",
    "# model = model.cpu()\n",
    "# model.eval();\n",
    "\n",
    "# for i, batch in enumerate(dm.predict_dataloader()):\n",
    "#     batch['y_pred'] = model.predict_step(batch)\n",
    "\n",
    "#     mz = fragment_mz_tensor(batch['sequence'][0]).ravel()\n",
    "#     y = batch['y'][0].detach().cpu().numpy().ravel()\n",
    "#     y_pred = batch['y_pred'][0].detach().cpu().numpy().ravel()\n",
    "    \n",
    "#     plt.figure(figsize=(6,3))\n",
    "#     faststem(mz,y)\n",
    "#     faststem(mz,-y_pred)\n",
    "#     yl = max(np.abs(plt.ylim()))\n",
    "#     plt.ylim([-yl,yl])\n",
    "#     plt.title(f\"{batch['sequence'][0]} {batch['charge'][0]}+\")\n",
    "    \n",
    "#     if i == 10:\n",
    "#         break"
   ]
  },
  {
   "cell_type": "code",
   "execution_count": 10,
   "metadata": {},
   "outputs": [],
   "source": [
    "# the CNN does not shrink unseen peaks to zero, while the transformer does"
   ]
  }
 ],
 "metadata": {
  "kernelspec": {
   "display_name": "Python [conda env:.conda-MSPretraining]",
   "language": "python",
   "name": "conda-env-.conda-MSPretraining-py"
  },
  "language_info": {
   "codemirror_mode": {
    "name": "ipython",
    "version": 3
   },
   "file_extension": ".py",
   "mimetype": "text/x-python",
   "name": "python",
   "nbconvert_exporter": "python",
   "pygments_lexer": "ipython3",
   "version": "3.9.12"
  },
  "toc-autonumbering": false
 },
 "nbformat": 4,
 "nbformat_minor": 4
}
