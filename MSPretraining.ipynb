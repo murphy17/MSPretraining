{
 "cells": [
  {
   "cell_type": "code",
   "execution_count": 1,
   "metadata": {},
   "outputs": [],
   "source": [
    "import numpy as np\n",
    "import numpy.random as npr\n",
    "import pandas as pd\n",
    "import matplotlib.pyplot as plt\n",
    "import seaborn as sns\n",
    "%config InlineBackend.figure_format = 'retina'"
   ]
  },
  {
   "cell_type": "code",
   "execution_count": 2,
   "metadata": {},
   "outputs": [],
   "source": [
    "%load_ext autoreload\n",
    "%autoreload 2"
   ]
  },
  {
   "cell_type": "markdown",
   "metadata": {},
   "source": [
    "- Stratify negatives by sequence length\n",
    "\n",
    "- Marginalize out fragment types"
   ]
  },
  {
   "cell_type": "code",
   "execution_count": 16,
   "metadata": {},
   "outputs": [],
   "source": [
    "hparams = dict(\n",
    "    # datamodule\n",
    "    hdf_path='./data/ProteomeTools.hdf',\n",
    "    batch_size=1024,\n",
    "    train_val_split=0.9,\n",
    "    cdhit_threshold=0.5,\n",
    "    cdhit_word_length=3,\n",
    "    tmp_env='TMPDIR',\n",
    "    num_workers=20,\n",
    "    random_state=0,\n",
    "    \n",
    "    # model\n",
    "    model_dim=256,\n",
    "    model_depth=4,\n",
    "    num_heads=4,\n",
    "    lr=1e-4,\n",
    "    dropout=0.1, \n",
    "    max_length=100,\n",
    "    temperature=1.0,\n",
    "    negative_sampling=True,\n",
    "\n",
    "    # trainer\n",
    "    num_gpus=1,\n",
    "    max_epochs=100,\n",
    "    precision=32,\n",
    "    strategy='ddp',\n",
    "    \n",
    "    # cluster\n",
    "    num_nodes=4,\n",
    "    num_cpus=20,\n",
    "    conda_env='MSPretraining',\n",
    "    time='0-24:00:00',\n",
    "    \n",
    "    # tensorboard\n",
    "    login_node='login-2'\n",
    ")"
   ]
  },
  {
   "cell_type": "code",
   "execution_count": 17,
   "metadata": {},
   "outputs": [
    {
     "name": "stdout",
     "output_type": "stream",
     "text": [
      "Writing 'slurm' (str) to file 'submit.sh'.\n"
     ]
    }
   ],
   "source": [
    "args = ' '.join([f'--{k} {v}' for k,v in hparams.items()])\n",
    "\n",
    "## SBATCH --signal=SIGUSR1@90\n",
    "\n",
    "slurm = f'''#!/bin/bash -l \n",
    "\n",
    "#SBATCH --nodes={hparams['num_nodes']}\n",
    "#SBATCH --gres=gpu:volta:{hparams['num_gpus']}\n",
    "#SBATCH --ntasks-per-node={max(1,hparams['num_gpus'])}\n",
    "#SBATCH --cpus-per-task={hparams['num_cpus']}\n",
    "#SBATCH --time={hparams['time']}\n",
    "\n",
    "source activate {hparams['conda_env']}\n",
    "''' + '''\n",
    "export NCCL_DEBUG=INFO\n",
    "export PYTHONFAULTHANDLER=1\n",
    "\n",
    "# Set some environment variables needed by torch.distributed \n",
    "export MASTER_ADDR=$(hostname -s)\n",
    "# Get unused port\n",
    "export MASTER_PORT=$(python -c 'import socket; s=socket.socket(); s.bind((\"\", 0)); print(s.getsockname()[1]); s.close()')\n",
    "\n",
    "echo \"MASTER_ADDR : ${MASTER_ADDR}\"\n",
    "echo \"MASTER_PORT : ${MASTER_PORT}\"\n",
    "''' + f'''\n",
    "srun python train.py {args}\n",
    "'''\n",
    "\n",
    "%store slurm >submit.sh"
   ]
  },
  {
   "cell_type": "code",
   "execution_count": 18,
   "metadata": {},
   "outputs": [
    {
     "name": "stdout",
     "output_type": "stream",
     "text": [
      "Submitted batch job 16627573\n"
     ]
    }
   ],
   "source": [
    "!sbatch submit.sh"
   ]
  },
  {
   "cell_type": "code",
   "execution_count": null,
   "metadata": {},
   "outputs": [],
   "source": [
    "from src.torch_helpers import start_tensorboard\n",
    "\n",
    "start_tensorboard(login_node=hparams['login_node'])"
   ]
  },
  {
   "cell_type": "code",
   "execution_count": 6,
   "metadata": {},
   "outputs": [
    {
     "name": "stderr",
     "output_type": "stream",
     "text": [
      "/home/gridsan/mmurphy/.conda/envs/MSPretraining/lib/python3.9/site-packages/tqdm/auto.py:22: TqdmWarning: IProgress not found. Please update jupyter and ipywidgets. See https://ipywidgets.readthedocs.io/en/stable/user_install.html\n",
      "  from .autonotebook import tqdm as notebook_tqdm\n"
     ]
    }
   ],
   "source": [
    "from src.datamodule import MSDataModule\n",
    "from src.model import MSTransformer\n",
    "\n",
    "# [last_ckpt] = !ls -t1 ./lightning_logs/large/checkpoints/*.ckpt | head -n1\n",
    "# print(last_ckpt)\n",
    "\n",
    "# model = MSTransformer.load_from_checkpoint(last_ckpt)\n",
    "model = MSTransformer(**hparams)\n",
    "dm = MSDataModule(**dict(model.hparams))\n",
    "\n",
    "dm.setup()\n",
    "# model = model.cpu()\n",
    "# model.eval();"
   ]
  },
  {
   "cell_type": "code",
   "execution_count": null,
   "metadata": {},
   "outputs": [],
   "source": [
    "# from pytorch_lightning import Trainer\n",
    "\n",
    "# trainer = Trainer(\n",
    "#     gpus=0,\n",
    "#     precision=32\n",
    "# )\n",
    "\n",
    "# trainer.fit(model, dm)"
   ]
  }
 ],
 "metadata": {
  "kernelspec": {
   "display_name": "Python [conda env:.conda-MSPretraining]",
   "language": "python",
   "name": "conda-env-.conda-MSPretraining-py"
  },
  "language_info": {
   "codemirror_mode": {
    "name": "ipython",
    "version": 3
   },
   "file_extension": ".py",
   "mimetype": "text/x-python",
   "name": "python",
   "nbconvert_exporter": "python",
   "pygments_lexer": "ipython3",
   "version": "3.9.7"
  },
  "toc-autonumbering": false
 },
 "nbformat": 4,
 "nbformat_minor": 4
}
